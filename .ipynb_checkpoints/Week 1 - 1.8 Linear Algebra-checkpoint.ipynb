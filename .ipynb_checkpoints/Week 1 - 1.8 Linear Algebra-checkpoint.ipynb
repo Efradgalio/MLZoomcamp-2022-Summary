{
 "cells": [
  {
   "cell_type": "markdown",
   "id": "2aefb31e",
   "metadata": {},
   "source": [
    "# Linear Algebra"
   ]
  },
  {
   "cell_type": "code",
   "execution_count": 1,
   "id": "961f4c87",
   "metadata": {
    "ExecuteTime": {
     "end_time": "2022-09-11T01:56:31.666465Z",
     "start_time": "2022-09-11T01:56:31.251454Z"
    }
   },
   "outputs": [],
   "source": [
    "import numpy as np"
   ]
  },
  {
   "cell_type": "markdown",
   "id": "9bdafd25",
   "metadata": {},
   "source": [
    "# Vector operations"
   ]
  },
  {
   "cell_type": "code",
   "execution_count": 2,
   "id": "f359d4a7",
   "metadata": {
    "ExecuteTime": {
     "end_time": "2022-09-11T01:56:31.689360Z",
     "start_time": "2022-09-11T01:56:31.668647Z"
    }
   },
   "outputs": [
    {
     "data": {
      "text/plain": [
       "array([ 5, 11, 13, 12])"
      ]
     },
     "execution_count": 2,
     "metadata": {},
     "output_type": "execute_result"
    }
   ],
   "source": [
    "u = np.array([2, 7, 5, 6])\n",
    "v = np.array([3, 4, 8, 6])\n",
    "\n",
    "# addition \n",
    "u + v"
   ]
  },
  {
   "cell_type": "code",
   "execution_count": 3,
   "id": "4a87495f",
   "metadata": {
    "ExecuteTime": {
     "end_time": "2022-09-11T01:56:31.703861Z",
     "start_time": "2022-09-11T01:56:31.691161Z"
    }
   },
   "outputs": [
    {
     "data": {
      "text/plain": [
       "array([-1,  3, -3,  0])"
      ]
     },
     "execution_count": 3,
     "metadata": {},
     "output_type": "execute_result"
    }
   ],
   "source": [
    "# subtraction \n",
    "u - v"
   ]
  },
  {
   "cell_type": "code",
   "execution_count": 4,
   "id": "ac55f25b",
   "metadata": {
    "ExecuteTime": {
     "end_time": "2022-09-11T01:56:31.828817Z",
     "start_time": "2022-09-11T01:56:31.812974Z"
    }
   },
   "outputs": [
    {
     "data": {
      "text/plain": [
       "array([ 6,  8, 16, 12])"
      ]
     },
     "execution_count": 4,
     "metadata": {},
     "output_type": "execute_result"
    }
   ],
   "source": [
    "# scalar multiplication \n",
    "2 * v"
   ]
  },
  {
   "cell_type": "markdown",
   "id": "a2e7c392",
   "metadata": {},
   "source": [
    "# Multiplication"
   ]
  },
  {
   "cell_type": "markdown",
   "id": "70973e45",
   "metadata": {},
   "source": [
    "## Vector-vector multiplication"
   ]
  },
  {
   "cell_type": "code",
   "execution_count": 5,
   "id": "3db34977",
   "metadata": {
    "ExecuteTime": {
     "end_time": "2022-09-11T01:56:32.269952Z",
     "start_time": "2022-09-11T01:56:32.251807Z"
    }
   },
   "outputs": [],
   "source": [
    "def vector_vector_multiplication(u, v):\n",
    "    assert u.shape[0] == v.shape[0]\n",
    "    \n",
    "    n = u.shape[0]\n",
    "    \n",
    "    result = 0.0\n",
    "    \n",
    "    for i in range(n):\n",
    "        result = result + u[i] * v[i]\n",
    "    return result"
   ]
  },
  {
   "cell_type": "code",
   "execution_count": 6,
   "id": "63e3f0b6",
   "metadata": {
    "ExecuteTime": {
     "end_time": "2022-09-11T01:56:32.473371Z",
     "start_time": "2022-09-11T01:56:32.451012Z"
    }
   },
   "outputs": [
    {
     "data": {
      "text/plain": [
       "4"
      ]
     },
     "execution_count": 6,
     "metadata": {},
     "output_type": "execute_result"
    }
   ],
   "source": [
    "u.shape[0]"
   ]
  },
  {
   "cell_type": "code",
   "execution_count": 7,
   "id": "ce0f945a",
   "metadata": {
    "ExecuteTime": {
     "end_time": "2022-09-11T01:56:32.807988Z",
     "start_time": "2022-09-11T01:56:32.792365Z"
    }
   },
   "outputs": [
    {
     "data": {
      "text/plain": [
       "(4,)"
      ]
     },
     "execution_count": 7,
     "metadata": {},
     "output_type": "execute_result"
    }
   ],
   "source": [
    "v.shape"
   ]
  },
  {
   "cell_type": "code",
   "execution_count": 8,
   "id": "7bf1678d",
   "metadata": {
    "ExecuteTime": {
     "end_time": "2022-09-11T01:56:33.170466Z",
     "start_time": "2022-09-11T01:56:33.146559Z"
    }
   },
   "outputs": [
    {
     "data": {
      "text/plain": [
       "110.0"
      ]
     },
     "execution_count": 8,
     "metadata": {},
     "output_type": "execute_result"
    }
   ],
   "source": [
    "vector_vector_multiplication(u,v)"
   ]
  },
  {
   "cell_type": "code",
   "execution_count": 9,
   "id": "fc811fa4",
   "metadata": {
    "ExecuteTime": {
     "end_time": "2022-09-11T01:56:33.512009Z",
     "start_time": "2022-09-11T01:56:33.502570Z"
    }
   },
   "outputs": [
    {
     "data": {
      "text/plain": [
       "110"
      ]
     },
     "execution_count": 9,
     "metadata": {},
     "output_type": "execute_result"
    }
   ],
   "source": [
    "u.dot(v)"
   ]
  },
  {
   "cell_type": "markdown",
   "id": "6f7b93d4",
   "metadata": {},
   "source": [
    "## Matrix-vector multiplication"
   ]
  },
  {
   "cell_type": "code",
   "execution_count": 10,
   "id": "8d1ea82b",
   "metadata": {
    "ExecuteTime": {
     "end_time": "2022-09-11T01:56:34.303217Z",
     "start_time": "2022-09-11T01:56:34.275363Z"
    }
   },
   "outputs": [],
   "source": [
    "U = np.array([\n",
    "    [2, 4, 5, 6],\n",
    "    [1, 2, 1, 2],\n",
    "    [3, 1, 2, 1],\n",
    "])"
   ]
  },
  {
   "cell_type": "code",
   "execution_count": 11,
   "id": "4f40c53d",
   "metadata": {
    "ExecuteTime": {
     "end_time": "2022-09-11T01:56:34.510931Z",
     "start_time": "2022-09-11T01:56:34.507333Z"
    }
   },
   "outputs": [
    {
     "data": {
      "text/plain": [
       "(3, 4)"
      ]
     },
     "execution_count": 11,
     "metadata": {},
     "output_type": "execute_result"
    }
   ],
   "source": [
    "U.shape"
   ]
  },
  {
   "cell_type": "code",
   "execution_count": 15,
   "id": "825b7559",
   "metadata": {
    "ExecuteTime": {
     "end_time": "2022-09-11T01:56:57.332605Z",
     "start_time": "2022-09-11T01:56:57.323222Z"
    }
   },
   "outputs": [],
   "source": [
    "def matrix_vector_multiplication(u,v):\n",
    "    assert u.shape[1] == v.shape[0]\n",
    "    \n",
    "    num_rows = u.shape[0]\n",
    "    \n",
    "    result = np.zeros(num_rows)\n",
    "    \n",
    "    for i in range(num_rows):\n",
    "        result[i] = vector_vector_multiplication(u[i], v)\n",
    "        \n",
    "    return result"
   ]
  },
  {
   "cell_type": "code",
   "execution_count": 13,
   "id": "8447e7a3",
   "metadata": {
    "ExecuteTime": {
     "end_time": "2022-09-11T01:56:35.450979Z",
     "start_time": "2022-09-11T01:56:35.435922Z"
    }
   },
   "outputs": [
    {
     "data": {
      "text/plain": [
       "array([98., 31., 35.])"
      ]
     },
     "execution_count": 13,
     "metadata": {},
     "output_type": "execute_result"
    }
   ],
   "source": [
    "matrix_vector_multiplication(U, v)"
   ]
  },
  {
   "cell_type": "code",
   "execution_count": 14,
   "id": "09dc3552",
   "metadata": {
    "ExecuteTime": {
     "end_time": "2022-09-11T01:56:35.713940Z",
     "start_time": "2022-09-11T01:56:35.705978Z"
    }
   },
   "outputs": [
    {
     "data": {
      "text/plain": [
       "array([98, 31, 35])"
      ]
     },
     "execution_count": 14,
     "metadata": {},
     "output_type": "execute_result"
    }
   ],
   "source": [
    "U.dot(v)"
   ]
  },
  {
   "cell_type": "markdown",
   "id": "b2a6d6a2",
   "metadata": {},
   "source": [
    "## Matrix-matrix multiplication"
   ]
  },
  {
   "cell_type": "code",
   "execution_count": 29,
   "id": "e323a878",
   "metadata": {
    "ExecuteTime": {
     "end_time": "2022-09-11T02:03:13.195179Z",
     "start_time": "2022-09-11T02:03:13.183996Z"
    }
   },
   "outputs": [],
   "source": [
    "U = np.array([\n",
    "    [2, 4, 5],\n",
    "    [1, 2, 1],\n",
    "    [3, 1, 2],\n",
    "])"
   ]
  },
  {
   "cell_type": "code",
   "execution_count": 30,
   "id": "517cabf3",
   "metadata": {
    "ExecuteTime": {
     "end_time": "2022-09-11T02:03:13.492361Z",
     "start_time": "2022-09-11T02:03:13.468548Z"
    }
   },
   "outputs": [],
   "source": [
    "V = np.array([\n",
    "    [2, 4, 5, 6],\n",
    "    [1, 2, 1, 2],\n",
    "    [3, 1, 2, 1],\n",
    "])"
   ]
  },
  {
   "cell_type": "code",
   "execution_count": 31,
   "id": "33b83dc0",
   "metadata": {
    "ExecuteTime": {
     "end_time": "2022-09-11T02:03:13.828186Z",
     "start_time": "2022-09-11T02:03:13.804931Z"
    }
   },
   "outputs": [
    {
     "data": {
      "text/plain": [
       "(3, 3)"
      ]
     },
     "execution_count": 31,
     "metadata": {},
     "output_type": "execute_result"
    }
   ],
   "source": [
    "U.shape[1], V.shape[0]"
   ]
  },
  {
   "cell_type": "code",
   "execution_count": 32,
   "id": "79c1394b",
   "metadata": {
    "ExecuteTime": {
     "end_time": "2022-09-11T02:03:14.387207Z",
     "start_time": "2022-09-11T02:03:14.379801Z"
    }
   },
   "outputs": [],
   "source": [
    "def matrix_matrix_multiplication(u,v):\n",
    "    assert u.shape[1] == v.shape[0]\n",
    "    \n",
    "    num_rows = u.shape[0]\n",
    "    num_cols = v.shape[1]\n",
    "    \n",
    "    result = np.zeros((num_rows, num_cols))\n",
    "    \n",
    "    for i in range(num_cols):\n",
    "        vi = v[:,i]\n",
    "        uvi = matrix_vector_multiplication(u, vi)\n",
    "        result[:,i] = uvi\n",
    "    \n",
    "    return result"
   ]
  },
  {
   "cell_type": "code",
   "execution_count": 33,
   "id": "5a42dde1",
   "metadata": {
    "ExecuteTime": {
     "end_time": "2022-09-11T02:03:16.312311Z",
     "start_time": "2022-09-11T02:03:16.303311Z"
    }
   },
   "outputs": [
    {
     "data": {
      "text/plain": [
       "array([[23., 21., 24., 25.],\n",
       "       [ 7.,  9.,  9., 11.],\n",
       "       [13., 16., 20., 22.]])"
      ]
     },
     "execution_count": 33,
     "metadata": {},
     "output_type": "execute_result"
    }
   ],
   "source": [
    "matrix_matrix_multiplication(U,V)"
   ]
  },
  {
   "cell_type": "code",
   "execution_count": 34,
   "id": "78d9b885",
   "metadata": {
    "ExecuteTime": {
     "end_time": "2022-09-11T02:03:33.831789Z",
     "start_time": "2022-09-11T02:03:33.818451Z"
    }
   },
   "outputs": [
    {
     "data": {
      "text/plain": [
       "array([[23, 21, 24, 25],\n",
       "       [ 7,  9,  9, 11],\n",
       "       [13, 16, 20, 22]])"
      ]
     },
     "execution_count": 34,
     "metadata": {},
     "output_type": "execute_result"
    }
   ],
   "source": [
    "U.dot(V)"
   ]
  },
  {
   "cell_type": "markdown",
   "id": "2c9999ca",
   "metadata": {},
   "source": [
    "# Identity matrix"
   ]
  },
  {
   "cell_type": "code",
   "execution_count": 38,
   "id": "ddb8190e",
   "metadata": {
    "ExecuteTime": {
     "end_time": "2022-09-11T02:06:54.518708Z",
     "start_time": "2022-09-11T02:06:54.510804Z"
    }
   },
   "outputs": [],
   "source": [
    "I = np.eye(4)"
   ]
  },
  {
   "cell_type": "code",
   "execution_count": 40,
   "id": "8bea0799",
   "metadata": {
    "ExecuteTime": {
     "end_time": "2022-09-11T02:07:03.901271Z",
     "start_time": "2022-09-11T02:07:03.881865Z"
    }
   },
   "outputs": [
    {
     "data": {
      "text/plain": [
       "array([[2, 4, 5, 6],\n",
       "       [1, 2, 1, 2],\n",
       "       [3, 1, 2, 1]])"
      ]
     },
     "execution_count": 40,
     "metadata": {},
     "output_type": "execute_result"
    }
   ],
   "source": [
    "V"
   ]
  },
  {
   "cell_type": "code",
   "execution_count": 39,
   "id": "eb2c77be",
   "metadata": {
    "ExecuteTime": {
     "end_time": "2022-09-11T02:06:54.805963Z",
     "start_time": "2022-09-11T02:06:54.776872Z"
    }
   },
   "outputs": [
    {
     "data": {
      "text/plain": [
       "array([[2., 4., 5., 6.],\n",
       "       [1., 2., 1., 2.],\n",
       "       [3., 1., 2., 1.]])"
      ]
     },
     "execution_count": 39,
     "metadata": {},
     "output_type": "execute_result"
    }
   ],
   "source": [
    "V.dot(I)"
   ]
  },
  {
   "cell_type": "markdown",
   "id": "eb1906fa",
   "metadata": {},
   "source": [
    "# Inverse"
   ]
  },
  {
   "cell_type": "code",
   "execution_count": 51,
   "id": "e3edb5f0",
   "metadata": {
    "ExecuteTime": {
     "end_time": "2022-09-11T02:10:23.795084Z",
     "start_time": "2022-09-11T02:10:23.791012Z"
    }
   },
   "outputs": [],
   "source": [
    "Vs = np.array([[1, 1, 2],\n",
    "              [0, 0.5, 1],\n",
    "              [0, 2, 1]])"
   ]
  },
  {
   "cell_type": "code",
   "execution_count": 52,
   "id": "6d674dca",
   "metadata": {
    "ExecuteTime": {
     "end_time": "2022-09-11T02:10:24.242382Z",
     "start_time": "2022-09-11T02:10:24.207251Z"
    }
   },
   "outputs": [
    {
     "data": {
      "text/plain": [
       "array([[ 1.        , -2.        ,  0.        ],\n",
       "       [ 0.        , -0.66666667,  0.66666667],\n",
       "       [ 0.        ,  1.33333333, -0.33333333]])"
      ]
     },
     "execution_count": 52,
     "metadata": {},
     "output_type": "execute_result"
    }
   ],
   "source": [
    "Vs_inv = np.linalg.inv(Vs)\n",
    "Vs_inv"
   ]
  },
  {
   "cell_type": "code",
   "execution_count": 53,
   "id": "e6976d69",
   "metadata": {
    "ExecuteTime": {
     "end_time": "2022-09-11T02:10:34.483807Z",
     "start_time": "2022-09-11T02:10:34.469728Z"
    }
   },
   "outputs": [
    {
     "data": {
      "text/plain": [
       "array([[1., 0., 0.],\n",
       "       [0., 1., 0.],\n",
       "       [0., 0., 1.]])"
      ]
     },
     "execution_count": 53,
     "metadata": {},
     "output_type": "execute_result"
    }
   ],
   "source": [
    "Vs_inv.dot(Vs)"
   ]
  }
 ],
 "metadata": {
  "kernelspec": {
   "display_name": "Python 3 (ipykernel)",
   "language": "python",
   "name": "python3"
  },
  "language_info": {
   "codemirror_mode": {
    "name": "ipython",
    "version": 3
   },
   "file_extension": ".py",
   "mimetype": "text/x-python",
   "name": "python",
   "nbconvert_exporter": "python",
   "pygments_lexer": "ipython3",
   "version": "3.9.7"
  },
  "toc": {
   "base_numbering": 1,
   "nav_menu": {},
   "number_sections": true,
   "sideBar": true,
   "skip_h1_title": false,
   "title_cell": "Table of Contents",
   "title_sidebar": "Contents",
   "toc_cell": false,
   "toc_position": {
    "height": "calc(100% - 180px)",
    "left": "10px",
    "top": "150px",
    "width": "225.825px"
   },
   "toc_section_display": true,
   "toc_window_display": true
  }
 },
 "nbformat": 4,
 "nbformat_minor": 5
}
