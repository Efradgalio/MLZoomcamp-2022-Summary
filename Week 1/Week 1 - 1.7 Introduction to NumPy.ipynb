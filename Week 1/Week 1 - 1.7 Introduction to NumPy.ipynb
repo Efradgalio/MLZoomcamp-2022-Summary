{
 "cells": [
  {
   "cell_type": "markdown",
   "id": "598deb80",
   "metadata": {},
   "source": [
    "# Hands On"
   ]
  },
  {
   "cell_type": "code",
   "execution_count": 1,
   "id": "06810547",
   "metadata": {
    "ExecuteTime": {
     "end_time": "2022-09-10T11:45:23.218091Z",
     "start_time": "2022-09-10T11:45:22.962161Z"
    }
   },
   "outputs": [],
   "source": [
    "import numpy as np"
   ]
  },
  {
   "cell_type": "code",
   "execution_count": 2,
   "id": "686d1a68",
   "metadata": {
    "ExecuteTime": {
     "end_time": "2022-09-10T11:45:41.157662Z",
     "start_time": "2022-09-10T11:45:41.140314Z"
    }
   },
   "outputs": [
    {
     "data": {
      "text/plain": [
       "<module 'numpy' from 'C:\\\\Users\\\\Frags\\\\anaconda3\\\\lib\\\\site-packages\\\\numpy\\\\__init__.py'>"
      ]
     },
     "execution_count": 2,
     "metadata": {},
     "output_type": "execute_result"
    }
   ],
   "source": [
    "np"
   ]
  },
  {
   "cell_type": "markdown",
   "id": "73c0ecea",
   "metadata": {},
   "source": [
    "# Creating arrays"
   ]
  },
  {
   "cell_type": "code",
   "execution_count": 3,
   "id": "7da8ae1b",
   "metadata": {
    "ExecuteTime": {
     "end_time": "2022-09-10T11:46:57.952029Z",
     "start_time": "2022-09-10T11:46:57.930935Z"
    }
   },
   "outputs": [
    {
     "data": {
      "text/plain": [
       "array([0., 0., 0., 0., 0.])"
      ]
     },
     "execution_count": 3,
     "metadata": {},
     "output_type": "execute_result"
    }
   ],
   "source": [
    "np.zeros(5)"
   ]
  },
  {
   "cell_type": "code",
   "execution_count": 4,
   "id": "520c705b",
   "metadata": {
    "ExecuteTime": {
     "end_time": "2022-09-10T11:47:10.589653Z",
     "start_time": "2022-09-10T11:47:10.583654Z"
    }
   },
   "outputs": [
    {
     "data": {
      "text/plain": [
       "array([1., 1., 1., 1., 1., 1., 1., 1., 1., 1.])"
      ]
     },
     "execution_count": 4,
     "metadata": {},
     "output_type": "execute_result"
    }
   ],
   "source": [
    "np.ones(10)"
   ]
  },
  {
   "cell_type": "code",
   "execution_count": 5,
   "id": "82a78c5e",
   "metadata": {
    "ExecuteTime": {
     "end_time": "2022-09-10T11:47:25.605745Z",
     "start_time": "2022-09-10T11:47:25.593746Z"
    }
   },
   "outputs": [
    {
     "data": {
      "text/plain": [
       "array([2.5, 2.5, 2.5, 2.5, 2.5, 2.5, 2.5, 2.5, 2.5, 2.5])"
      ]
     },
     "execution_count": 5,
     "metadata": {},
     "output_type": "execute_result"
    }
   ],
   "source": [
    "np.full(10, 2.5)"
   ]
  },
  {
   "cell_type": "code",
   "execution_count": 6,
   "id": "85abae91",
   "metadata": {
    "ExecuteTime": {
     "end_time": "2022-09-10T11:48:00.932938Z",
     "start_time": "2022-09-10T11:48:00.923197Z"
    }
   },
   "outputs": [
    {
     "data": {
      "text/plain": [
       "array([ 1,  2,  3,  5,  6, 12])"
      ]
     },
     "execution_count": 6,
     "metadata": {},
     "output_type": "execute_result"
    }
   ],
   "source": [
    "a = np.array([1,2,3,5,6,12])\n",
    "a"
   ]
  },
  {
   "cell_type": "code",
   "execution_count": 7,
   "id": "090c6033",
   "metadata": {
    "ExecuteTime": {
     "end_time": "2022-09-10T11:48:08.263892Z",
     "start_time": "2022-09-10T11:48:08.245284Z"
    }
   },
   "outputs": [
    {
     "data": {
      "text/plain": [
       "3"
      ]
     },
     "execution_count": 7,
     "metadata": {},
     "output_type": "execute_result"
    }
   ],
   "source": [
    "a[2]"
   ]
  },
  {
   "cell_type": "code",
   "execution_count": 8,
   "id": "a877b3c6",
   "metadata": {
    "ExecuteTime": {
     "end_time": "2022-09-10T11:48:23.180621Z",
     "start_time": "2022-09-10T11:48:23.172876Z"
    }
   },
   "outputs": [],
   "source": [
    "a[2] = 10"
   ]
  },
  {
   "cell_type": "code",
   "execution_count": 9,
   "id": "6dabceb0",
   "metadata": {
    "ExecuteTime": {
     "end_time": "2022-09-10T11:48:24.743253Z",
     "start_time": "2022-09-10T11:48:24.734857Z"
    }
   },
   "outputs": [
    {
     "data": {
      "text/plain": [
       "array([ 1,  2, 10,  5,  6, 12])"
      ]
     },
     "execution_count": 9,
     "metadata": {},
     "output_type": "execute_result"
    }
   ],
   "source": [
    "a"
   ]
  },
  {
   "cell_type": "code",
   "execution_count": 10,
   "id": "76169643",
   "metadata": {
    "ExecuteTime": {
     "end_time": "2022-09-10T11:48:40.792594Z",
     "start_time": "2022-09-10T11:48:40.773855Z"
    }
   },
   "outputs": [
    {
     "data": {
      "text/plain": [
       "array([0, 1, 2, 3, 4, 5, 6, 7, 8, 9])"
      ]
     },
     "execution_count": 10,
     "metadata": {},
     "output_type": "execute_result"
    }
   ],
   "source": [
    "np.arange(10)"
   ]
  },
  {
   "cell_type": "code",
   "execution_count": 11,
   "id": "1db2f085",
   "metadata": {
    "ExecuteTime": {
     "end_time": "2022-09-10T11:48:53.232157Z",
     "start_time": "2022-09-10T11:48:53.225040Z"
    }
   },
   "outputs": [
    {
     "data": {
      "text/plain": [
       "array([3, 4, 5, 6, 7, 8, 9])"
      ]
     },
     "execution_count": 11,
     "metadata": {},
     "output_type": "execute_result"
    }
   ],
   "source": [
    "np.arange(3,10)"
   ]
  },
  {
   "cell_type": "code",
   "execution_count": 13,
   "id": "baba2850",
   "metadata": {
    "ExecuteTime": {
     "end_time": "2022-09-10T11:50:12.196520Z",
     "start_time": "2022-09-10T11:50:12.186958Z"
    }
   },
   "outputs": [
    {
     "data": {
      "text/plain": [
       "array([0. , 0.1, 0.2, 0.3, 0.4, 0.5, 0.6, 0.7, 0.8, 0.9, 1. ])"
      ]
     },
     "execution_count": 13,
     "metadata": {},
     "output_type": "execute_result"
    }
   ],
   "source": [
    "np.linspace(0, 1, 11)"
   ]
  },
  {
   "cell_type": "code",
   "execution_count": 14,
   "id": "8a4726df",
   "metadata": {
    "ExecuteTime": {
     "end_time": "2022-09-10T11:51:11.835454Z",
     "start_time": "2022-09-10T11:51:11.820246Z"
    }
   },
   "outputs": [
    {
     "data": {
      "text/plain": [
       "array([  0.,  10.,  20.,  30.,  40.,  50.,  60.,  70.,  80.,  90., 100.])"
      ]
     },
     "execution_count": 14,
     "metadata": {},
     "output_type": "execute_result"
    }
   ],
   "source": [
    "np.linspace(0, 100, 11)"
   ]
  },
  {
   "cell_type": "markdown",
   "id": "bf0167d6",
   "metadata": {},
   "source": [
    "# Multi-dimenational arrays"
   ]
  },
  {
   "cell_type": "code",
   "execution_count": 15,
   "id": "62848f75",
   "metadata": {
    "ExecuteTime": {
     "end_time": "2022-09-10T11:52:09.191079Z",
     "start_time": "2022-09-10T11:52:09.185226Z"
    }
   },
   "outputs": [
    {
     "data": {
      "text/plain": [
       "array([[0., 0.],\n",
       "       [0., 0.],\n",
       "       [0., 0.],\n",
       "       [0., 0.],\n",
       "       [0., 0.]])"
      ]
     },
     "execution_count": 15,
     "metadata": {},
     "output_type": "execute_result"
    }
   ],
   "source": [
    "np.zeros((5,2))"
   ]
  },
  {
   "cell_type": "code",
   "execution_count": 17,
   "id": "c8dbb559",
   "metadata": {
    "ExecuteTime": {
     "end_time": "2022-09-10T11:52:43.226322Z",
     "start_time": "2022-09-10T11:52:43.218463Z"
    }
   },
   "outputs": [],
   "source": [
    "n = np.array([\n",
    "    [1,2,3],\n",
    "    [4,5,6],\n",
    "    [7,8,9]\n",
    "])"
   ]
  },
  {
   "cell_type": "code",
   "execution_count": 19,
   "id": "5747a860",
   "metadata": {
    "ExecuteTime": {
     "end_time": "2022-09-10T11:52:54.166510Z",
     "start_time": "2022-09-10T11:52:54.159013Z"
    }
   },
   "outputs": [
    {
     "data": {
      "text/plain": [
       "array([1, 2, 3])"
      ]
     },
     "execution_count": 19,
     "metadata": {},
     "output_type": "execute_result"
    }
   ],
   "source": [
    "n[0]"
   ]
  },
  {
   "cell_type": "code",
   "execution_count": 20,
   "id": "3c66c307",
   "metadata": {
    "ExecuteTime": {
     "end_time": "2022-09-10T11:53:00.501058Z",
     "start_time": "2022-09-10T11:53:00.488274Z"
    }
   },
   "outputs": [
    {
     "data": {
      "text/plain": [
       "2"
      ]
     },
     "execution_count": 20,
     "metadata": {},
     "output_type": "execute_result"
    }
   ],
   "source": [
    "n[0][1]"
   ]
  },
  {
   "cell_type": "code",
   "execution_count": 21,
   "id": "1b57f14a",
   "metadata": {
    "ExecuteTime": {
     "end_time": "2022-09-10T11:53:15.192450Z",
     "start_time": "2022-09-10T11:53:15.181722Z"
    }
   },
   "outputs": [],
   "source": [
    "n[0][1] = 20"
   ]
  },
  {
   "cell_type": "code",
   "execution_count": 22,
   "id": "c8e75fe8",
   "metadata": {
    "ExecuteTime": {
     "end_time": "2022-09-10T11:53:16.667314Z",
     "start_time": "2022-09-10T11:53:16.655495Z"
    }
   },
   "outputs": [
    {
     "data": {
      "text/plain": [
       "array([[ 1, 20,  3],\n",
       "       [ 4,  5,  6],\n",
       "       [ 7,  8,  9]])"
      ]
     },
     "execution_count": 22,
     "metadata": {},
     "output_type": "execute_result"
    }
   ],
   "source": [
    "n"
   ]
  },
  {
   "cell_type": "code",
   "execution_count": 23,
   "id": "b05ecf17",
   "metadata": {
    "ExecuteTime": {
     "end_time": "2022-09-10T11:55:00.573593Z",
     "start_time": "2022-09-10T11:55:00.556472Z"
    }
   },
   "outputs": [
    {
     "data": {
      "text/plain": [
       "array([3, 6, 9])"
      ]
     },
     "execution_count": 23,
     "metadata": {},
     "output_type": "execute_result"
    }
   ],
   "source": [
    "n[:,2] # getting the third column"
   ]
  },
  {
   "cell_type": "markdown",
   "id": "ccffbd68",
   "metadata": {},
   "source": [
    "# Randomly generated arrays"
   ]
  },
  {
   "cell_type": "code",
   "execution_count": 26,
   "id": "accd965b",
   "metadata": {
    "ExecuteTime": {
     "end_time": "2022-09-10T11:56:30.106479Z",
     "start_time": "2022-09-10T11:56:30.098395Z"
    }
   },
   "outputs": [
    {
     "data": {
      "text/plain": [
       "array([[0.77132064, 0.02075195],\n",
       "       [0.63364823, 0.74880388],\n",
       "       [0.49850701, 0.22479665],\n",
       "       [0.19806286, 0.76053071],\n",
       "       [0.16911084, 0.08833981]])"
      ]
     },
     "execution_count": 26,
     "metadata": {},
     "output_type": "execute_result"
    }
   ],
   "source": [
    "np.random.seed(10)\n",
    "np.random.rand(5,2)"
   ]
  },
  {
   "cell_type": "code",
   "execution_count": 28,
   "id": "959c808d",
   "metadata": {
    "ExecuteTime": {
     "end_time": "2022-09-10T11:57:36.564150Z",
     "start_time": "2022-09-10T11:57:36.545690Z"
    }
   },
   "outputs": [
    {
     "data": {
      "text/plain": [
       "array([[ 1.3315865 ,  0.71527897],\n",
       "       [-1.54540029, -0.00838385],\n",
       "       [ 0.62133597, -0.72008556],\n",
       "       [ 0.26551159,  0.10854853],\n",
       "       [ 0.00429143, -0.17460021]])"
      ]
     },
     "execution_count": 28,
     "metadata": {},
     "output_type": "execute_result"
    }
   ],
   "source": [
    "np.random.seed(10)\n",
    "np.random.randn(5,2) # random from normal distributions"
   ]
  },
  {
   "cell_type": "code",
   "execution_count": 29,
   "id": "8e344672",
   "metadata": {
    "ExecuteTime": {
     "end_time": "2022-09-10T11:59:05.417812Z",
     "start_time": "2022-09-10T11:59:05.401443Z"
    }
   },
   "outputs": [
    {
     "data": {
      "text/plain": [
       "array([[ 9, 15],\n",
       "       [64, 28],\n",
       "       [89, 93],\n",
       "       [29,  8],\n",
       "       [73,  0]])"
      ]
     },
     "execution_count": 29,
     "metadata": {},
     "output_type": "execute_result"
    }
   ],
   "source": [
    "np.random.seed(10)\n",
    "np.random.randint(low=0, high=100, size=(5,2))"
   ]
  },
  {
   "cell_type": "markdown",
   "id": "4af57fb3",
   "metadata": {},
   "source": [
    "# Element-wise operations"
   ]
  },
  {
   "cell_type": "code",
   "execution_count": 30,
   "id": "6470a70d",
   "metadata": {
    "ExecuteTime": {
     "end_time": "2022-09-10T11:59:42.561295Z",
     "start_time": "2022-09-10T11:59:42.541246Z"
    }
   },
   "outputs": [
    {
     "data": {
      "text/plain": [
       "array([0, 1, 2, 3, 4])"
      ]
     },
     "execution_count": 30,
     "metadata": {},
     "output_type": "execute_result"
    }
   ],
   "source": [
    "a = np.arange(5)\n",
    "a"
   ]
  },
  {
   "cell_type": "code",
   "execution_count": 31,
   "id": "84542e19",
   "metadata": {
    "ExecuteTime": {
     "end_time": "2022-09-10T11:59:55.251297Z",
     "start_time": "2022-09-10T11:59:55.239414Z"
    }
   },
   "outputs": [
    {
     "data": {
      "text/plain": [
       "array([1, 2, 3, 4, 5])"
      ]
     },
     "execution_count": 31,
     "metadata": {},
     "output_type": "execute_result"
    }
   ],
   "source": [
    "a + 1"
   ]
  },
  {
   "cell_type": "code",
   "execution_count": 32,
   "id": "e42b5170",
   "metadata": {
    "ExecuteTime": {
     "end_time": "2022-09-10T12:00:14.605605Z",
     "start_time": "2022-09-10T12:00:14.589387Z"
    }
   },
   "outputs": [
    {
     "data": {
      "text/plain": [
       "array([0, 2, 4, 6, 8])"
      ]
     },
     "execution_count": 32,
     "metadata": {},
     "output_type": "execute_result"
    }
   ],
   "source": [
    "a * 2"
   ]
  },
  {
   "cell_type": "code",
   "execution_count": 33,
   "id": "2a3ba90c",
   "metadata": {
    "ExecuteTime": {
     "end_time": "2022-09-10T12:00:42.405418Z",
     "start_time": "2022-09-10T12:00:42.397935Z"
    }
   },
   "outputs": [
    {
     "data": {
      "text/plain": [
       "array([100, 144, 196, 256, 324], dtype=int32)"
      ]
     },
     "execution_count": 33,
     "metadata": {},
     "output_type": "execute_result"
    }
   ],
   "source": [
    "(10 + (a*2)) ** 2"
   ]
  },
  {
   "cell_type": "code",
   "execution_count": 34,
   "id": "73efc388",
   "metadata": {
    "ExecuteTime": {
     "end_time": "2022-09-10T12:01:43.568320Z",
     "start_time": "2022-09-10T12:01:43.554332Z"
    }
   },
   "outputs": [],
   "source": [
    "b = (10 + (a*2)) ** 2"
   ]
  },
  {
   "cell_type": "code",
   "execution_count": 36,
   "id": "746f8cab",
   "metadata": {
    "ExecuteTime": {
     "end_time": "2022-09-10T12:01:52.645751Z",
     "start_time": "2022-09-10T12:01:52.627951Z"
    }
   },
   "outputs": [
    {
     "data": {
      "text/plain": [
       "array([110, 155, 208, 269, 338])"
      ]
     },
     "execution_count": 36,
     "metadata": {},
     "output_type": "execute_result"
    }
   ],
   "source": [
    "a+b+10"
   ]
  },
  {
   "cell_type": "markdown",
   "id": "e723fec3",
   "metadata": {},
   "source": [
    "# Comparison operations"
   ]
  },
  {
   "cell_type": "code",
   "execution_count": 37,
   "id": "609185c5",
   "metadata": {
    "ExecuteTime": {
     "end_time": "2022-09-10T12:01:59.738108Z",
     "start_time": "2022-09-10T12:01:59.731032Z"
    }
   },
   "outputs": [
    {
     "data": {
      "text/plain": [
       "array([0, 1, 2, 3, 4])"
      ]
     },
     "execution_count": 37,
     "metadata": {},
     "output_type": "execute_result"
    }
   ],
   "source": [
    "a"
   ]
  },
  {
   "cell_type": "code",
   "execution_count": 38,
   "id": "bbae900f",
   "metadata": {
    "ExecuteTime": {
     "end_time": "2022-09-10T12:02:03.757026Z",
     "start_time": "2022-09-10T12:02:03.738440Z"
    }
   },
   "outputs": [
    {
     "data": {
      "text/plain": [
       "array([False, False,  True,  True,  True])"
      ]
     },
     "execution_count": 38,
     "metadata": {},
     "output_type": "execute_result"
    }
   ],
   "source": [
    "a >= 2"
   ]
  },
  {
   "cell_type": "code",
   "execution_count": 40,
   "id": "0b2d0288",
   "metadata": {
    "ExecuteTime": {
     "end_time": "2022-09-10T12:02:37.816400Z",
     "start_time": "2022-09-10T12:02:37.801877Z"
    }
   },
   "outputs": [
    {
     "data": {
      "text/plain": [
       "array([100, 144, 196, 256, 324], dtype=int32)"
      ]
     },
     "execution_count": 40,
     "metadata": {},
     "output_type": "execute_result"
    }
   ],
   "source": [
    "b"
   ]
  },
  {
   "cell_type": "code",
   "execution_count": 39,
   "id": "ae309a62",
   "metadata": {
    "ExecuteTime": {
     "end_time": "2022-09-10T12:02:34.473901Z",
     "start_time": "2022-09-10T12:02:34.465387Z"
    }
   },
   "outputs": [
    {
     "data": {
      "text/plain": [
       "array([False, False, False, False, False])"
      ]
     },
     "execution_count": 39,
     "metadata": {},
     "output_type": "execute_result"
    }
   ],
   "source": [
    "a > b"
   ]
  },
  {
   "cell_type": "code",
   "execution_count": 42,
   "id": "a3acd9d7",
   "metadata": {
    "ExecuteTime": {
     "end_time": "2022-09-10T12:03:01.302831Z",
     "start_time": "2022-09-10T12:03:01.295533Z"
    }
   },
   "outputs": [
    {
     "data": {
      "text/plain": [
       "array([0, 1, 2, 3, 4])"
      ]
     },
     "execution_count": 42,
     "metadata": {},
     "output_type": "execute_result"
    }
   ],
   "source": [
    "a[a<b]"
   ]
  },
  {
   "cell_type": "markdown",
   "id": "d48ba6be",
   "metadata": {},
   "source": [
    "# Summarizing operations"
   ]
  },
  {
   "cell_type": "code",
   "execution_count": 44,
   "id": "3104a036",
   "metadata": {
    "ExecuteTime": {
     "end_time": "2022-09-10T12:03:46.928750Z",
     "start_time": "2022-09-10T12:03:46.913321Z"
    }
   },
   "outputs": [
    {
     "data": {
      "text/plain": [
       "array([0, 1, 2, 3, 4])"
      ]
     },
     "execution_count": 44,
     "metadata": {},
     "output_type": "execute_result"
    }
   ],
   "source": [
    "a"
   ]
  },
  {
   "cell_type": "code",
   "execution_count": 43,
   "id": "79662843",
   "metadata": {
    "ExecuteTime": {
     "end_time": "2022-09-10T12:03:41.337932Z",
     "start_time": "2022-09-10T12:03:41.331048Z"
    }
   },
   "outputs": [
    {
     "data": {
      "text/plain": [
       "0"
      ]
     },
     "execution_count": 43,
     "metadata": {},
     "output_type": "execute_result"
    }
   ],
   "source": [
    "a.min()"
   ]
  },
  {
   "cell_type": "code",
   "execution_count": 45,
   "id": "b5bc5e14",
   "metadata": {
    "ExecuteTime": {
     "end_time": "2022-09-10T12:03:51.757057Z",
     "start_time": "2022-09-10T12:03:51.748984Z"
    }
   },
   "outputs": [
    {
     "data": {
      "text/plain": [
       "10"
      ]
     },
     "execution_count": 45,
     "metadata": {},
     "output_type": "execute_result"
    }
   ],
   "source": [
    "a.sum()"
   ]
  },
  {
   "cell_type": "code",
   "execution_count": 46,
   "id": "37fd0772",
   "metadata": {
    "ExecuteTime": {
     "end_time": "2022-09-10T12:03:56.426492Z",
     "start_time": "2022-09-10T12:03:56.399074Z"
    }
   },
   "outputs": [
    {
     "data": {
      "text/plain": [
       "2.0"
      ]
     },
     "execution_count": 46,
     "metadata": {},
     "output_type": "execute_result"
    }
   ],
   "source": [
    "a.mean()"
   ]
  },
  {
   "cell_type": "code",
   "execution_count": 47,
   "id": "57bea6b5",
   "metadata": {
    "ExecuteTime": {
     "end_time": "2022-09-10T12:04:02.393734Z",
     "start_time": "2022-09-10T12:04:02.385629Z"
    }
   },
   "outputs": [
    {
     "data": {
      "text/plain": [
       "1.4142135623730951"
      ]
     },
     "execution_count": 47,
     "metadata": {},
     "output_type": "execute_result"
    }
   ],
   "source": [
    "a.std()"
   ]
  },
  {
   "cell_type": "code",
   "execution_count": 48,
   "id": "0fc007a0",
   "metadata": {
    "ExecuteTime": {
     "end_time": "2022-09-10T12:04:13.186021Z",
     "start_time": "2022-09-10T12:04:13.172666Z"
    }
   },
   "outputs": [
    {
     "data": {
      "text/plain": [
       "array([[ 1, 20,  3],\n",
       "       [ 4,  5,  6],\n",
       "       [ 7,  8,  9]])"
      ]
     },
     "execution_count": 48,
     "metadata": {},
     "output_type": "execute_result"
    }
   ],
   "source": [
    "n"
   ]
  },
  {
   "cell_type": "code",
   "execution_count": 49,
   "id": "9b1faad3",
   "metadata": {
    "ExecuteTime": {
     "end_time": "2022-09-10T12:04:17.056377Z",
     "start_time": "2022-09-10T12:04:17.049904Z"
    }
   },
   "outputs": [
    {
     "data": {
      "text/plain": [
       "63"
      ]
     },
     "execution_count": 49,
     "metadata": {},
     "output_type": "execute_result"
    }
   ],
   "source": [
    "n.sum()"
   ]
  },
  {
   "cell_type": "code",
   "execution_count": 50,
   "id": "862fb266",
   "metadata": {
    "ExecuteTime": {
     "end_time": "2022-09-10T12:04:19.500317Z",
     "start_time": "2022-09-10T12:04:19.493913Z"
    }
   },
   "outputs": [
    {
     "data": {
      "text/plain": [
       "1"
      ]
     },
     "execution_count": 50,
     "metadata": {},
     "output_type": "execute_result"
    }
   ],
   "source": [
    "n.min()"
   ]
  },
  {
   "cell_type": "code",
   "execution_count": 51,
   "id": "a04eec74",
   "metadata": {
    "ExecuteTime": {
     "end_time": "2022-09-10T12:04:25.928036Z",
     "start_time": "2022-09-10T12:04:25.910174Z"
    }
   },
   "outputs": [
    {
     "data": {
      "text/plain": [
       "5.163977794943222"
      ]
     },
     "execution_count": 51,
     "metadata": {},
     "output_type": "execute_result"
    }
   ],
   "source": [
    "n.std()"
   ]
  }
 ],
 "metadata": {
  "kernelspec": {
   "display_name": "Python 3 (ipykernel)",
   "language": "python",
   "name": "python3"
  },
  "language_info": {
   "codemirror_mode": {
    "name": "ipython",
    "version": 3
   },
   "file_extension": ".py",
   "mimetype": "text/x-python",
   "name": "python",
   "nbconvert_exporter": "python",
   "pygments_lexer": "ipython3",
   "version": "3.9.7"
  },
  "toc": {
   "base_numbering": 1,
   "nav_menu": {},
   "number_sections": true,
   "sideBar": true,
   "skip_h1_title": false,
   "title_cell": "Table of Contents",
   "title_sidebar": "Contents",
   "toc_cell": false,
   "toc_position": {
    "height": "calc(100% - 180px)",
    "left": "10px",
    "top": "150px",
    "width": "217.825px"
   },
   "toc_section_display": true,
   "toc_window_display": true
  }
 },
 "nbformat": 4,
 "nbformat_minor": 5
}
