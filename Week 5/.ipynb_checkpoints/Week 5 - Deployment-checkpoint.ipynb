{
 "cells": [
  {
   "cell_type": "markdown",
   "id": "1a1f9069",
   "metadata": {},
   "source": [
    "# Main Code"
   ]
  },
  {
   "cell_type": "code",
   "execution_count": 1,
   "id": "8e54ec91",
   "metadata": {
    "ExecuteTime": {
     "end_time": "2022-10-15T22:23:00.129561Z",
     "start_time": "2022-10-15T22:22:57.271184Z"
    }
   },
   "outputs": [],
   "source": [
    "import pandas as pd\n",
    "import numpy as np\n",
    "\n",
    "from sklearn.model_selection import train_test_split\n",
    "from sklearn.model_selection import KFold\n",
    "\n",
    "from sklearn.feature_extraction import DictVectorizer\n",
    "from sklearn.linear_model import LogisticRegression\n",
    "from sklearn.metrics import roc_auc_score"
   ]
  },
  {
   "cell_type": "code",
   "execution_count": 2,
   "id": "bae4fa73",
   "metadata": {
    "ExecuteTime": {
     "end_time": "2022-10-15T22:23:22.929706Z",
     "start_time": "2022-10-15T22:23:20.885393Z"
    }
   },
   "outputs": [],
   "source": [
    "path = 'https://raw.githubusercontent.com/alexeygrigorev/mlbookcamp-code/master/chapter-03-churn-prediction/WA_Fn-UseC_-Telco-Customer-Churn.csv'\n",
    "df = pd.read_csv(path)"
   ]
  },
  {
   "cell_type": "code",
   "execution_count": 3,
   "id": "23e1d421",
   "metadata": {
    "ExecuteTime": {
     "end_time": "2022-10-15T22:25:28.123718Z",
     "start_time": "2022-10-15T22:25:27.991830Z"
    }
   },
   "outputs": [],
   "source": [
    "df.columns = df.columns.str.lower().str.replace(' ', '_')\n",
    "categorical_columns = list(df.dtypes[df.dtypes == 'object'].index)\n",
    "\n",
    "for c in categorical_columns:\n",
    "    df[c] = df[c].str.lower().str.replace(' ', '_')\n",
    "    \n",
    "df.totalcharges = pd.to_numeric(df.totalcharges, errors='coerce')\n",
    "df.totalcharges = df.totalcharges.fillna(0)\n",
    "\n",
    "df.churn = (df.churn == 'yes').astype(int)"
   ]
  },
  {
   "cell_type": "code",
   "execution_count": 4,
   "id": "6c2b56d6",
   "metadata": {
    "ExecuteTime": {
     "end_time": "2022-10-15T22:25:44.736142Z",
     "start_time": "2022-10-15T22:25:44.710239Z"
    }
   },
   "outputs": [],
   "source": [
    "df_full_train, df_test = train_test_split(df, test_size=0.2, random_state=1)"
   ]
  },
  {
   "cell_type": "code",
   "execution_count": 5,
   "id": "40471821",
   "metadata": {
    "ExecuteTime": {
     "end_time": "2022-10-15T22:26:39.799070Z",
     "start_time": "2022-10-15T22:26:39.790124Z"
    }
   },
   "outputs": [],
   "source": [
    "numerical = ['tenure', 'monthlycharges', 'totalcharges']\n",
    "\n",
    "categorical = [ 'gender', 'seniorcitizen', 'partner', 'dependents',\n",
    "        'phoneservice', 'multiplelines', 'internetservice',\n",
    "       'onlinesecurity', 'onlinebackup', 'deviceprotection', 'techsupport',\n",
    "       'streamingtv', 'streamingmovies', 'contract', 'paperlessbilling',\n",
    "       'paymentmethod']"
   ]
  },
  {
   "cell_type": "code",
   "execution_count": 6,
   "id": "1ca802e3",
   "metadata": {
    "ExecuteTime": {
     "end_time": "2022-10-15T22:29:11.007548Z",
     "start_time": "2022-10-15T22:29:11.003024Z"
    }
   },
   "outputs": [],
   "source": [
    "def train(df,y_train, C=1):\n",
    "    dicts = df[categorical + numerical].to_dict(orient='records')\n",
    "    \n",
    "    dv = DictVectorizer(sparse=False)\n",
    "    X_train = dv.fit_transform(dicts)\n",
    "    \n",
    "    model = LogisticRegression(C=C, max_iter=1000)\n",
    "    model.fit(X_train, y_train)\n",
    "    \n",
    "    return dv, model"
   ]
  },
  {
   "cell_type": "code",
   "execution_count": 7,
   "id": "1eb069a7",
   "metadata": {
    "ExecuteTime": {
     "end_time": "2022-10-15T22:29:11.235610Z",
     "start_time": "2022-10-15T22:29:11.227487Z"
    }
   },
   "outputs": [],
   "source": [
    "def predict(df,dv, model):\n",
    "    dicts = df[categorical + numerical].to_dict(orient='records')\n",
    "    \n",
    "    X = dv.transform(dicts)\n",
    "    y_pred = model.predict_proba(X)[:,1]\n",
    "    return y_pred"
   ]
  },
  {
   "cell_type": "code",
   "execution_count": 8,
   "id": "55bc0bde",
   "metadata": {
    "ExecuteTime": {
     "end_time": "2022-10-15T22:29:11.848056Z",
     "start_time": "2022-10-15T22:29:11.843496Z"
    }
   },
   "outputs": [],
   "source": [
    "C = 1.0\n",
    "n_splits = 5"
   ]
  },
  {
   "cell_type": "code",
   "execution_count": 17,
   "id": "a4a3a693",
   "metadata": {
    "ExecuteTime": {
     "end_time": "2022-10-15T22:45:53.212904Z",
     "start_time": "2022-10-15T22:45:51.611023Z"
    }
   },
   "outputs": [
    {
     "name": "stdout",
     "output_type": "stream",
     "text": [
      "C=1.0 0.84 +- 0.008\n"
     ]
    }
   ],
   "source": [
    "kfold = KFold(n_splits=n_splits, shuffle = True, random_state=1)\n",
    "scores = []\n",
    "\n",
    "for train_idx, val_idx in kfold.split(df_full_train):\n",
    "    df_train = df_full_train.iloc[train_idx]\n",
    "    df_val = df_full_train.iloc[val_idx]\n",
    "    \n",
    "    y_train = df_train.churn.values\n",
    "    y_val = df_val.churn.values\n",
    "    \n",
    "    dv, model = train(df_train, y_train)\n",
    "    y_pred = predict(df_val, dv, model)\n",
    "    \n",
    "    auc = roc_auc_score(y_val, y_pred)\n",
    "    scores.append(auc)\n",
    "\n",
    "print('C={0} {1} +- {2}'.format(C, np.mean(scores).round(3), np.std(scores).round(3)))"
   ]
  },
  {
   "cell_type": "code",
   "execution_count": 14,
   "id": "cbf24913",
   "metadata": {
    "ExecuteTime": {
     "end_time": "2022-10-15T22:43:32.482394Z",
     "start_time": "2022-10-15T22:43:32.071126Z"
    }
   },
   "outputs": [
    {
     "data": {
      "text/plain": [
       "0.8572386167896259"
      ]
     },
     "execution_count": 14,
     "metadata": {},
     "output_type": "execute_result"
    }
   ],
   "source": [
    "dv, model = train(df_full_train, df_full_train.churn.values, C=1.0)\n",
    "y_predict = predict(df_test, dv, model)\n",
    "\n",
    "y_test = df_test.churn.values\n",
    "auc = roc_auc_score(y_test, y_predict)\n",
    "auc"
   ]
  },
  {
   "cell_type": "markdown",
   "id": "759d16f3",
   "metadata": {},
   "source": [
    "# Saving and Loading the Model"
   ]
  },
  {
   "cell_type": "markdown",
   "id": "b891bf26",
   "metadata": {},
   "source": [
    "## Saving the Model"
   ]
  },
  {
   "cell_type": "code",
   "execution_count": 4,
   "id": "adc7647c",
   "metadata": {
    "ExecuteTime": {
     "end_time": "2022-10-15T22:54:31.232458Z",
     "start_time": "2022-10-15T22:54:31.228149Z"
    }
   },
   "outputs": [],
   "source": [
    "import pickle"
   ]
  },
  {
   "cell_type": "code",
   "execution_count": 18,
   "id": "3db99d90",
   "metadata": {
    "ExecuteTime": {
     "end_time": "2022-10-15T22:47:34.054966Z",
     "start_time": "2022-10-15T22:47:34.041322Z"
    }
   },
   "outputs": [
    {
     "data": {
      "text/plain": [
       "'model_C=1.0.bin'"
      ]
     },
     "execution_count": 18,
     "metadata": {},
     "output_type": "execute_result"
    }
   ],
   "source": [
    "output_file = f'model_C={C}.bin'\n",
    "output_file"
   ]
  },
  {
   "cell_type": "code",
   "execution_count": 20,
   "id": "df24350a",
   "metadata": {
    "ExecuteTime": {
     "end_time": "2022-10-15T22:49:44.266309Z",
     "start_time": "2022-10-15T22:49:44.247605Z"
    }
   },
   "outputs": [],
   "source": [
    "f_out = open(output_file, 'wb') # will write a binary (not text but bytes)\n",
    "pickle.dump((dv, model), f_out)\n",
    "f_out.close()"
   ]
  },
  {
   "cell_type": "code",
   "execution_count": 21,
   "id": "22f0d964",
   "metadata": {
    "ExecuteTime": {
     "end_time": "2022-10-15T22:51:11.154294Z",
     "start_time": "2022-10-15T22:51:11.147617Z"
    }
   },
   "outputs": [],
   "source": [
    "with open(output_file, 'wb') as f_out:\n",
    "    pickle.dump((dv, model), f_out)\n",
    "    # inside this the file is open\n",
    "    \n",
    "# outside the file is closed, so it easier for us to not accedentally forget to close the file"
   ]
  },
  {
   "cell_type": "markdown",
   "id": "03c6ab51",
   "metadata": {},
   "source": [
    "## Load the Model"
   ]
  },
  {
   "cell_type": "code",
   "execution_count": 2,
   "id": "a0d1db09",
   "metadata": {
    "ExecuteTime": {
     "end_time": "2022-10-15T22:54:27.012813Z",
     "start_time": "2022-10-15T22:54:27.009898Z"
    }
   },
   "outputs": [],
   "source": [
    "model_file = f'model_C=1.0.bin'"
   ]
  },
  {
   "cell_type": "code",
   "execution_count": 5,
   "id": "24538083",
   "metadata": {
    "ExecuteTime": {
     "end_time": "2022-10-15T22:54:33.807177Z",
     "start_time": "2022-10-15T22:54:32.797915Z"
    }
   },
   "outputs": [],
   "source": [
    "with open(model_file, 'rb') as f_in:\n",
    "    dv, model = pickle.load(f_in)\n",
    "    \n",
    "# we don't need to import scikit-learn, but we need scikit-learn installed in our system,\n",
    "# so it will know what model and dv means."
   ]
  },
  {
   "cell_type": "code",
   "execution_count": 6,
   "id": "05fe719e",
   "metadata": {
    "ExecuteTime": {
     "end_time": "2022-10-15T22:54:34.302925Z",
     "start_time": "2022-10-15T22:54:34.290440Z"
    }
   },
   "outputs": [
    {
     "data": {
      "text/plain": [
       "LogisticRegression(C=1, max_iter=1000)"
      ]
     },
     "execution_count": 6,
     "metadata": {},
     "output_type": "execute_result"
    }
   ],
   "source": [
    "model"
   ]
  },
  {
   "cell_type": "code",
   "execution_count": 7,
   "id": "05eee734",
   "metadata": {
    "ExecuteTime": {
     "end_time": "2022-10-15T22:55:00.920814Z",
     "start_time": "2022-10-15T22:55:00.912895Z"
    }
   },
   "outputs": [
    {
     "data": {
      "text/plain": [
       "DictVectorizer(sparse=False)"
      ]
     },
     "execution_count": 7,
     "metadata": {},
     "output_type": "execute_result"
    }
   ],
   "source": [
    "dv"
   ]
  },
  {
   "cell_type": "code",
   "execution_count": null,
   "id": "801b4cf7",
   "metadata": {},
   "outputs": [],
   "source": []
  }
 ],
 "metadata": {
  "kernelspec": {
   "display_name": "Python 3 (ipykernel)",
   "language": "python",
   "name": "python3"
  },
  "language_info": {
   "codemirror_mode": {
    "name": "ipython",
    "version": 3
   },
   "file_extension": ".py",
   "mimetype": "text/x-python",
   "name": "python",
   "nbconvert_exporter": "python",
   "pygments_lexer": "ipython3",
   "version": "3.9.7"
  },
  "toc": {
   "base_numbering": 1,
   "nav_menu": {},
   "number_sections": true,
   "sideBar": true,
   "skip_h1_title": false,
   "title_cell": "Table of Contents",
   "title_sidebar": "Contents",
   "toc_cell": false,
   "toc_position": {},
   "toc_section_display": true,
   "toc_window_display": true
  }
 },
 "nbformat": 4,
 "nbformat_minor": 5
}
