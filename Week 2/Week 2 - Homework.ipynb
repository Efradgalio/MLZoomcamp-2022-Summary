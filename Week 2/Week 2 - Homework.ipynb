{
 "cells": [
  {
   "cell_type": "markdown",
   "id": "84e7cb2e",
   "metadata": {},
   "source": [
    "# Introduction"
   ]
  },
  {
   "cell_type": "code",
   "execution_count": 1,
   "id": "3ce90a4e",
   "metadata": {
    "ExecuteTime": {
     "end_time": "2022-10-09T21:56:25.116193Z",
     "start_time": "2022-10-09T21:56:23.211445Z"
    }
   },
   "outputs": [],
   "source": [
    "# IMPORTING LIBRARIES AND DEPENDENCIES:\n",
    "import numpy as np\n",
    "import pandas as pd\n",
    "import seaborn as sns\n",
    "import matplotlib.pyplot as plt\n",
    "from sklearn.linear_model import LinearRegression"
   ]
  },
  {
   "cell_type": "code",
   "execution_count": 2,
   "id": "04a1be7f",
   "metadata": {
    "ExecuteTime": {
     "end_time": "2022-10-09T21:56:27.053077Z",
     "start_time": "2022-10-09T21:56:25.145340Z"
    }
   },
   "outputs": [
    {
     "data": {
      "text/html": [
       "<div>\n",
       "<style scoped>\n",
       "    .dataframe tbody tr th:only-of-type {\n",
       "        vertical-align: middle;\n",
       "    }\n",
       "\n",
       "    .dataframe tbody tr th {\n",
       "        vertical-align: top;\n",
       "    }\n",
       "\n",
       "    .dataframe thead th {\n",
       "        text-align: right;\n",
       "    }\n",
       "</style>\n",
       "<table border=\"1\" class=\"dataframe\">\n",
       "  <thead>\n",
       "    <tr style=\"text-align: right;\">\n",
       "      <th></th>\n",
       "      <th>longitude</th>\n",
       "      <th>latitude</th>\n",
       "      <th>housing_median_age</th>\n",
       "      <th>total_rooms</th>\n",
       "      <th>total_bedrooms</th>\n",
       "      <th>population</th>\n",
       "      <th>households</th>\n",
       "      <th>median_income</th>\n",
       "      <th>median_house_value</th>\n",
       "      <th>ocean_proximity</th>\n",
       "    </tr>\n",
       "  </thead>\n",
       "  <tbody>\n",
       "    <tr>\n",
       "      <th>0</th>\n",
       "      <td>-122.23</td>\n",
       "      <td>37.88</td>\n",
       "      <td>41.0</td>\n",
       "      <td>880.0</td>\n",
       "      <td>129.0</td>\n",
       "      <td>322.0</td>\n",
       "      <td>126.0</td>\n",
       "      <td>8.3252</td>\n",
       "      <td>452600.0</td>\n",
       "      <td>NEAR BAY</td>\n",
       "    </tr>\n",
       "    <tr>\n",
       "      <th>1</th>\n",
       "      <td>-122.22</td>\n",
       "      <td>37.86</td>\n",
       "      <td>21.0</td>\n",
       "      <td>7099.0</td>\n",
       "      <td>1106.0</td>\n",
       "      <td>2401.0</td>\n",
       "      <td>1138.0</td>\n",
       "      <td>8.3014</td>\n",
       "      <td>358500.0</td>\n",
       "      <td>NEAR BAY</td>\n",
       "    </tr>\n",
       "    <tr>\n",
       "      <th>2</th>\n",
       "      <td>-122.24</td>\n",
       "      <td>37.85</td>\n",
       "      <td>52.0</td>\n",
       "      <td>1467.0</td>\n",
       "      <td>190.0</td>\n",
       "      <td>496.0</td>\n",
       "      <td>177.0</td>\n",
       "      <td>7.2574</td>\n",
       "      <td>352100.0</td>\n",
       "      <td>NEAR BAY</td>\n",
       "    </tr>\n",
       "    <tr>\n",
       "      <th>3</th>\n",
       "      <td>-122.25</td>\n",
       "      <td>37.85</td>\n",
       "      <td>52.0</td>\n",
       "      <td>1274.0</td>\n",
       "      <td>235.0</td>\n",
       "      <td>558.0</td>\n",
       "      <td>219.0</td>\n",
       "      <td>5.6431</td>\n",
       "      <td>341300.0</td>\n",
       "      <td>NEAR BAY</td>\n",
       "    </tr>\n",
       "    <tr>\n",
       "      <th>4</th>\n",
       "      <td>-122.25</td>\n",
       "      <td>37.85</td>\n",
       "      <td>52.0</td>\n",
       "      <td>1627.0</td>\n",
       "      <td>280.0</td>\n",
       "      <td>565.0</td>\n",
       "      <td>259.0</td>\n",
       "      <td>3.8462</td>\n",
       "      <td>342200.0</td>\n",
       "      <td>NEAR BAY</td>\n",
       "    </tr>\n",
       "  </tbody>\n",
       "</table>\n",
       "</div>"
      ],
      "text/plain": [
       "   longitude  latitude  housing_median_age  total_rooms  total_bedrooms  \\\n",
       "0    -122.23     37.88                41.0        880.0           129.0   \n",
       "1    -122.22     37.86                21.0       7099.0          1106.0   \n",
       "2    -122.24     37.85                52.0       1467.0           190.0   \n",
       "3    -122.25     37.85                52.0       1274.0           235.0   \n",
       "4    -122.25     37.85                52.0       1627.0           280.0   \n",
       "\n",
       "   population  households  median_income  median_house_value ocean_proximity  \n",
       "0       322.0       126.0         8.3252            452600.0        NEAR BAY  \n",
       "1      2401.0      1138.0         8.3014            358500.0        NEAR BAY  \n",
       "2       496.0       177.0         7.2574            352100.0        NEAR BAY  \n",
       "3       558.0       219.0         5.6431            341300.0        NEAR BAY  \n",
       "4       565.0       259.0         3.8462            342200.0        NEAR BAY  "
      ]
     },
     "execution_count": 2,
     "metadata": {},
     "output_type": "execute_result"
    }
   ],
   "source": [
    "df = pd.read_csv('https://raw.githubusercontent.com/alexeygrigorev/datasets/master/housing.csv')\n",
    "df.head()"
   ]
  },
  {
   "cell_type": "code",
   "execution_count": 3,
   "id": "61860c61",
   "metadata": {
    "ExecuteTime": {
     "end_time": "2022-10-09T21:56:27.394081Z",
     "start_time": "2022-10-09T21:56:27.055872Z"
    }
   },
   "outputs": [
    {
     "name": "stderr",
     "output_type": "stream",
     "text": [
      "C:\\Users\\Frags\\anaconda3\\lib\\site-packages\\seaborn\\distributions.py:2619: FutureWarning: `distplot` is a deprecated function and will be removed in a future version. Please adapt your code to use either `displot` (a figure-level function with similar flexibility) or `histplot` (an axes-level function for histograms).\n",
      "  warnings.warn(msg, FutureWarning)\n"
     ]
    },
    {
     "data": {
      "text/plain": [
       "<AxesSubplot:xlabel='median_house_value', ylabel='Density'>"
      ]
     },
     "execution_count": 3,
     "metadata": {},
     "output_type": "execute_result"
    },
    {
     "data": {
      "image/png": "[encoded data removed]",
      "text/plain": [
       "<Figure size 432x288 with 1 Axes>"
      ]
     },
     "metadata": {
      "needs_background": "light"
     },
     "output_type": "display_data"
    }
   ],
   "source": [
    "# INSPECTING HOUSE VALUES:\n",
    "sns.distplot(df.median_house_value)"
   ]
  },
  {
   "cell_type": "code",
   "execution_count": 4,
   "id": "d01e5b79",
   "metadata": {
    "ExecuteTime": {
     "end_time": "2022-10-09T21:56:27.742873Z",
     "start_time": "2022-10-09T21:56:27.396665Z"
    }
   },
   "outputs": [
    {
     "name": "stderr",
     "output_type": "stream",
     "text": [
      "C:\\Users\\Frags\\anaconda3\\lib\\site-packages\\seaborn\\distributions.py:2619: FutureWarning: `distplot` is a deprecated function and will be removed in a future version. Please adapt your code to use either `displot` (a figure-level function with similar flexibility) or `histplot` (an axes-level function for histograms).\n",
      "  warnings.warn(msg, FutureWarning)\n"
     ]
    },
    {
     "data": {
      "text/plain": [
       "<AxesSubplot:xlabel='median_house_value', ylabel='Density'>"
      ]
     },
     "execution_count": 4,
     "metadata": {},
     "output_type": "execute_result"
    },
    {
     "data": {
      "image/png": "[encoded data removed]",
      "text/plain": [
       "<Figure size 432x288 with 1 Axes>"
      ]
     },
     "metadata": {
      "needs_background": "light"
     },
     "output_type": "display_data"
    }
   ],
   "source": [
    "# INSPECTING HOUSE VALUES:\n",
    "sns.distplot(np.log1p(df.median_house_value))"
   ]
  },
  {
   "cell_type": "code",
   "execution_count": 5,
   "id": "98098034",
   "metadata": {
    "ExecuteTime": {
     "end_time": "2022-10-09T21:56:27.757998Z",
     "start_time": "2022-10-09T21:56:27.746078Z"
    }
   },
   "outputs": [],
   "source": [
    "base = ['latitude', 'longitude', 'housing_median_age', 'total_rooms',\n",
    "       'total_bedrooms', 'population', 'households', 'median_income', 'median_house_value']"
   ]
  },
  {
   "cell_type": "code",
   "execution_count": 6,
   "id": "98067a31",
   "metadata": {
    "ExecuteTime": {
     "end_time": "2022-10-09T21:56:27.781997Z",
     "start_time": "2022-10-09T21:56:27.761317Z"
    }
   },
   "outputs": [
    {
     "data": {
      "text/plain": [
       "False    20640\n",
       "dtype: int64"
      ]
     },
     "execution_count": 6,
     "metadata": {},
     "output_type": "execute_result"
    }
   ],
   "source": [
    "# INSPECTING DUPLICATES:\n",
    "df.duplicated().value_counts()"
   ]
  },
  {
   "cell_type": "code",
   "execution_count": 7,
   "id": "6bf007d6",
   "metadata": {
    "ExecuteTime": {
     "end_time": "2022-10-09T21:56:27.837980Z",
     "start_time": "2022-10-09T21:56:27.784072Z"
    }
   },
   "outputs": [
    {
     "data": {
      "text/html": [
       "<div>\n",
       "<style scoped>\n",
       "    .dataframe tbody tr th:only-of-type {\n",
       "        vertical-align: middle;\n",
       "    }\n",
       "\n",
       "    .dataframe tbody tr th {\n",
       "        vertical-align: top;\n",
       "    }\n",
       "\n",
       "    .dataframe thead th {\n",
       "        text-align: right;\n",
       "    }\n",
       "</style>\n",
       "<table border=\"1\" class=\"dataframe\">\n",
       "  <thead>\n",
       "    <tr style=\"text-align: right;\">\n",
       "      <th></th>\n",
       "      <th>count</th>\n",
       "      <th>mean</th>\n",
       "      <th>std</th>\n",
       "      <th>min</th>\n",
       "      <th>0%</th>\n",
       "      <th>10%</th>\n",
       "      <th>25%</th>\n",
       "      <th>50%</th>\n",
       "      <th>75%</th>\n",
       "      <th>90%</th>\n",
       "      <th>95%</th>\n",
       "      <th>99%</th>\n",
       "      <th>max</th>\n",
       "    </tr>\n",
       "  </thead>\n",
       "  <tbody>\n",
       "    <tr>\n",
       "      <th>longitude</th>\n",
       "      <td>20640.0</td>\n",
       "      <td>-119.569704</td>\n",
       "      <td>2.003532</td>\n",
       "      <td>-124.3500</td>\n",
       "      <td>-124.3500</td>\n",
       "      <td>-122.2900</td>\n",
       "      <td>-121.8000</td>\n",
       "      <td>-118.4900</td>\n",
       "      <td>-118.01000</td>\n",
       "      <td>-117.25000</td>\n",
       "      <td>-117.080000</td>\n",
       "      <td>-116.29000</td>\n",
       "      <td>-114.3100</td>\n",
       "    </tr>\n",
       "    <tr>\n",
       "      <th>latitude</th>\n",
       "      <td>20640.0</td>\n",
       "      <td>35.631861</td>\n",
       "      <td>2.135952</td>\n",
       "      <td>32.5400</td>\n",
       "      <td>32.5400</td>\n",
       "      <td>33.6300</td>\n",
       "      <td>33.9300</td>\n",
       "      <td>34.2600</td>\n",
       "      <td>37.71000</td>\n",
       "      <td>38.48000</td>\n",
       "      <td>38.960000</td>\n",
       "      <td>40.62610</td>\n",
       "      <td>41.9500</td>\n",
       "    </tr>\n",
       "    <tr>\n",
       "      <th>housing_median_age</th>\n",
       "      <td>20640.0</td>\n",
       "      <td>28.639486</td>\n",
       "      <td>12.585558</td>\n",
       "      <td>1.0000</td>\n",
       "      <td>1.0000</td>\n",
       "      <td>13.0000</td>\n",
       "      <td>18.0000</td>\n",
       "      <td>29.0000</td>\n",
       "      <td>37.00000</td>\n",
       "      <td>46.00000</td>\n",
       "      <td>52.000000</td>\n",
       "      <td>52.00000</td>\n",
       "      <td>52.0000</td>\n",
       "    </tr>\n",
       "    <tr>\n",
       "      <th>total_rooms</th>\n",
       "      <td>20640.0</td>\n",
       "      <td>2635.763081</td>\n",
       "      <td>2181.615252</td>\n",
       "      <td>2.0000</td>\n",
       "      <td>2.0000</td>\n",
       "      <td>941.0000</td>\n",
       "      <td>1447.7500</td>\n",
       "      <td>2127.0000</td>\n",
       "      <td>3148.00000</td>\n",
       "      <td>4651.50000</td>\n",
       "      <td>6213.200000</td>\n",
       "      <td>11212.11000</td>\n",
       "      <td>39320.0000</td>\n",
       "    </tr>\n",
       "    <tr>\n",
       "      <th>total_bedrooms</th>\n",
       "      <td>20433.0</td>\n",
       "      <td>537.870553</td>\n",
       "      <td>421.385070</td>\n",
       "      <td>1.0000</td>\n",
       "      <td>1.0000</td>\n",
       "      <td>198.0000</td>\n",
       "      <td>296.0000</td>\n",
       "      <td>435.0000</td>\n",
       "      <td>647.00000</td>\n",
       "      <td>965.00000</td>\n",
       "      <td>1275.400000</td>\n",
       "      <td>2221.36000</td>\n",
       "      <td>6445.0000</td>\n",
       "    </tr>\n",
       "    <tr>\n",
       "      <th>population</th>\n",
       "      <td>20640.0</td>\n",
       "      <td>1425.476744</td>\n",
       "      <td>1132.462122</td>\n",
       "      <td>3.0000</td>\n",
       "      <td>3.0000</td>\n",
       "      <td>510.0000</td>\n",
       "      <td>787.0000</td>\n",
       "      <td>1166.0000</td>\n",
       "      <td>1725.00000</td>\n",
       "      <td>2566.00000</td>\n",
       "      <td>3288.000000</td>\n",
       "      <td>5805.83000</td>\n",
       "      <td>35682.0000</td>\n",
       "    </tr>\n",
       "    <tr>\n",
       "      <th>households</th>\n",
       "      <td>20640.0</td>\n",
       "      <td>499.539680</td>\n",
       "      <td>382.329753</td>\n",
       "      <td>1.0000</td>\n",
       "      <td>1.0000</td>\n",
       "      <td>184.0000</td>\n",
       "      <td>280.0000</td>\n",
       "      <td>409.0000</td>\n",
       "      <td>605.00000</td>\n",
       "      <td>890.00000</td>\n",
       "      <td>1162.000000</td>\n",
       "      <td>1982.66000</td>\n",
       "      <td>6082.0000</td>\n",
       "    </tr>\n",
       "    <tr>\n",
       "      <th>median_income</th>\n",
       "      <td>20640.0</td>\n",
       "      <td>3.870671</td>\n",
       "      <td>1.899822</td>\n",
       "      <td>0.4999</td>\n",
       "      <td>0.4999</td>\n",
       "      <td>1.9038</td>\n",
       "      <td>2.5634</td>\n",
       "      <td>3.5348</td>\n",
       "      <td>4.74325</td>\n",
       "      <td>6.15921</td>\n",
       "      <td>7.300305</td>\n",
       "      <td>10.59654</td>\n",
       "      <td>15.0001</td>\n",
       "    </tr>\n",
       "    <tr>\n",
       "      <th>median_house_value</th>\n",
       "      <td>20640.0</td>\n",
       "      <td>206855.816909</td>\n",
       "      <td>115395.615874</td>\n",
       "      <td>14999.0000</td>\n",
       "      <td>14999.0000</td>\n",
       "      <td>82300.0000</td>\n",
       "      <td>119600.0000</td>\n",
       "      <td>179700.0000</td>\n",
       "      <td>264725.00000</td>\n",
       "      <td>376600.00000</td>\n",
       "      <td>489810.000000</td>\n",
       "      <td>500001.00000</td>\n",
       "      <td>500001.0000</td>\n",
       "    </tr>\n",
       "  </tbody>\n",
       "</table>\n",
       "</div>"
      ],
      "text/plain": [
       "                      count           mean            std         min  \\\n",
       "longitude           20640.0    -119.569704       2.003532   -124.3500   \n",
       "latitude            20640.0      35.631861       2.135952     32.5400   \n",
       "housing_median_age  20640.0      28.639486      12.585558      1.0000   \n",
       "total_rooms         20640.0    2635.763081    2181.615252      2.0000   \n",
       "total_bedrooms      20433.0     537.870553     421.385070      1.0000   \n",
       "population          20640.0    1425.476744    1132.462122      3.0000   \n",
       "households          20640.0     499.539680     382.329753      1.0000   \n",
       "median_income       20640.0       3.870671       1.899822      0.4999   \n",
       "median_house_value  20640.0  206855.816909  115395.615874  14999.0000   \n",
       "\n",
       "                            0%         10%          25%          50%  \\\n",
       "longitude            -124.3500   -122.2900    -121.8000    -118.4900   \n",
       "latitude               32.5400     33.6300      33.9300      34.2600   \n",
       "housing_median_age      1.0000     13.0000      18.0000      29.0000   \n",
       "total_rooms             2.0000    941.0000    1447.7500    2127.0000   \n",
       "total_bedrooms          1.0000    198.0000     296.0000     435.0000   \n",
       "population              3.0000    510.0000     787.0000    1166.0000   \n",
       "households              1.0000    184.0000     280.0000     409.0000   \n",
       "median_income           0.4999      1.9038       2.5634       3.5348   \n",
       "median_house_value  14999.0000  82300.0000  119600.0000  179700.0000   \n",
       "\n",
       "                             75%           90%            95%           99%  \\\n",
       "longitude             -118.01000    -117.25000    -117.080000    -116.29000   \n",
       "latitude                37.71000      38.48000      38.960000      40.62610   \n",
       "housing_median_age      37.00000      46.00000      52.000000      52.00000   \n",
       "total_rooms           3148.00000    4651.50000    6213.200000   11212.11000   \n",
       "total_bedrooms         647.00000     965.00000    1275.400000    2221.36000   \n",
       "population            1725.00000    2566.00000    3288.000000    5805.83000   \n",
       "households             605.00000     890.00000    1162.000000    1982.66000   \n",
       "median_income            4.74325       6.15921       7.300305      10.59654   \n",
       "median_house_value  264725.00000  376600.00000  489810.000000  500001.00000   \n",
       "\n",
       "                            max  \n",
       "longitude             -114.3100  \n",
       "latitude                41.9500  \n",
       "housing_median_age      52.0000  \n",
       "total_rooms          39320.0000  \n",
       "total_bedrooms        6445.0000  \n",
       "population           35682.0000  \n",
       "households            6082.0000  \n",
       "median_income           15.0001  \n",
       "median_house_value  500001.0000  "
      ]
     },
     "execution_count": 7,
     "metadata": {},
     "output_type": "execute_result"
    }
   ],
   "source": [
    "# INITIALIZING DESCRIPTIVE ANALYSIS:\n",
    "df.describe(percentiles=[.0, .25, .5, .75, .9, .95, .99, .1]).T"
   ]
  },
  {
   "cell_type": "markdown",
   "id": "5e9f0930",
   "metadata": {},
   "source": [
    "# Question 1\n",
    "Find a feature with missing values. How many missing values does it have?"
   ]
  },
  {
   "cell_type": "code",
   "execution_count": 8,
   "id": "616c8e26",
   "metadata": {
    "ExecuteTime": {
     "end_time": "2022-10-09T21:56:33.357248Z",
     "start_time": "2022-10-09T21:56:33.344000Z"
    }
   },
   "outputs": [
    {
     "data": {
      "text/plain": [
       "latitude                0\n",
       "longitude               0\n",
       "housing_median_age      0\n",
       "total_rooms             0\n",
       "total_bedrooms        207\n",
       "population              0\n",
       "households              0\n",
       "median_income           0\n",
       "median_house_value      0\n",
       "dtype: int64"
      ]
     },
     "execution_count": 8,
     "metadata": {},
     "output_type": "execute_result"
    }
   ],
   "source": [
    "df = df[base]\n",
    "df.isnull().sum()\n",
    "\n",
    "# There is only one columns that has missing values, and it is 207 missing values."
   ]
  },
  {
   "cell_type": "markdown",
   "id": "d4de3bdc",
   "metadata": {},
   "source": [
    "# Question 2\n",
    "What's the median (50% percentile) for variable 'population'?"
   ]
  },
  {
   "cell_type": "code",
   "execution_count": 9,
   "id": "69895d4b",
   "metadata": {
    "ExecuteTime": {
     "end_time": "2022-10-09T21:56:35.016889Z",
     "start_time": "2022-10-09T21:56:34.998410Z"
    }
   },
   "outputs": [
    {
     "data": {
      "text/plain": [
       "1166.0"
      ]
     },
     "execution_count": 9,
     "metadata": {},
     "output_type": "execute_result"
    }
   ],
   "source": [
    "np.percentile(df.population.sort_values(),50)\n",
    "\n",
    "# The median is 1166"
   ]
  },
  {
   "cell_type": "code",
   "execution_count": 10,
   "id": "49de4756",
   "metadata": {
    "ExecuteTime": {
     "end_time": "2022-10-09T21:56:38.271309Z",
     "start_time": "2022-10-09T21:56:35.419541Z"
    }
   },
   "outputs": [
    {
     "name": "stderr",
     "output_type": "stream",
     "text": [
      "C:\\Users\\Frags\\AppData\\Local\\Temp/ipykernel_4024/2133217043.py:4: UserWarning: To output multiple subplots, the figure containing the passed axes is being cleared\n",
      "  df.hist(bins=100, ax=ax, layout=(3, 3), column=[\"longitude\", \"latitude\", \"housing_median_age\", \"total_rooms\", \"total_bedrooms\",\n"
     ]
    },
    {
     "data": {
      "image/png": "[encoded data removed]",
      "text/plain": [
       "<Figure size 1080x720 with 9 Axes>"
      ]
     },
     "metadata": {
      "needs_background": "light"
     },
     "output_type": "display_data"
    }
   ],
   "source": [
    "# INSPECTING HISTOGRAM:\n",
    "fig = plt.figure(figsize=(15,10))\n",
    "ax = plt.gca()\n",
    "df.hist(bins=100, ax=ax, layout=(3, 3), column=[\"longitude\", \"latitude\", \"housing_median_age\", \"total_rooms\", \"total_bedrooms\", \n",
    "                                                  \"population\", \"households\", \"median_income\", \"median_house_value\"])\n",
    "plt.tight_layout()\n",
    "plt.show()"
   ]
  },
  {
   "cell_type": "markdown",
   "id": "3e36128f",
   "metadata": {},
   "source": [
    "# Split the Data"
   ]
  },
  {
   "cell_type": "code",
   "execution_count": 11,
   "id": "aa256879",
   "metadata": {
    "ExecuteTime": {
     "end_time": "2022-10-09T21:56:38.285657Z",
     "start_time": "2022-10-09T21:56:38.273480Z"
    }
   },
   "outputs": [],
   "source": [
    "n = len(df)\n",
    "\n",
    "n_val = int(n*0.2)\n",
    "n_test = int(n*0.2)\n",
    "n_train = n - n_val - n_test"
   ]
  },
  {
   "cell_type": "code",
   "execution_count": 12,
   "id": "6dcc30fb",
   "metadata": {
    "ExecuteTime": {
     "end_time": "2022-10-09T21:56:38.293993Z",
     "start_time": "2022-10-09T21:56:38.288050Z"
    }
   },
   "outputs": [],
   "source": [
    "idx = np.arange(n)\n",
    "\n",
    "np.random.seed(42)\n",
    "np.random.shuffle(idx)"
   ]
  },
  {
   "cell_type": "code",
   "execution_count": 13,
   "id": "be4f16d6",
   "metadata": {
    "ExecuteTime": {
     "end_time": "2022-10-09T21:56:38.318264Z",
     "start_time": "2022-10-09T21:56:38.296281Z"
    }
   },
   "outputs": [],
   "source": [
    "df_train = df.iloc[idx[:n_train]]\n",
    "df_val = df.iloc[idx[n_train:n_train+n_val]]\n",
    "df_test = df.iloc[idx[n_train+n_val:]]"
   ]
  },
  {
   "cell_type": "code",
   "execution_count": 14,
   "id": "f24d4007",
   "metadata": {
    "ExecuteTime": {
     "end_time": "2022-10-09T21:56:38.673834Z",
     "start_time": "2022-10-09T21:56:38.659872Z"
    }
   },
   "outputs": [],
   "source": [
    "y_train = np.log1p(df_train.median_house_value)\n",
    "y_val = np.log1p(df_val.median_house_value)\n",
    "y_test = np.log1p(df_test.median_house_value)"
   ]
  },
  {
   "cell_type": "code",
   "execution_count": 15,
   "id": "e24c58a3",
   "metadata": {
    "ExecuteTime": {
     "end_time": "2022-10-09T21:56:50.709291Z",
     "start_time": "2022-10-09T21:56:50.702048Z"
    }
   },
   "outputs": [],
   "source": [
    "del df_train['median_house_value']\n",
    "del df_val['median_house_value']\n",
    "del df_test['median_house_value']"
   ]
  },
  {
   "cell_type": "markdown",
   "id": "0d8928e5",
   "metadata": {},
   "source": [
    "# Question 3"
   ]
  },
  {
   "cell_type": "code",
   "execution_count": 16,
   "id": "3ad4bf1f",
   "metadata": {
    "ExecuteTime": {
     "end_time": "2022-10-09T21:56:51.896426Z",
     "start_time": "2022-10-09T21:56:51.878959Z"
    }
   },
   "outputs": [],
   "source": [
    "def prepare_X_0(df):\n",
    "    df = df.copy()\n",
    "    X = df.fillna(0)\n",
    "    \n",
    "    return X\n",
    "\n",
    "def prepare_X_mean(df):\n",
    "    df = df.copy()\n",
    "    X = df.fillna(df.mean())\n",
    "    \n",
    "    return X"
   ]
  },
  {
   "cell_type": "code",
   "execution_count": 17,
   "id": "7362f860",
   "metadata": {
    "ExecuteTime": {
     "end_time": "2022-10-09T21:56:52.267318Z",
     "start_time": "2022-10-09T21:56:52.257587Z"
    }
   },
   "outputs": [],
   "source": [
    "def train_linear_regression(X, y):\n",
    "    ones = np.ones(X.shape[0])\n",
    "    X = np.column_stack([ones, X])\n",
    "\n",
    "    XTX = X.T.dot(X)\n",
    "    XTX_inv = np.linalg.inv(XTX)\n",
    "    w_full = XTX_inv.dot(X.T).dot(y)\n",
    "    \n",
    "    return w_full[0], w_full[1:]"
   ]
  },
  {
   "cell_type": "code",
   "execution_count": 18,
   "id": "7e88ebcc",
   "metadata": {
    "ExecuteTime": {
     "end_time": "2022-10-09T21:56:52.754016Z",
     "start_time": "2022-10-09T21:56:52.743307Z"
    }
   },
   "outputs": [],
   "source": [
    "def rmse(y, y_pred):\n",
    "    error = y - y_pred\n",
    "    se = error ** 2\n",
    "    mse = se.mean()\n",
    "    return np.sqrt(mse)"
   ]
  },
  {
   "cell_type": "code",
   "execution_count": 19,
   "id": "2f5c949c",
   "metadata": {
    "ExecuteTime": {
     "end_time": "2022-10-09T21:56:53.372877Z",
     "start_time": "2022-10-09T21:56:53.360484Z"
    }
   },
   "outputs": [
    {
     "name": "stdout",
     "output_type": "stream",
     "text": [
      "zero imputation 0.33\n"
     ]
    }
   ],
   "source": [
    "X_train = prepare_X_0(df_train)\n",
    "\n",
    "w0, w = train_linear_regression(X_train, y_train)\n",
    "\n",
    "X_val = prepare_X_0(df_val)\n",
    "y_pred = w0 + X_val.dot(w)\n",
    "\n",
    "print('zero imputation', round(rmse(y_val, y_pred),2))"
   ]
  },
  {
   "cell_type": "code",
   "execution_count": 20,
   "id": "6e744267",
   "metadata": {
    "ExecuteTime": {
     "end_time": "2022-10-09T21:56:54.138959Z",
     "start_time": "2022-10-09T21:56:54.110481Z"
    }
   },
   "outputs": [
    {
     "name": "stdout",
     "output_type": "stream",
     "text": [
      "mean imputation 0.33\n"
     ]
    }
   ],
   "source": [
    "X_train = prepare_X_mean(df_train)\n",
    "\n",
    "w0, w = train_linear_regression(X_train, y_train)\n",
    "\n",
    "X_val = prepare_X_mean(df_val)\n",
    "y_pred = w0 + X_val.dot(w)\n",
    "\n",
    "print('mean imputation', round(rmse(y_val, y_pred),2))"
   ]
  },
  {
   "cell_type": "code",
   "execution_count": 21,
   "id": "19fba375",
   "metadata": {
    "ExecuteTime": {
     "end_time": "2022-10-09T21:56:54.154783Z",
     "start_time": "2022-10-09T21:56:54.140961Z"
    }
   },
   "outputs": [],
   "source": [
    "# Both are equally good!"
   ]
  },
  {
   "cell_type": "markdown",
   "id": "d23fdc95",
   "metadata": {},
   "source": [
    "# Question 4"
   ]
  },
  {
   "cell_type": "code",
   "execution_count": 22,
   "id": "515d8d74",
   "metadata": {
    "ExecuteTime": {
     "end_time": "2022-10-09T21:56:55.487469Z",
     "start_time": "2022-10-09T21:56:55.472616Z"
    }
   },
   "outputs": [],
   "source": [
    "def train_linear_regression_reg(X, y, r=0.001):\n",
    "    ones = np.ones(X.shape[0])\n",
    "    X = np.column_stack([ones, X])\n",
    "\n",
    "    XTX = X.T.dot(X)\n",
    "    XTX = XTX + r * np.eye(XTX.shape[0])\n",
    "    \n",
    "    XTX_inv = np.linalg.inv(XTX)\n",
    "    w_full = XTX_inv.dot(X.T).dot(y)\n",
    "    \n",
    "    return w_full[0], w_full[1:]"
   ]
  },
  {
   "cell_type": "code",
   "execution_count": 23,
   "id": "cc859130",
   "metadata": {
    "ExecuteTime": {
     "end_time": "2022-10-09T21:56:56.162858Z",
     "start_time": "2022-10-09T21:56:56.153953Z"
    }
   },
   "outputs": [],
   "source": [
    "r_tune = [0, 0.000001, 0.0001, 0.001, 0.01, 0.1, 1, 5, 10]"
   ]
  },
  {
   "cell_type": "code",
   "execution_count": 24,
   "id": "31f4e0d8",
   "metadata": {
    "ExecuteTime": {
     "end_time": "2022-10-09T21:56:56.831064Z",
     "start_time": "2022-10-09T21:56:56.772610Z"
    }
   },
   "outputs": [
    {
     "name": "stdout",
     "output_type": "stream",
     "text": [
      "0 -11.686975244261813 0.33\n",
      "1e-06 -11.686959178485989 0.33\n",
      "0.0001 -11.68536886798924 0.33\n",
      "0.001 -11.670931320653887 0.33\n",
      "0.01 -11.528493588589239 0.33\n",
      "0.1 -10.274500284140842 0.33\n",
      "1 -4.9204808984587345 0.33\n",
      "5 -1.4820957458165362 0.34\n",
      "10 -0.7899311832581257 0.34\n"
     ]
    }
   ],
   "source": [
    "X_train = prepare_X_0(df_train)\n",
    "\n",
    "for r in r_tune:\n",
    "    w0, w = train_linear_regression_reg(X_train, y_train, r=r)\n",
    "\n",
    "    X_val = prepare_X_mean(df_val)\n",
    "    y_pred = w0 + X_val.dot(w)\n",
    "\n",
    "    print(r, w0, round(rmse(y_val, y_pred),2))\n",
    "    \n",
    "    \n",
    "# if there are multiple options, select the smallest r\n",
    "    \n",
    "# answer is 0"
   ]
  },
  {
   "cell_type": "markdown",
   "id": "eceb5a98",
   "metadata": {},
   "source": [
    "# Question 5"
   ]
  },
  {
   "cell_type": "code",
   "execution_count": 28,
   "id": "9ccb1c0d",
   "metadata": {
    "ExecuteTime": {
     "end_time": "2022-10-09T21:57:33.595143Z",
     "start_time": "2022-10-09T21:57:33.468269Z"
    }
   },
   "outputs": [
    {
     "name": "stdout",
     "output_type": "stream",
     "text": [
      "0 -11.900382140423538 0.34\n",
      "1 -11.732757375530449 0.34\n",
      "2 -11.806729362245843 0.33\n",
      "3 -11.587900350126908 0.34\n",
      "4 -11.389470590755955 0.34\n",
      "5 -11.447114275064546 0.34\n",
      "6 -11.370516353469474 0.35\n",
      "7 -12.473448923061865 0.34\n",
      "8 -11.800287430349286 0.35\n",
      "9 -11.45904683391947 0.34\n"
     ]
    }
   ],
   "source": [
    "rmse_list = []\n",
    "\n",
    "for r in [0, 1, 2, 3, 4, 5, 6, 7, 8, 9]:\n",
    "\n",
    "    idx = np.arange(n)\n",
    "    np.random.seed(r)\n",
    "    np.random.shuffle(idx)\n",
    "\n",
    "    df_shuffled = df.iloc[idx]\n",
    "    \n",
    "    df_train = df_shuffled.iloc[:n_train].copy()\n",
    "    df_val = df_shuffled.iloc[n_train:n_train+n_val].copy()\n",
    "    df_test = df_shuffled.iloc[n_train+n_val:].copy()\n",
    "\n",
    "    df_train = df_train.reset_index(drop=True)\n",
    "    df_val = df_val.reset_index(drop=True)\n",
    "    df_test = df_test.reset_index(drop=True)\n",
    "    \n",
    "    y_train_orig = df_train.median_house_value.values\n",
    "    y_val_orig = df_val.median_house_value.values\n",
    "    y_test_orig = df_test.median_house_value.values\n",
    "\n",
    "    y_train = np.log1p(y_train_orig)\n",
    "    y_val = np.log1p(y_val_orig)\n",
    "    y_test = np.log1p(y_test_orig)\n",
    "    \n",
    "    del df_train['median_house_value']\n",
    "    del df_val['median_house_value']\n",
    "    del df_test['median_house_value']\n",
    "    \n",
    "    X_null_train = prepare_X_0(df_train)\n",
    "    w_0, w = train_linear_regression(X_null_train, y_train)\n",
    "    \n",
    "    X_null_val = prepare_X_0(df_val)\n",
    "    y_null_reg_val = w_0 + X_null_val.dot(w)\n",
    "    rmse_val = np.round(rmse(y_val, y_null_reg_val),2)\n",
    "    \n",
    "    rmse_list.append(rmse_val)\n",
    "    \n",
    "    print(r, w_0, rmse_val)"
   ]
  },
  {
   "cell_type": "code",
   "execution_count": 29,
   "id": "d7408fad",
   "metadata": {
    "ExecuteTime": {
     "end_time": "2022-10-09T21:57:55.714032Z",
     "start_time": "2022-10-09T21:57:55.694888Z"
    }
   },
   "outputs": [
    {
     "data": {
      "text/plain": [
       "[0.34, 0.34, 0.33, 0.34, 0.34, 0.34, 0.35, 0.34, 0.35, 0.34]"
      ]
     },
     "execution_count": 29,
     "metadata": {},
     "output_type": "execute_result"
    }
   ],
   "source": [
    "rmse_list"
   ]
  },
  {
   "cell_type": "code",
   "execution_count": 30,
   "id": "fb358cfe",
   "metadata": {
    "ExecuteTime": {
     "end_time": "2022-10-09T21:57:57.241201Z",
     "start_time": "2022-10-09T21:57:57.230651Z"
    }
   },
   "outputs": [
    {
     "data": {
      "text/plain": [
       "0.005"
      ]
     },
     "execution_count": 30,
     "metadata": {},
     "output_type": "execute_result"
    }
   ],
   "source": [
    "np.round(np.std(rmse_list),3)\n",
    "\n",
    "# Note: Standard deviation shows how different the values are. \n",
    "# If it's low, then all values are approximately the same. \n",
    "# If it's high, the values are different. \n",
    "# If standard deviation of scores is low, then our model is stable.\n",
    "\n",
    "# the answer is 0.005"
   ]
  },
  {
   "cell_type": "markdown",
   "id": "47228cd2",
   "metadata": {},
   "source": [
    "# Question 6"
   ]
  },
  {
   "cell_type": "code",
   "execution_count": 32,
   "id": "b2c4ef7b",
   "metadata": {
    "ExecuteTime": {
     "end_time": "2022-10-09T22:00:07.687026Z",
     "start_time": "2022-10-09T22:00:07.668910Z"
    }
   },
   "outputs": [],
   "source": [
    "r = 9\n",
    "\n",
    "idx = np.arange(n)\n",
    "np.random.seed(r)\n",
    "np.random.shuffle(idx)\n",
    "\n",
    "df_shuffled = df.iloc[idx]\n",
    "    \n",
    "df_train = df_shuffled.iloc[:n_train].copy()\n",
    "df_val = df_shuffled.iloc[n_train:n_train+n_val].copy()\n",
    "df_test = df_shuffled.iloc[n_train+n_val:].copy()\n",
    "\n",
    "frames = [df_train, df_val]\n",
    "df_train_val = pd.concat(frames)\n",
    "\n",
    "df_train_val = df_train_val.reset_index(drop=True)\n",
    "df_test = df_test.reset_index(drop=True)\n",
    "\n",
    "y_train_val_orig = df_train_val.median_house_value.values\n",
    "y_test_orig = df_test.median_house_value.values\n",
    "\n",
    "y_train_val = np.log1p(y_train_val_orig)\n",
    "y_test = np.log1p(y_test_orig)\n",
    "\n",
    "del df_train_val['median_house_value']\n",
    "del df_test['median_house_value']"
   ]
  },
  {
   "cell_type": "code",
   "execution_count": 35,
   "id": "319f04e0",
   "metadata": {
    "ExecuteTime": {
     "end_time": "2022-10-09T22:00:31.674142Z",
     "start_time": "2022-10-09T22:00:31.649278Z"
    }
   },
   "outputs": [
    {
     "data": {
      "text/plain": [
       "0.35"
      ]
     },
     "execution_count": 35,
     "metadata": {},
     "output_type": "execute_result"
    }
   ],
   "source": [
    "X_null_train_val = prepare_X_0(df_train_val)\n",
    "w_0_train_val, w_train_val = train_linear_regression_reg(X_null_train_val, y_train_val, r=0.001)\n",
    "\n",
    "X_null_test = prepare_X_0(df_test)\n",
    "y_null_pred_test = w_0_train_val + X_null_test.dot(w_train_val)\n",
    "\n",
    "np.round(rmse(y_test, y_null_pred_test),2)"
   ]
  },
  {
   "cell_type": "code",
   "execution_count": null,
   "id": "5408c36c",
   "metadata": {},
   "outputs": [],
   "source": [
    "# the answer is 0.35"
   ]
  }
 ],
 "metadata": {
  "kernelspec": {
   "display_name": "Python 3 (ipykernel)",
   "language": "python",
   "name": "python3"
  },
  "language_info": {
   "codemirror_mode": {
    "name": "ipython",
    "version": 3
   },
   "file_extension": ".py",
   "mimetype": "text/x-python",
   "name": "python",
   "nbconvert_exporter": "python",
   "pygments_lexer": "ipython3",
   "version": "3.9.7"
  },
  "toc": {
   "base_numbering": 1,
   "nav_menu": {},
   "number_sections": true,
   "sideBar": true,
   "skip_h1_title": false,
   "title_cell": "Table of Contents",
   "title_sidebar": "Contents",
   "toc_cell": false,
   "toc_position": {
    "height": "calc(100% - 180px)",
    "left": "10px",
    "top": "150px",
    "width": "238px"
   },
   "toc_section_display": true,
   "toc_window_display": true
  }
 },
 "nbformat": 4,
 "nbformat_minor": 5
}
