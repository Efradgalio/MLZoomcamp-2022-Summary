{
 "cells": [
  {
   "cell_type": "markdown",
   "id": "891c0ec6",
   "metadata": {},
   "source": [
    "# Library"
   ]
  },
  {
   "cell_type": "code",
   "execution_count": 2,
   "id": "79f18ab6",
   "metadata": {
    "ExecuteTime": {
     "end_time": "2022-10-14T21:16:02.853569Z",
     "start_time": "2022-10-14T21:16:02.843970Z"
    }
   },
   "outputs": [],
   "source": [
    "import pandas as pd\n",
    "import numpy as np\n",
    "import matplotlib.pyplot as plt\n",
    "\n",
    "from sklearn.linear_model import LogisticRegression\n",
    "from sklearn.metrics import roc_auc_score, roc_curve\n",
    "from sklearn.model_selection import train_test_split\n",
    "from sklearn.feature_extraction import DictVectorizer\n",
    "from sklearn.model_selection import KFold\n"
   ]
  },
  {
   "cell_type": "markdown",
   "id": "78246276",
   "metadata": {},
   "source": [
    "# Data Preparation"
   ]
  },
  {
   "cell_type": "code",
   "execution_count": 3,
   "id": "4cd88727",
   "metadata": {
    "ExecuteTime": {
     "end_time": "2022-10-14T21:16:04.514968Z",
     "start_time": "2022-10-14T21:16:03.954592Z"
    }
   },
   "outputs": [
    {
     "data": {
      "text/plain": [
       "(1319, 12)"
      ]
     },
     "execution_count": 3,
     "metadata": {},
     "output_type": "execute_result"
    }
   ],
   "source": [
    "df = pd.read_csv('https://raw.githubusercontent.com/alexeygrigorev/datasets/master/AER_credit_card_data.csv')\n",
    "df.shape"
   ]
  },
  {
   "cell_type": "code",
   "execution_count": 4,
   "id": "40e9660b",
   "metadata": {
    "ExecuteTime": {
     "end_time": "2022-10-14T21:16:04.530807Z",
     "start_time": "2022-10-14T21:16:04.517296Z"
    }
   },
   "outputs": [],
   "source": [
    "df['card'] = (df.card == 'yes').astype(int)\n",
    "\n",
    "# card_values = {\n",
    "#     \"yes\": 1,\n",
    "#     \"no\": 0\n",
    "# }\n",
    "# data[\"card\"] = data.card.map(card_values)\n",
    "# data.head(10)"
   ]
  },
  {
   "cell_type": "code",
   "execution_count": 5,
   "id": "fea7c8a2",
   "metadata": {
    "ExecuteTime": {
     "end_time": "2022-10-14T21:16:04.804106Z",
     "start_time": "2022-10-14T21:16:04.784849Z"
    }
   },
   "outputs": [],
   "source": [
    "df_full_train, df_test = train_test_split(df, test_size = 0.2, random_state=1)\n",
    "df_train, df_val = train_test_split(df_full_train, test_size = 0.25, random_state=1)"
   ]
  },
  {
   "cell_type": "code",
   "execution_count": 6,
   "id": "a42478eb",
   "metadata": {
    "ExecuteTime": {
     "end_time": "2022-10-14T21:16:05.133755Z",
     "start_time": "2022-10-14T21:16:05.119189Z"
    }
   },
   "outputs": [],
   "source": [
    "df_train = df_train.reset_index(drop=True)\n",
    "df_val = df_val.reset_index(drop=True)\n",
    "df_test = df_test.reset_index(drop=True)\n",
    "\n",
    "y_train = df_train.card\n",
    "y_val = df_val.card\n",
    "y_test = df_test.card\n",
    "\n",
    "del df_train['card']\n",
    "del df_val['card']\n",
    "del df_test['card']"
   ]
  },
  {
   "cell_type": "markdown",
   "id": "9c08c46e",
   "metadata": {},
   "source": [
    "# Question 1\n",
    "ROC AUC could also be used to evaluate feature importance of numerical variables.\n",
    "- For each numerical variable, use it as score and compute AUC with the card variable.\n",
    "- Use the training dataset for that.\n",
    "\n",
    "If your AUC is < 0.5, invert this variable by putting \"-\" in front (e.g -df_train['expenditure'])\n",
    "\n",
    "\n",
    "Which numerical variable (among the following 4) has the highest AUC?\n",
    "- reports\n",
    "- dependents\n",
    "- active\n",
    "- share"
   ]
  },
  {
   "cell_type": "code",
   "execution_count": 7,
   "id": "4b746581",
   "metadata": {
    "ExecuteTime": {
     "end_time": "2022-10-14T21:16:05.755495Z",
     "start_time": "2022-10-14T21:16:05.744357Z"
    }
   },
   "outputs": [],
   "source": [
    "numerical = [\"reports\", \"age\", \"income\", \"share\", \"expenditure\", \"dependents\", \"months\", \"majorcards\", \"active\"]\n",
    "categorical = [\"owner\", \"selfemp\"]"
   ]
  },
  {
   "cell_type": "code",
   "execution_count": 8,
   "id": "0375c68e",
   "metadata": {
    "ExecuteTime": {
     "end_time": "2022-10-14T21:16:06.196860Z",
     "start_time": "2022-10-14T21:16:06.165133Z"
    }
   },
   "outputs": [
    {
     "name": "stdout",
     "output_type": "stream",
     "text": [
      "reports 0.7162\n",
      "age 0.5044\n",
      "income 0.5841\n",
      "share 0.9882\n",
      "expenditure 0.9891\n",
      "dependents 0.5179\n",
      "months 0.5208\n",
      "majorcards 0.5409\n",
      "active 0.5913\n"
     ]
    }
   ],
   "source": [
    "for i in numerical:\n",
    "    auc = roc_auc_score(df_full_train.card, df_full_train[i])\n",
    "    if auc < 0.5:\n",
    "        auc = roc_auc_score(df_full_train.card, -df_full_train[i])\n",
    "    print(i, auc.round(4))"
   ]
  },
  {
   "cell_type": "code",
   "execution_count": 9,
   "id": "55f73dcb",
   "metadata": {
    "ExecuteTime": {
     "end_time": "2022-10-14T21:16:06.550029Z",
     "start_time": "2022-10-14T21:16:06.544399Z"
    }
   },
   "outputs": [],
   "source": [
    "# Answer is share"
   ]
  },
  {
   "cell_type": "code",
   "execution_count": 10,
   "id": "fda7a099",
   "metadata": {
    "ExecuteTime": {
     "end_time": "2022-10-14T21:16:07.490471Z",
     "start_time": "2022-10-14T21:16:07.248694Z"
    }
   },
   "outputs": [
    {
     "data": {
      "image/png": "[encoded data removed]",
      "text/plain": [
       "<Figure size 360x360 with 1 Axes>"
      ]
     },
     "metadata": {
      "needs_background": "light"
     },
     "output_type": "display_data"
    }
   ],
   "source": [
    "plt.figure(figsize=(5, 5))\n",
    "\n",
    "fpr, tpr, _ = roc_curve(y_train, df_train.share)\n",
    "plt.plot(fpr, tpr, label='+share')\n",
    "\n",
    "fpr, tpr, _ = roc_curve(y_train, -df_train.share)\n",
    "plt.plot(fpr, tpr, label='-share')\n",
    "\n",
    "plt.plot([0, 1], [0, 1], color='grey', linestyle='--')\n",
    "\n",
    "plt.legend()\n",
    "plt.show()"
   ]
  },
  {
   "cell_type": "markdown",
   "id": "6317fab1",
   "metadata": {},
   "source": [
    "# Training the Model"
   ]
  },
  {
   "cell_type": "code",
   "execution_count": 11,
   "id": "7c237723",
   "metadata": {
    "ExecuteTime": {
     "end_time": "2022-10-14T21:16:30.915128Z",
     "start_time": "2022-10-14T21:16:30.860951Z"
    }
   },
   "outputs": [
    {
     "data": {
      "text/plain": [
       "LogisticRegression(max_iter=1000, solver='liblinear')"
      ]
     },
     "execution_count": 11,
     "metadata": {},
     "output_type": "execute_result"
    }
   ],
   "source": [
    "base = [\"reports\", \"age\", \"income\", \"share\", \"expenditure\", \"dependents\", \"months\", \"majorcards\", \n",
    "        \"active\", \"owner\", \"selfemp\"]\n",
    "\n",
    "columns = base\n",
    "\n",
    "train_dicts = df_train[columns].to_dict(orient='records')\n",
    "dv = DictVectorizer(sparse=False)\n",
    "X_train = dv.fit_transform(train_dicts)\n",
    "\n",
    "model = LogisticRegression(solver='liblinear', C=1.0, max_iter=1000)\n",
    "model.fit(X_train, y_train)"
   ]
  },
  {
   "cell_type": "markdown",
   "id": "b223114b",
   "metadata": {},
   "source": [
    "# Question 2\n",
    "What's the AUC of this model on the validation dataset? (round to 3 digits)\n",
    "- 0.615\n",
    "- 0.515\n",
    "- 0.715\n",
    "- 0.995"
   ]
  },
  {
   "cell_type": "code",
   "execution_count": 12,
   "id": "f14e6e51",
   "metadata": {
    "ExecuteTime": {
     "end_time": "2022-10-14T21:16:33.775187Z",
     "start_time": "2022-10-14T21:16:33.755443Z"
    }
   },
   "outputs": [
    {
     "data": {
      "text/plain": [
       "0.995"
      ]
     },
     "execution_count": 12,
     "metadata": {},
     "output_type": "execute_result"
    }
   ],
   "source": [
    "val_dicts = df_val[columns].to_dict(orient='records')\n",
    "X_val = dv.transform(val_dicts)\n",
    "\n",
    "y_pred = model.predict_proba(X_val)[:,1]\n",
    "\n",
    "roc_auc_score(y_val,  y_pred).round(3)"
   ]
  },
  {
   "cell_type": "code",
   "execution_count": 13,
   "id": "677c0c4c",
   "metadata": {
    "ExecuteTime": {
     "end_time": "2022-10-14T21:16:34.684073Z",
     "start_time": "2022-10-14T21:16:34.667528Z"
    }
   },
   "outputs": [],
   "source": [
    "# Answer is 0.995"
   ]
  },
  {
   "cell_type": "markdown",
   "id": "a002a7b0",
   "metadata": {},
   "source": [
    "# Question 3\n",
    "Compute precision and recall for our model\n",
    "- Evaluate the model on the validation dataset on all thresholds from 0.0 to 1.0 with step 0.01\n",
    "- For each threshold, compute precision and recall\n",
    "- Plot them\n",
    "\n",
    "At which treshold precision and recall curves intersect?\n",
    "- 0.1\n",
    "- 0.3\n",
    "- 0.6\n",
    "-0.8"
   ]
  },
  {
   "cell_type": "code",
   "execution_count": 45,
   "id": "d0c9b275",
   "metadata": {
    "ExecuteTime": {
     "end_time": "2022-10-14T21:36:41.925262Z",
     "start_time": "2022-10-14T21:36:41.836145Z"
    }
   },
   "outputs": [],
   "source": [
    "thresholds = np.linspace(0, 1 ,101)\n",
    "scores = []\n",
    "\n",
    "for t in thresholds:\n",
    "    actual_positive = (y_val == 1)\n",
    "    actual_negative = (y_val == 0)\n",
    "    \n",
    "    predict_positive = (y_pred >= t)\n",
    "    predict_negative = (y_pred < t)\n",
    "    \n",
    "    tp = (actual_positive & predict_positive).sum()\n",
    "    fp = (actual_negative & predict_positive).sum()\n",
    "    \n",
    "    tn = (actual_negative & predict_negative).sum()\n",
    "    fn = (actual_positive & predict_negative).sum()\n",
    "    \n",
    "    precision = tp/(tp+fp)\n",
    "    recall = tp/(tp+fn)\n",
    "    \n",
    "    scores.append([t, precision, recall])"
   ]
  },
  {
   "cell_type": "code",
   "execution_count": 46,
   "id": "5581b1e1",
   "metadata": {
    "ExecuteTime": {
     "end_time": "2022-10-14T21:36:42.338138Z",
     "start_time": "2022-10-14T21:36:42.322118Z"
    }
   },
   "outputs": [],
   "source": [
    "scores = pd.DataFrame(scores, columns = ['threshold', 'precision', 'recall'])"
   ]
  },
  {
   "cell_type": "code",
   "execution_count": 49,
   "id": "47ab26d8",
   "metadata": {
    "ExecuteTime": {
     "end_time": "2022-10-14T21:37:09.044798Z",
     "start_time": "2022-10-14T21:37:08.882388Z"
    }
   },
   "outputs": [
    {
     "data": {
      "text/plain": [
       "<matplotlib.legend.Legend at 0x20984b6f520>"
      ]
     },
     "execution_count": 49,
     "metadata": {},
     "output_type": "execute_result"
    },
    {
     "data": {
      "image/png": "[encoded data removed]",
      "text/plain": [
       "<Figure size 432x288 with 1 Axes>"
      ]
     },
     "metadata": {
      "needs_background": "light"
     },
     "output_type": "display_data"
    }
   ],
   "source": [
    "plt.plot(scores.threshold, scores.precision, label='Precision')\n",
    "plt.plot(scores.threshold, scores.recall, label='Recall')\n",
    "plt.legend()"
   ]
  },
  {
   "cell_type": "code",
   "execution_count": 50,
   "id": "fb46f056",
   "metadata": {
    "ExecuteTime": {
     "end_time": "2022-10-14T21:37:26.730395Z",
     "start_time": "2022-10-14T21:37:26.702042Z"
    }
   },
   "outputs": [
    {
     "data": {
      "text/html": [
       "<div>\n",
       "<style scoped>\n",
       "    .dataframe tbody tr th:only-of-type {\n",
       "        vertical-align: middle;\n",
       "    }\n",
       "\n",
       "    .dataframe tbody tr th {\n",
       "        vertical-align: top;\n",
       "    }\n",
       "\n",
       "    .dataframe thead th {\n",
       "        text-align: right;\n",
       "    }\n",
       "</style>\n",
       "<table border=\"1\" class=\"dataframe\">\n",
       "  <thead>\n",
       "    <tr style=\"text-align: right;\">\n",
       "      <th></th>\n",
       "      <th>threshold</th>\n",
       "      <th>precision</th>\n",
       "      <th>recall</th>\n",
       "    </tr>\n",
       "  </thead>\n",
       "  <tbody>\n",
       "    <tr>\n",
       "      <th>24</th>\n",
       "      <td>0.24</td>\n",
       "      <td>0.976303</td>\n",
       "      <td>0.976303</td>\n",
       "    </tr>\n",
       "    <tr>\n",
       "      <th>25</th>\n",
       "      <td>0.25</td>\n",
       "      <td>0.976303</td>\n",
       "      <td>0.976303</td>\n",
       "    </tr>\n",
       "    <tr>\n",
       "      <th>26</th>\n",
       "      <td>0.26</td>\n",
       "      <td>0.976303</td>\n",
       "      <td>0.976303</td>\n",
       "    </tr>\n",
       "    <tr>\n",
       "      <th>27</th>\n",
       "      <td>0.27</td>\n",
       "      <td>0.976303</td>\n",
       "      <td>0.976303</td>\n",
       "    </tr>\n",
       "    <tr>\n",
       "      <th>28</th>\n",
       "      <td>0.28</td>\n",
       "      <td>0.976303</td>\n",
       "      <td>0.976303</td>\n",
       "    </tr>\n",
       "    <tr>\n",
       "      <th>29</th>\n",
       "      <td>0.29</td>\n",
       "      <td>0.976303</td>\n",
       "      <td>0.976303</td>\n",
       "    </tr>\n",
       "  </tbody>\n",
       "</table>\n",
       "</div>"
      ],
      "text/plain": [
       "    threshold  precision    recall\n",
       "24       0.24   0.976303  0.976303\n",
       "25       0.25   0.976303  0.976303\n",
       "26       0.26   0.976303  0.976303\n",
       "27       0.27   0.976303  0.976303\n",
       "28       0.28   0.976303  0.976303\n",
       "29       0.29   0.976303  0.976303"
      ]
     },
     "execution_count": 50,
     "metadata": {},
     "output_type": "execute_result"
    }
   ],
   "source": [
    "scores[scores.precision == scores.recall]"
   ]
  },
  {
   "cell_type": "code",
   "execution_count": null,
   "id": "1ac75661",
   "metadata": {},
   "outputs": [],
   "source": [
    "# Answer is ~0.3"
   ]
  },
  {
   "cell_type": "markdown",
   "id": "fa517d83",
   "metadata": {},
   "source": [
    "# Question 4\n",
    "Precision and Recall are conflicting - when one grows, the other goes down. That's why they are often combined into the F1 score - a metrics that takes into account both\n",
    "\n",
    "This is the formula for computing F1: \n",
    "    <br>$F_{1} = 2 . \\frac{P.R}{P+R}$\n",
    "    \n",
    "Where P is precision and R is recall.\n",
    "\n",
    "Compute F1 for all thresholds from 0.0 to 1.0 with increment 0.01 using the validation set.\n",
    "\n",
    "At which threshold F1 is maximal?\n",
    "- 0.1\n",
    "- 0.4\n",
    "- 0.6\n",
    "- 0.7\n"
   ]
  },
  {
   "cell_type": "code",
   "execution_count": 51,
   "id": "5285fe9f",
   "metadata": {
    "ExecuteTime": {
     "end_time": "2022-10-14T21:47:07.336299Z",
     "start_time": "2022-10-14T21:47:07.321338Z"
    }
   },
   "outputs": [],
   "source": [
    "thresholds = np.linspace(0, 1, 101)"
   ]
  },
  {
   "cell_type": "code",
   "execution_count": 52,
   "id": "ba8d8570",
   "metadata": {
    "ExecuteTime": {
     "end_time": "2022-10-14T21:51:13.394382Z",
     "start_time": "2022-10-14T21:51:13.272677Z"
    }
   },
   "outputs": [],
   "source": [
    "scores = []\n",
    "for t in thresholds:\n",
    "    actual_positive = (y_val == 1)\n",
    "    actuaL_negative = (y_val == 0)\n",
    "    \n",
    "    predict_positive = (y_pred >= t)\n",
    "    predict_negative = (y_pred < t)\n",
    "    \n",
    "    tp = (actual_positive & predict_positive).sum()\n",
    "    tn = (actual_negative & predict_negative).sum()\n",
    "    \n",
    "    fp = (predict_positive & actual_negative).sum()\n",
    "    fn = (predict_negative & actual_positive).sum()\n",
    "    \n",
    "    precision = tp/(tp+fp)\n",
    "    recall = tp/(tp+fn)\n",
    "    \n",
    "    f1 = 2*((precision*recall)/(precision+recall))\n",
    "    \n",
    "    scores.append([t,f1])\n",
    "    \n",
    "scores = pd.DataFrame(scores, columns = ['threshold', 'f1-score'])"
   ]
  },
  {
   "cell_type": "code",
   "execution_count": 56,
   "id": "d5991097",
   "metadata": {
    "ExecuteTime": {
     "end_time": "2022-10-14T21:51:52.893326Z",
     "start_time": "2022-10-14T21:51:52.883556Z"
    }
   },
   "outputs": [
    {
     "data": {
      "text/html": [
       "<div>\n",
       "<style scoped>\n",
       "    .dataframe tbody tr th:only-of-type {\n",
       "        vertical-align: middle;\n",
       "    }\n",
       "\n",
       "    .dataframe tbody tr th {\n",
       "        vertical-align: top;\n",
       "    }\n",
       "\n",
       "    .dataframe thead th {\n",
       "        text-align: right;\n",
       "    }\n",
       "</style>\n",
       "<table border=\"1\" class=\"dataframe\">\n",
       "  <thead>\n",
       "    <tr style=\"text-align: right;\">\n",
       "      <th></th>\n",
       "      <th>threshold</th>\n",
       "      <th>f1-score</th>\n",
       "    </tr>\n",
       "  </thead>\n",
       "  <tbody>\n",
       "    <tr>\n",
       "      <th>35</th>\n",
       "      <td>0.35</td>\n",
       "      <td>0.983213</td>\n",
       "    </tr>\n",
       "    <tr>\n",
       "      <th>36</th>\n",
       "      <td>0.36</td>\n",
       "      <td>0.983213</td>\n",
       "    </tr>\n",
       "    <tr>\n",
       "      <th>37</th>\n",
       "      <td>0.37</td>\n",
       "      <td>0.983213</td>\n",
       "    </tr>\n",
       "    <tr>\n",
       "      <th>38</th>\n",
       "      <td>0.38</td>\n",
       "      <td>0.983213</td>\n",
       "    </tr>\n",
       "    <tr>\n",
       "      <th>39</th>\n",
       "      <td>0.39</td>\n",
       "      <td>0.983213</td>\n",
       "    </tr>\n",
       "    <tr>\n",
       "      <th>40</th>\n",
       "      <td>0.40</td>\n",
       "      <td>0.983213</td>\n",
       "    </tr>\n",
       "    <tr>\n",
       "      <th>41</th>\n",
       "      <td>0.41</td>\n",
       "      <td>0.983213</td>\n",
       "    </tr>\n",
       "  </tbody>\n",
       "</table>\n",
       "</div>"
      ],
      "text/plain": [
       "    threshold  f1-score\n",
       "35       0.35  0.983213\n",
       "36       0.36  0.983213\n",
       "37       0.37  0.983213\n",
       "38       0.38  0.983213\n",
       "39       0.39  0.983213\n",
       "40       0.40  0.983213\n",
       "41       0.41  0.983213"
      ]
     },
     "execution_count": 56,
     "metadata": {},
     "output_type": "execute_result"
    }
   ],
   "source": [
    "scores[scores['f1-score'] == scores['f1-score'].max()]"
   ]
  },
  {
   "cell_type": "code",
   "execution_count": null,
   "id": "e2278d78",
   "metadata": {},
   "outputs": [],
   "source": [
    "# Answer is ~0.4"
   ]
  },
  {
   "cell_type": "markdown",
   "id": "9bb0ea1f",
   "metadata": {},
   "source": [
    "# Question 5\n",
    "Use the **KFold** class from Scikit-Learn to evaluate our model on 5 different folds:\n",
    "- Iterate over different folds of df_full_train\n",
    "- Split the data into train and validation\n",
    "- Train the model on train with these parameters: LogisticRegression(solver='liblinear', C=1, max_iter=1000)\n",
    "- Use AUC to evaluate the model on validation\n",
    "\n",
    "How large is standard deviation of the AUC scores across different folds?\n",
    "- 0.003\n",
    "- 0.014\n",
    "- 0.09\n",
    "- 0.24"
   ]
  },
  {
   "cell_type": "code",
   "execution_count": 58,
   "id": "7d29ee19",
   "metadata": {
    "ExecuteTime": {
     "end_time": "2022-10-14T21:58:33.082061Z",
     "start_time": "2022-10-14T21:58:33.068777Z"
    }
   },
   "outputs": [],
   "source": [
    "numerical = [\"reports\", \"age\", \"income\", \"share\", \"expenditure\", \"dependents\", \"months\", \"majorcards\", \"active\"]\n",
    "categorical = [\"owner\", \"selfemp\"]"
   ]
  },
  {
   "cell_type": "code",
   "execution_count": 59,
   "id": "866561c2",
   "metadata": {
    "ExecuteTime": {
     "end_time": "2022-10-14T21:59:12.377788Z",
     "start_time": "2022-10-14T21:59:12.366728Z"
    }
   },
   "outputs": [],
   "source": [
    "def train(df,y_train, C=1):\n",
    "    dicts = df[categorical + numerical].to_dict(orient='records')\n",
    "    \n",
    "    dv = DictVectorizer(sparse=False)\n",
    "    X_train = dv.fit_transform(dicts)\n",
    "    \n",
    "    model = LogisticRegression(solver='liblinear', C=1.0, max_iter=1000)\n",
    "    model.fit(X_train, y_train)\n",
    "    \n",
    "    return dv, model"
   ]
  },
  {
   "cell_type": "code",
   "execution_count": 60,
   "id": "adb40889",
   "metadata": {
    "ExecuteTime": {
     "end_time": "2022-10-14T21:59:15.744342Z",
     "start_time": "2022-10-14T21:59:15.733654Z"
    }
   },
   "outputs": [],
   "source": [
    "def predict(df,dv, model):\n",
    "    dicts = df[categorical + numerical].to_dict(orient='records')\n",
    "    \n",
    "    X = dv.transform(dicts)\n",
    "    y_pred = model.predict_proba(X)[:,1]\n",
    "    return y_pred"
   ]
  },
  {
   "cell_type": "code",
   "execution_count": 62,
   "id": "bbf51083",
   "metadata": {
    "ExecuteTime": {
     "end_time": "2022-10-14T21:59:44.197683Z",
     "start_time": "2022-10-14T21:59:44.074079Z"
    }
   },
   "outputs": [],
   "source": [
    "from tqdm.auto import tqdm"
   ]
  },
  {
   "cell_type": "code",
   "execution_count": 66,
   "id": "7ec1798c",
   "metadata": {
    "ExecuteTime": {
     "end_time": "2022-10-14T22:00:18.793713Z",
     "start_time": "2022-10-14T22:00:18.588653Z"
    }
   },
   "outputs": [
    {
     "data": {
      "application/vnd.jupyter.widget-view+json": {
       "model_id": "cb7cbec63091494388c87cef6556bc80",
       "version_major": 2,
       "version_minor": 0
      },
      "text/plain": [
       "  0%|          | 0/5 [00:00<?, ?it/s]"
      ]
     },
     "metadata": {},
     "output_type": "display_data"
    }
   ],
   "source": [
    "kfold = KFold(n_splits=5, shuffle=True, random_state=1)\n",
    "\n",
    "scores = []\n",
    "\n",
    "for train_idx, val_idx in tqdm(kfold.split(df_full_train), total=5):\n",
    "    df_train = df_full_train.iloc[train_idx]\n",
    "    df_val = df_full_train.iloc[val_idx]\n",
    "    \n",
    "    y_train = df_train.card.values\n",
    "    y_val = df_val.card.values\n",
    "    \n",
    "    dv, model = train(df_train, y_train)\n",
    "    y_pred = predict(df_val, dv, model)\n",
    "    \n",
    "    auc = roc_auc_score(y_val, y_pred)\n",
    "    scores.append(auc)"
   ]
  },
  {
   "cell_type": "code",
   "execution_count": 69,
   "id": "50f9f9b7",
   "metadata": {
    "ExecuteTime": {
     "end_time": "2022-10-14T22:00:42.042946Z",
     "start_time": "2022-10-14T22:00:42.031324Z"
    }
   },
   "outputs": [
    {
     "data": {
      "text/plain": [
       "0.003"
      ]
     },
     "execution_count": 69,
     "metadata": {},
     "output_type": "execute_result"
    }
   ],
   "source": [
    "np.array(scores).std().round(3)"
   ]
  },
  {
   "cell_type": "code",
   "execution_count": null,
   "id": "c5c19ee4",
   "metadata": {},
   "outputs": [],
   "source": [
    "# Answer is 0.003"
   ]
  },
  {
   "cell_type": "markdown",
   "id": "69cdfc04",
   "metadata": {},
   "source": [
    "# Question 6\n",
    "Let's use 5-Fold cross-validation to find the best parameter C\n",
    "- Iterate over the following C values: [0.01, 0.1, 1, 10]\n",
    "- Initialize KFold with the same parameters as previously\n",
    "- Use these parameters for the model: LogisticRegression(solver='liblinear', C=C, max_iter=1000)\n",
    "- Compute the mean score as well as the std (round the mean and std to 3 decimal digits)\n",
    "\n",
    "Which C leads to the best mean score?\n",
    "- 0.01\n",
    "- 0.1\n",
    "- 1\n",
    "- 10\n",
    "\n",
    "If you have ties, select the score with the lowest std. If you still have ties, select the smallest C"
   ]
  },
  {
   "cell_type": "code",
   "execution_count": 70,
   "id": "7b892135",
   "metadata": {
    "ExecuteTime": {
     "end_time": "2022-10-14T22:45:02.664772Z",
     "start_time": "2022-10-14T22:45:02.655988Z"
    }
   },
   "outputs": [],
   "source": [
    "def train(df,y_train, C=1):\n",
    "    dicts = df[categorical + numerical].to_dict(orient='records')\n",
    "    \n",
    "    dv = DictVectorizer(sparse=False)\n",
    "    X_train = dv.fit_transform(dicts)\n",
    "    \n",
    "    model = LogisticRegression(solver='liblinear', C=C, max_iter=1000)\n",
    "    model.fit(X_train, y_train)\n",
    "    \n",
    "    return dv, model"
   ]
  },
  {
   "cell_type": "code",
   "execution_count": 73,
   "id": "21a1bf42",
   "metadata": {
    "ExecuteTime": {
     "end_time": "2022-10-14T22:47:53.653080Z",
     "start_time": "2022-10-14T22:47:53.007024Z"
    }
   },
   "outputs": [
    {
     "data": {
      "application/vnd.jupyter.widget-view+json": {
       "model_id": "9e9702af9fdd4dac93565535140e2313",
       "version_major": 2,
       "version_minor": 0
      },
      "text/plain": [
       "  0%|          | 0/4 [00:00<?, ?it/s]"
      ]
     },
     "metadata": {},
     "output_type": "display_data"
    },
    {
     "name": "stdout",
     "output_type": "stream",
     "text": [
      "C: 0.01 score: 0.992 +- 0.006\n",
      "C: 0.1 score: 0.995 +- 0.004\n",
      "C: 1 score: 0.996 +- 0.003\n",
      "C: 10 score: 0.996 +- 0.003\n"
     ]
    }
   ],
   "source": [
    "kfold = KFold(n_splits=5, shuffle=True, random_state=1)\n",
    "\n",
    "for C in tqdm([0.01, 0.1, 1, 10]):\n",
    "    scores = []\n",
    "\n",
    "    for train_idx, val_idx in kfold.split(df_full_train):\n",
    "        df_train = df_full_train.iloc[train_idx]\n",
    "        df_val = df_full_train.iloc[val_idx]\n",
    "\n",
    "        y_train = df_train.card.values\n",
    "        y_val = df_val.card.values\n",
    "\n",
    "        dv, model = train(df_train, y_train,C=C)\n",
    "        y_pred = predict(df_val, dv, model)\n",
    "\n",
    "        auc = roc_auc_score(y_val, y_pred)\n",
    "        scores.append(auc)\n",
    "        \n",
    "    print(\"C:\", C,\"score:\", np.mean(scores).round(3), \"+-\", np.std(scores).round(3))"
   ]
  },
  {
   "cell_type": "code",
   "execution_count": null,
   "id": "e683b98a",
   "metadata": {},
   "outputs": [],
   "source": [
    "# Answer is 1"
   ]
  }
 ],
 "metadata": {
  "kernelspec": {
   "display_name": "Python 3 (ipykernel)",
   "language": "python",
   "name": "python3"
  },
  "language_info": {
   "codemirror_mode": {
    "name": "ipython",
    "version": 3
   },
   "file_extension": ".py",
   "mimetype": "text/x-python",
   "name": "python",
   "nbconvert_exporter": "python",
   "pygments_lexer": "ipython3",
   "version": "3.9.7"
  },
  "toc": {
   "base_numbering": 1,
   "nav_menu": {},
   "number_sections": true,
   "sideBar": true,
   "skip_h1_title": false,
   "title_cell": "Table of Contents",
   "title_sidebar": "Contents",
   "toc_cell": false,
   "toc_position": {},
   "toc_section_display": true,
   "toc_window_display": true
  }
 },
 "nbformat": 4,
 "nbformat_minor": 5
}
