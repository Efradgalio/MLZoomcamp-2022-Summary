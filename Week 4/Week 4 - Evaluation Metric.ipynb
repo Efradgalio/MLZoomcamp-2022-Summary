{
 "cells": [
  {
   "cell_type": "markdown",
   "id": "2e9d7038",
   "metadata": {},
   "source": [
    "# Evaluation Metrics: Session Overview"
   ]
  },
  {
   "cell_type": "code",
   "execution_count": 2,
   "id": "39ddc8df",
   "metadata": {
    "ExecuteTime": {
     "end_time": "2022-10-13T01:49:10.589786Z",
     "start_time": "2022-10-13T01:49:09.497204Z"
    }
   },
   "outputs": [],
   "source": [
    "import pandas as pd\n",
    "import numpy as np\n",
    "\n",
    "import matplotlib.pyplot as plt"
   ]
  },
  {
   "cell_type": "code",
   "execution_count": 3,
   "id": "039b177e",
   "metadata": {
    "ExecuteTime": {
     "end_time": "2022-10-13T01:49:11.477814Z",
     "start_time": "2022-10-13T01:49:10.590794Z"
    }
   },
   "outputs": [],
   "source": [
    "from sklearn.model_selection import train_test_split\n",
    "from sklearn.feature_extraction import DictVectorizer\n",
    "from sklearn.linear_model import LogisticRegression"
   ]
  },
  {
   "cell_type": "code",
   "execution_count": 4,
   "id": "d02d4b0d",
   "metadata": {
    "ExecuteTime": {
     "end_time": "2022-10-13T01:49:29.460259Z",
     "start_time": "2022-10-13T01:49:11.478718Z"
    }
   },
   "outputs": [],
   "source": [
    "df = pd.read_csv('https://raw.githubusercontent.com/alexeygrigorev/mlbookcamp-code/master/chapter-03-churn-prediction/WA_Fn-UseC_-Telco-Customer-Churn.csv')\n",
    "\n",
    "df.columns = df.columns.str.lower().str.replace(' ', '_')\n",
    "\n",
    "categorical_columns = list(df.dtypes[df.dtypes == 'object'].index)\n",
    "\n",
    "for c in categorical_columns:\n",
    "    df[c] = df[c].str.lower().str.replace(' ', '_')\n",
    "\n",
    "df.totalcharges = pd.to_numeric(df.totalcharges, errors='coerce')\n",
    "df.totalcharges = df.totalcharges.fillna(0)\n",
    "\n",
    "df.churn = (df.churn == 'yes').astype(int)"
   ]
  },
  {
   "cell_type": "code",
   "execution_count": 5,
   "id": "9eb49ef6",
   "metadata": {
    "ExecuteTime": {
     "end_time": "2022-10-13T01:49:29.491883Z",
     "start_time": "2022-10-13T01:49:29.461259Z"
    }
   },
   "outputs": [],
   "source": [
    "df_full_train, df_test = train_test_split(df, test_size=0.2, random_state=1)\n",
    "df_train, df_val = train_test_split(df_full_train, test_size=0.25, random_state=1)\n",
    "\n",
    "df_train = df_train.reset_index(drop=True)\n",
    "df_val = df_val.reset_index(drop=True)\n",
    "df_test = df_test.reset_index(drop=True)\n",
    "\n",
    "y_train = df_train.churn.values\n",
    "y_val = df_val.churn.values\n",
    "y_test = df_test.churn.values\n",
    "\n",
    "del df_train['churn']\n",
    "del df_val['churn']\n",
    "del df_test['churn']"
   ]
  },
  {
   "cell_type": "code",
   "execution_count": 6,
   "id": "2373e85b",
   "metadata": {
    "ExecuteTime": {
     "end_time": "2022-10-13T01:49:29.506826Z",
     "start_time": "2022-10-13T01:49:29.492812Z"
    }
   },
   "outputs": [],
   "source": [
    "numerical = ['tenure', 'monthlycharges', 'totalcharges']\n",
    "\n",
    "categorical = [\n",
    "    'gender',\n",
    "    'seniorcitizen',\n",
    "    'partner',\n",
    "    'dependents',\n",
    "    'phoneservice',\n",
    "    'multiplelines',\n",
    "    'internetservice',\n",
    "    'onlinesecurity',\n",
    "    'onlinebackup',\n",
    "    'deviceprotection',\n",
    "    'techsupport',\n",
    "    'streamingtv',\n",
    "    'streamingmovies',\n",
    "    'contract',\n",
    "    'paperlessbilling',\n",
    "    'paymentmethod',\n",
    "]"
   ]
  },
  {
   "cell_type": "code",
   "execution_count": 7,
   "id": "2bb47635",
   "metadata": {
    "ExecuteTime": {
     "end_time": "2022-10-13T01:49:29.679841Z",
     "start_time": "2022-10-13T01:49:29.507813Z"
    }
   },
   "outputs": [
    {
     "data": {
      "text/plain": [
       "LogisticRegression()"
      ]
     },
     "execution_count": 7,
     "metadata": {},
     "output_type": "execute_result"
    }
   ],
   "source": [
    "dv = DictVectorizer(sparse=False)\n",
    "\n",
    "train_dict = df_train[categorical + numerical].to_dict(orient='records')\n",
    "X_train = dv.fit_transform(train_dict)\n",
    "\n",
    "model = LogisticRegression()\n",
    "model.fit(X_train, y_train)"
   ]
  },
  {
   "cell_type": "code",
   "execution_count": 8,
   "id": "32221227",
   "metadata": {
    "ExecuteTime": {
     "end_time": "2022-10-13T01:49:29.727031Z",
     "start_time": "2022-10-13T01:49:29.680851Z"
    }
   },
   "outputs": [
    {
     "data": {
      "text/plain": [
       "0.8034066713981547"
      ]
     },
     "execution_count": 8,
     "metadata": {},
     "output_type": "execute_result"
    }
   ],
   "source": [
    "val_dict = df_val[categorical + numerical].to_dict(orient='records')\n",
    "X_val = dv.transform(val_dict)\n",
    "\n",
    "y_pred = model.predict_proba(X_val)[:, 1]\n",
    "churn_decision = (y_pred >= 0.5)\n",
    "(y_val == churn_decision).mean()"
   ]
  },
  {
   "cell_type": "markdown",
   "id": "a79371d1",
   "metadata": {},
   "source": [
    "# Accuracy and Dummy Model"
   ]
  },
  {
   "cell_type": "code",
   "execution_count": 9,
   "id": "e2522f5e",
   "metadata": {
    "ExecuteTime": {
     "end_time": "2022-10-13T01:49:29.742499Z",
     "start_time": "2022-10-13T01:49:29.727959Z"
    }
   },
   "outputs": [
    {
     "data": {
      "text/plain": [
       "1409"
      ]
     },
     "execution_count": 9,
     "metadata": {},
     "output_type": "execute_result"
    }
   ],
   "source": [
    "len(y_val)"
   ]
  },
  {
   "cell_type": "code",
   "execution_count": 10,
   "id": "1bfaf452",
   "metadata": {
    "ExecuteTime": {
     "end_time": "2022-10-13T01:49:29.757893Z",
     "start_time": "2022-10-13T01:49:29.743754Z"
    }
   },
   "outputs": [
    {
     "data": {
      "text/plain": [
       "1132"
      ]
     },
     "execution_count": 10,
     "metadata": {},
     "output_type": "execute_result"
    }
   ],
   "source": [
    "(y_val == churn_decision).sum()"
   ]
  },
  {
   "cell_type": "code",
   "execution_count": 11,
   "id": "19d8a434",
   "metadata": {
    "ExecuteTime": {
     "end_time": "2022-10-13T01:49:29.773999Z",
     "start_time": "2022-10-13T01:49:29.759800Z"
    }
   },
   "outputs": [
    {
     "data": {
      "text/plain": [
       "0.8034066713981547"
      ]
     },
     "execution_count": 11,
     "metadata": {},
     "output_type": "execute_result"
    }
   ],
   "source": [
    "1132/1409 # accuracy"
   ]
  },
  {
   "cell_type": "code",
   "execution_count": 12,
   "id": "66ae0fe6",
   "metadata": {
    "ExecuteTime": {
     "end_time": "2022-10-13T01:49:29.789479Z",
     "start_time": "2022-10-13T01:49:29.774861Z"
    }
   },
   "outputs": [
    {
     "data": {
      "text/plain": [
       "array([0.  , 0.05, 0.1 , 0.15, 0.2 , 0.25, 0.3 , 0.35, 0.4 , 0.45, 0.5 ,\n",
       "       0.55, 0.6 , 0.65, 0.7 , 0.75, 0.8 , 0.85, 0.9 , 0.95, 1.  ])"
      ]
     },
     "execution_count": 12,
     "metadata": {},
     "output_type": "execute_result"
    }
   ],
   "source": [
    "thresholds = np.linspace(0, 1, 21)\n",
    "thresholds"
   ]
  },
  {
   "cell_type": "code",
   "execution_count": 13,
   "id": "f1ffd632",
   "metadata": {
    "ExecuteTime": {
     "end_time": "2022-10-13T01:49:29.805128Z",
     "start_time": "2022-10-13T01:49:29.789989Z"
    }
   },
   "outputs": [],
   "source": [
    "scores = []\n",
    "\n",
    "for t in thresholds:\n",
    "    churn_decision = (y_pred >= t)\n",
    "    score = (y_val == churn_decision).mean()\n",
    "    scores.append(score)"
   ]
  },
  {
   "cell_type": "code",
   "execution_count": 14,
   "id": "31a59cc5",
   "metadata": {
    "ExecuteTime": {
     "end_time": "2022-10-13T01:49:29.927936Z",
     "start_time": "2022-10-13T01:49:29.806004Z"
    }
   },
   "outputs": [
    {
     "data": {
      "text/plain": [
       "[<matplotlib.lines.Line2D at 0x17d59ab8ca0>]"
      ]
     },
     "execution_count": 14,
     "metadata": {},
     "output_type": "execute_result"
    },
    {
     "data": {
      "image/png": "[encoded data removed]",
      "text/plain": [
       "<Figure size 432x288 with 1 Axes>"
      ]
     },
     "metadata": {
      "needs_background": "light"
     },
     "output_type": "display_data"
    }
   ],
   "source": [
    "plt.plot(thresholds, scores)\n",
    "\n",
    "# The highest score is around 0.5 threshold"
   ]
  },
  {
   "cell_type": "code",
   "execution_count": 15,
   "id": "13c11afd",
   "metadata": {
    "ExecuteTime": {
     "end_time": "2022-10-13T01:49:29.943809Z",
     "start_time": "2022-10-13T01:49:29.928939Z"
    }
   },
   "outputs": [],
   "source": [
    "from sklearn.metrics import accuracy_score"
   ]
  },
  {
   "cell_type": "code",
   "execution_count": 16,
   "id": "8dfa4506",
   "metadata": {
    "ExecuteTime": {
     "end_time": "2022-10-13T01:49:29.959117Z",
     "start_time": "2022-10-13T01:49:29.944808Z"
    }
   },
   "outputs": [
    {
     "data": {
      "text/plain": [
       "0.8034066713981547"
      ]
     },
     "execution_count": 16,
     "metadata": {},
     "output_type": "execute_result"
    }
   ],
   "source": [
    "accuracy_score(y_val, y_pred >= 0.5)"
   ]
  },
  {
   "cell_type": "code",
   "execution_count": 17,
   "id": "44931659",
   "metadata": {
    "ExecuteTime": {
     "end_time": "2022-10-13T01:49:29.975065Z",
     "start_time": "2022-10-13T01:49:29.959949Z"
    }
   },
   "outputs": [],
   "source": [
    "scores = []\n",
    "\n",
    "for t in thresholds:\n",
    "    churn_decision = (y_pred >= t)\n",
    "    score = accuracy_score(y_val, y_pred >= t)\n",
    "    scores.append(score)"
   ]
  },
  {
   "cell_type": "code",
   "execution_count": 18,
   "id": "82635d55",
   "metadata": {
    "ExecuteTime": {
     "end_time": "2022-10-13T01:49:29.990802Z",
     "start_time": "2022-10-13T01:49:29.975985Z"
    }
   },
   "outputs": [
    {
     "data": {
      "text/plain": [
       "0.7260468417317246"
      ]
     },
     "execution_count": 18,
     "metadata": {},
     "output_type": "execute_result"
    }
   ],
   "source": [
    "accuracy_score(y_val, y_pred >= 1)\n",
    "\n",
    "# seems is quite good accuracy"
   ]
  },
  {
   "cell_type": "code",
   "execution_count": 19,
   "id": "018ebd41",
   "metadata": {
    "ExecuteTime": {
     "end_time": "2022-10-13T01:49:30.005897Z",
     "start_time": "2022-10-13T01:49:29.991734Z"
    }
   },
   "outputs": [],
   "source": [
    "from collections import Counter"
   ]
  },
  {
   "cell_type": "code",
   "execution_count": 20,
   "id": "c83b16ff",
   "metadata": {
    "ExecuteTime": {
     "end_time": "2022-10-13T01:49:30.021365Z",
     "start_time": "2022-10-13T01:49:30.006914Z"
    }
   },
   "outputs": [
    {
     "data": {
      "text/plain": [
       "Counter({False: 1409})"
      ]
     },
     "execution_count": 20,
     "metadata": {},
     "output_type": "execute_result"
    }
   ],
   "source": [
    "Counter(y_pred >= 1.0)\n",
    "\n",
    "# Accuracy doesn't tell us how good the model performance is for this particular problem"
   ]
  },
  {
   "cell_type": "code",
   "execution_count": 21,
   "id": "f71b5dde",
   "metadata": {
    "ExecuteTime": {
     "end_time": "2022-10-13T01:49:30.037391Z",
     "start_time": "2022-10-13T01:49:30.023286Z"
    }
   },
   "outputs": [
    {
     "data": {
      "text/plain": [
       "Counter({0: 1023, 1: 386})"
      ]
     },
     "execution_count": 21,
     "metadata": {},
     "output_type": "execute_result"
    }
   ],
   "source": [
    "Counter(y_val)\n",
    "\n",
    "# Accuracy isn't a good metric for Imbalance cases"
   ]
  },
  {
   "cell_type": "markdown",
   "id": "32dfeaa2",
   "metadata": {},
   "source": [
    "# Confusion Table\n",
    "- Different types of errors and correct decisions\n",
    "- Arranging them in a table"
   ]
  },
  {
   "cell_type": "code",
   "execution_count": 22,
   "id": "64b193d4",
   "metadata": {
    "ExecuteTime": {
     "end_time": "2022-10-13T01:49:30.052994Z",
     "start_time": "2022-10-13T01:49:30.038537Z"
    }
   },
   "outputs": [],
   "source": [
    "actual_positive = (y_val == 1)\n",
    "actual_negative = (y_val == 0)"
   ]
  },
  {
   "cell_type": "code",
   "execution_count": 23,
   "id": "be0c5acf",
   "metadata": {
    "ExecuteTime": {
     "end_time": "2022-10-13T01:50:29.711393Z",
     "start_time": "2022-10-13T01:50:29.707421Z"
    }
   },
   "outputs": [],
   "source": [
    "t = 0.5\n",
    "predict_positive = (y_pred >= t)\n",
    "predict_negative = (y_pred < t)"
   ]
  },
  {
   "cell_type": "code",
   "execution_count": 24,
   "id": "2ea67527",
   "metadata": {
    "ExecuteTime": {
     "end_time": "2022-10-13T01:50:39.371979Z",
     "start_time": "2022-10-13T01:50:39.357980Z"
    }
   },
   "outputs": [
    {
     "data": {
      "text/plain": [
       "array([False, False, False,  True, False])"
      ]
     },
     "execution_count": 24,
     "metadata": {},
     "output_type": "execute_result"
    }
   ],
   "source": [
    "predict_positive[:5]"
   ]
  },
  {
   "cell_type": "code",
   "execution_count": 25,
   "id": "a95eeb7b",
   "metadata": {
    "ExecuteTime": {
     "end_time": "2022-10-13T01:50:54.426395Z",
     "start_time": "2022-10-13T01:50:54.422281Z"
    }
   },
   "outputs": [
    {
     "data": {
      "text/plain": [
       "array([False, False, False,  True, False])"
      ]
     },
     "execution_count": 25,
     "metadata": {},
     "output_type": "execute_result"
    }
   ],
   "source": [
    "actual_positive[:5]"
   ]
  },
  {
   "cell_type": "code",
   "execution_count": 28,
   "id": "bca38147",
   "metadata": {
    "ExecuteTime": {
     "end_time": "2022-10-13T01:52:05.822984Z",
     "start_time": "2022-10-13T01:52:05.809983Z"
    }
   },
   "outputs": [],
   "source": [
    "tp = (predict_positive & actual_positive).sum()\n",
    "tn = (predict_negative & actual_negative).sum()"
   ]
  },
  {
   "cell_type": "code",
   "execution_count": 29,
   "id": "e86afdf0",
   "metadata": {
    "ExecuteTime": {
     "end_time": "2022-10-13T01:52:31.208248Z",
     "start_time": "2022-10-13T01:52:31.195629Z"
    }
   },
   "outputs": [],
   "source": [
    "fp = (predict_positive & actual_negative).sum()\n",
    "fn = (predict_negative & actual_positive).sum()"
   ]
  },
  {
   "cell_type": "code",
   "execution_count": 30,
   "id": "96bd1474",
   "metadata": {
    "ExecuteTime": {
     "end_time": "2022-10-13T01:52:56.152266Z",
     "start_time": "2022-10-13T01:52:56.136519Z"
    }
   },
   "outputs": [
    {
     "data": {
      "text/plain": [
       "(101, 176)"
      ]
     },
     "execution_count": 30,
     "metadata": {},
     "output_type": "execute_result"
    }
   ],
   "source": [
    "fp, fn"
   ]
  },
  {
   "cell_type": "code",
   "execution_count": 39,
   "id": "6f290d09",
   "metadata": {
    "ExecuteTime": {
     "end_time": "2022-10-13T01:58:20.367106Z",
     "start_time": "2022-10-13T01:58:20.354906Z"
    }
   },
   "outputs": [
    {
     "data": {
      "text/plain": [
       "array([[922, 101],\n",
       "       [176, 210]])"
      ]
     },
     "execution_count": 39,
     "metadata": {},
     "output_type": "execute_result"
    }
   ],
   "source": [
    "confusion_matrix2 = np.array([\n",
    "    [tn,fp],\n",
    "    [fn,tp]\n",
    "])\n",
    "\n",
    "confusion_matrix2"
   ]
  },
  {
   "cell_type": "code",
   "execution_count": 38,
   "id": "2cf5e419",
   "metadata": {
    "ExecuteTime": {
     "end_time": "2022-10-13T01:56:41.168575Z",
     "start_time": "2022-10-13T01:56:41.151356Z"
    }
   },
   "outputs": [
    {
     "data": {
      "text/plain": [
       "array([[922, 101],\n",
       "       [176, 210]], dtype=int64)"
      ]
     },
     "execution_count": 38,
     "metadata": {},
     "output_type": "execute_result"
    }
   ],
   "source": [
    "from sklearn.metrics import confusion_matrix\n",
    "confusion_matrix(y_val,y_pred >= 0.5)"
   ]
  },
  {
   "cell_type": "code",
   "execution_count": 40,
   "id": "c5232eb9",
   "metadata": {
    "ExecuteTime": {
     "end_time": "2022-10-13T01:58:41.331540Z",
     "start_time": "2022-10-13T01:58:41.323527Z"
    }
   },
   "outputs": [
    {
     "data": {
      "text/plain": [
       "array([[0.65, 0.07],\n",
       "       [0.12, 0.15]])"
      ]
     },
     "execution_count": 40,
     "metadata": {},
     "output_type": "execute_result"
    }
   ],
   "source": [
    "(confusion_matrix2/ confusion_matrix2.sum()).round(2)"
   ]
  },
  {
   "cell_type": "markdown",
   "id": "070e0c27",
   "metadata": {},
   "source": [
    "# Precision and Recall"
   ]
  },
  {
   "cell_type": "code",
   "execution_count": null,
   "id": "0a464de8",
   "metadata": {},
   "outputs": [],
   "source": []
  }
 ],
 "metadata": {
  "kernelspec": {
   "display_name": "Python 3 (ipykernel)",
   "language": "python",
   "name": "python3"
  },
  "language_info": {
   "codemirror_mode": {
    "name": "ipython",
    "version": 3
   },
   "file_extension": ".py",
   "mimetype": "text/x-python",
   "name": "python",
   "nbconvert_exporter": "python",
   "pygments_lexer": "ipython3",
   "version": "3.9.7"
  },
  "toc": {
   "base_numbering": 1,
   "nav_menu": {},
   "number_sections": true,
   "sideBar": true,
   "skip_h1_title": false,
   "title_cell": "Table of Contents",
   "title_sidebar": "Contents",
   "toc_cell": false,
   "toc_position": {},
   "toc_section_display": true,
   "toc_window_display": true
  }
 },
 "nbformat": 4,
 "nbformat_minor": 5
}
