{
 "cells": [
  {
   "cell_type": "markdown",
   "id": "eede7ba1",
   "metadata": {},
   "source": [
    "# Libraries"
   ]
  },
  {
   "cell_type": "code",
   "execution_count": 2,
   "id": "c69cb1a6",
   "metadata": {},
   "outputs": [],
   "source": [
    "import pandas as pd\n",
    "import numpy as np\n",
    "import seaborn as sns\n",
    "import matplotlib.pyplot as plt\n",
    "import os\n",
    "\n",
    "from scipy.stats import chi2_contingency\n",
    "\n",
    "from sklearn.model_selection import train_test_split\n",
    "from sklearn.feature_extraction import DictVectorizer\n",
    "from sklearn.metrics import mutual_info_score\n",
    "from sklearn.feature_selection import f_classif\n",
    "\n",
    "from sklearn.linear_model import LogisticRegression\n",
    "from sklearn.ensemble import RandomForestClassifier\n",
    "from sklearn.metrics import roc_auc_score, roc_curve\n",
    "from sklearn.model_selection import KFold\n",
    "\n",
    "from IPython.display import display\n",
    "from tqdm.auto import tqdm\n"
   ]
  },
  {
   "cell_type": "markdown",
   "id": "7724ec1b",
   "metadata": {},
   "source": [
    "# Data Preparation"
   ]
  },
  {
   "cell_type": "code",
   "execution_count": 3,
   "id": "3834c643",
   "metadata": {},
   "outputs": [
    {
     "data": {
      "text/html": [
       "<div>\n",
       "<style scoped>\n",
       "    .dataframe tbody tr th:only-of-type {\n",
       "        vertical-align: middle;\n",
       "    }\n",
       "\n",
       "    .dataframe tbody tr th {\n",
       "        vertical-align: top;\n",
       "    }\n",
       "\n",
       "    .dataframe thead th {\n",
       "        text-align: right;\n",
       "    }\n",
       "</style>\n",
       "<table border=\"1\" class=\"dataframe\">\n",
       "  <thead>\n",
       "    <tr style=\"text-align: right;\">\n",
       "      <th></th>\n",
       "      <th>customerID</th>\n",
       "      <th>gender</th>\n",
       "      <th>SeniorCitizen</th>\n",
       "      <th>Partner</th>\n",
       "      <th>Dependents</th>\n",
       "      <th>tenure</th>\n",
       "      <th>PhoneService</th>\n",
       "      <th>MultipleLines</th>\n",
       "      <th>InternetService</th>\n",
       "      <th>OnlineSecurity</th>\n",
       "      <th>...</th>\n",
       "      <th>DeviceProtection</th>\n",
       "      <th>TechSupport</th>\n",
       "      <th>StreamingTV</th>\n",
       "      <th>StreamingMovies</th>\n",
       "      <th>Contract</th>\n",
       "      <th>PaperlessBilling</th>\n",
       "      <th>PaymentMethod</th>\n",
       "      <th>MonthlyCharges</th>\n",
       "      <th>TotalCharges</th>\n",
       "      <th>Churn</th>\n",
       "    </tr>\n",
       "  </thead>\n",
       "  <tbody>\n",
       "    <tr>\n",
       "      <th>0</th>\n",
       "      <td>7590-VHVEG</td>\n",
       "      <td>Female</td>\n",
       "      <td>0</td>\n",
       "      <td>Yes</td>\n",
       "      <td>No</td>\n",
       "      <td>1</td>\n",
       "      <td>No</td>\n",
       "      <td>No phone service</td>\n",
       "      <td>DSL</td>\n",
       "      <td>No</td>\n",
       "      <td>...</td>\n",
       "      <td>No</td>\n",
       "      <td>No</td>\n",
       "      <td>No</td>\n",
       "      <td>No</td>\n",
       "      <td>Month-to-month</td>\n",
       "      <td>Yes</td>\n",
       "      <td>Electronic check</td>\n",
       "      <td>29.85</td>\n",
       "      <td>29.85</td>\n",
       "      <td>No</td>\n",
       "    </tr>\n",
       "    <tr>\n",
       "      <th>1</th>\n",
       "      <td>5575-GNVDE</td>\n",
       "      <td>Male</td>\n",
       "      <td>0</td>\n",
       "      <td>No</td>\n",
       "      <td>No</td>\n",
       "      <td>34</td>\n",
       "      <td>Yes</td>\n",
       "      <td>No</td>\n",
       "      <td>DSL</td>\n",
       "      <td>Yes</td>\n",
       "      <td>...</td>\n",
       "      <td>Yes</td>\n",
       "      <td>No</td>\n",
       "      <td>No</td>\n",
       "      <td>No</td>\n",
       "      <td>One year</td>\n",
       "      <td>No</td>\n",
       "      <td>Mailed check</td>\n",
       "      <td>56.95</td>\n",
       "      <td>1889.5</td>\n",
       "      <td>No</td>\n",
       "    </tr>\n",
       "    <tr>\n",
       "      <th>2</th>\n",
       "      <td>3668-QPYBK</td>\n",
       "      <td>Male</td>\n",
       "      <td>0</td>\n",
       "      <td>No</td>\n",
       "      <td>No</td>\n",
       "      <td>2</td>\n",
       "      <td>Yes</td>\n",
       "      <td>No</td>\n",
       "      <td>DSL</td>\n",
       "      <td>Yes</td>\n",
       "      <td>...</td>\n",
       "      <td>No</td>\n",
       "      <td>No</td>\n",
       "      <td>No</td>\n",
       "      <td>No</td>\n",
       "      <td>Month-to-month</td>\n",
       "      <td>Yes</td>\n",
       "      <td>Mailed check</td>\n",
       "      <td>53.85</td>\n",
       "      <td>108.15</td>\n",
       "      <td>Yes</td>\n",
       "    </tr>\n",
       "    <tr>\n",
       "      <th>3</th>\n",
       "      <td>7795-CFOCW</td>\n",
       "      <td>Male</td>\n",
       "      <td>0</td>\n",
       "      <td>No</td>\n",
       "      <td>No</td>\n",
       "      <td>45</td>\n",
       "      <td>No</td>\n",
       "      <td>No phone service</td>\n",
       "      <td>DSL</td>\n",
       "      <td>Yes</td>\n",
       "      <td>...</td>\n",
       "      <td>Yes</td>\n",
       "      <td>Yes</td>\n",
       "      <td>No</td>\n",
       "      <td>No</td>\n",
       "      <td>One year</td>\n",
       "      <td>No</td>\n",
       "      <td>Bank transfer (automatic)</td>\n",
       "      <td>42.30</td>\n",
       "      <td>1840.75</td>\n",
       "      <td>No</td>\n",
       "    </tr>\n",
       "    <tr>\n",
       "      <th>4</th>\n",
       "      <td>9237-HQITU</td>\n",
       "      <td>Female</td>\n",
       "      <td>0</td>\n",
       "      <td>No</td>\n",
       "      <td>No</td>\n",
       "      <td>2</td>\n",
       "      <td>Yes</td>\n",
       "      <td>No</td>\n",
       "      <td>Fiber optic</td>\n",
       "      <td>No</td>\n",
       "      <td>...</td>\n",
       "      <td>No</td>\n",
       "      <td>No</td>\n",
       "      <td>No</td>\n",
       "      <td>No</td>\n",
       "      <td>Month-to-month</td>\n",
       "      <td>Yes</td>\n",
       "      <td>Electronic check</td>\n",
       "      <td>70.70</td>\n",
       "      <td>151.65</td>\n",
       "      <td>Yes</td>\n",
       "    </tr>\n",
       "  </tbody>\n",
       "</table>\n",
       "<p>5 rows × 21 columns</p>\n",
       "</div>"
      ],
      "text/plain": [
       "   customerID  gender  SeniorCitizen Partner Dependents  tenure PhoneService  \\\n",
       "0  7590-VHVEG  Female              0     Yes         No       1           No   \n",
       "1  5575-GNVDE    Male              0      No         No      34          Yes   \n",
       "2  3668-QPYBK    Male              0      No         No       2          Yes   \n",
       "3  7795-CFOCW    Male              0      No         No      45           No   \n",
       "4  9237-HQITU  Female              0      No         No       2          Yes   \n",
       "\n",
       "      MultipleLines InternetService OnlineSecurity  ... DeviceProtection  \\\n",
       "0  No phone service             DSL             No  ...               No   \n",
       "1                No             DSL            Yes  ...              Yes   \n",
       "2                No             DSL            Yes  ...               No   \n",
       "3  No phone service             DSL            Yes  ...              Yes   \n",
       "4                No     Fiber optic             No  ...               No   \n",
       "\n",
       "  TechSupport StreamingTV StreamingMovies        Contract PaperlessBilling  \\\n",
       "0          No          No              No  Month-to-month              Yes   \n",
       "1          No          No              No        One year               No   \n",
       "2          No          No              No  Month-to-month              Yes   \n",
       "3         Yes          No              No        One year               No   \n",
       "4          No          No              No  Month-to-month              Yes   \n",
       "\n",
       "               PaymentMethod MonthlyCharges  TotalCharges Churn  \n",
       "0           Electronic check          29.85         29.85    No  \n",
       "1               Mailed check          56.95        1889.5    No  \n",
       "2               Mailed check          53.85        108.15   Yes  \n",
       "3  Bank transfer (automatic)          42.30       1840.75    No  \n",
       "4           Electronic check          70.70        151.65   Yes  \n",
       "\n",
       "[5 rows x 21 columns]"
      ]
     },
     "execution_count": 3,
     "metadata": {},
     "output_type": "execute_result"
    }
   ],
   "source": [
    "df = pd.read_csv('Telco-Customer-Churn.csv')\n",
    "df.head()"
   ]
  },
  {
   "cell_type": "code",
   "execution_count": 4,
   "id": "48a80c5c",
   "metadata": {},
   "outputs": [
    {
     "data": {
      "text/plain": [
       "(7043, 21)"
      ]
     },
     "execution_count": 4,
     "metadata": {},
     "output_type": "execute_result"
    }
   ],
   "source": [
    "df.shape"
   ]
  },
  {
   "cell_type": "markdown",
   "id": "d6289062",
   "metadata": {},
   "source": [
    "# Checking the Data"
   ]
  },
  {
   "cell_type": "markdown",
   "id": "07620012",
   "metadata": {},
   "source": [
    "## Target data check"
   ]
  },
  {
   "cell_type": "code",
   "execution_count": 5,
   "id": "6ae77f5a",
   "metadata": {},
   "outputs": [
    {
     "data": {
      "text/plain": [
       "No     5174\n",
       "Yes    1869\n",
       "Name: Churn, dtype: int64"
      ]
     },
     "execution_count": 5,
     "metadata": {},
     "output_type": "execute_result"
    }
   ],
   "source": [
    "# Check what is the value of the target variable\n",
    "df.Churn.value_counts()\n",
    "\n",
    "## Conclusion: Need to change the data type into numeric"
   ]
  },
  {
   "cell_type": "code",
   "execution_count": 6,
   "id": "800e5ccf",
   "metadata": {},
   "outputs": [],
   "source": [
    "# Change Churn into 1 (Yes) and 0 (No)\n",
    "df['Churn'] = (df['Churn'] == 'Yes').astype(int)"
   ]
  },
  {
   "cell_type": "markdown",
   "id": "d0a0d538",
   "metadata": {},
   "source": [
    "## Duplicated check"
   ]
  },
  {
   "cell_type": "code",
   "execution_count": 7,
   "id": "50491b15",
   "metadata": {},
   "outputs": [
    {
     "data": {
      "text/plain": [
       "False    7043\n",
       "dtype: int64"
      ]
     },
     "execution_count": 7,
     "metadata": {},
     "output_type": "execute_result"
    }
   ],
   "source": [
    "# Check if there is any duplicated values\n",
    "df.duplicated().value_counts()\n",
    "\n",
    "## Conclusion: No duplicated values"
   ]
  },
  {
   "cell_type": "markdown",
   "id": "cecdafb1",
   "metadata": {},
   "source": [
    "## Missing values check"
   ]
  },
  {
   "cell_type": "code",
   "execution_count": 8,
   "id": "4de8f7cd",
   "metadata": {},
   "outputs": [
    {
     "data": {
      "text/plain": [
       "customerID          0\n",
       "gender              0\n",
       "SeniorCitizen       0\n",
       "Partner             0\n",
       "Dependents          0\n",
       "tenure              0\n",
       "PhoneService        0\n",
       "MultipleLines       0\n",
       "InternetService     0\n",
       "OnlineSecurity      0\n",
       "OnlineBackup        0\n",
       "DeviceProtection    0\n",
       "TechSupport         0\n",
       "StreamingTV         0\n",
       "StreamingMovies     0\n",
       "Contract            0\n",
       "PaperlessBilling    0\n",
       "PaymentMethod       0\n",
       "MonthlyCharges      0\n",
       "TotalCharges        0\n",
       "Churn               0\n",
       "dtype: int64"
      ]
     },
     "execution_count": 8,
     "metadata": {},
     "output_type": "execute_result"
    }
   ],
   "source": [
    "# Check if there is any missing values\n",
    "df.isnull().sum()\n",
    "\n",
    "## Conclusion: No missing values"
   ]
  },
  {
   "cell_type": "markdown",
   "id": "b4010805",
   "metadata": {},
   "source": [
    "## Data type check"
   ]
  },
  {
   "cell_type": "code",
   "execution_count": 9,
   "id": "bf1cebdd",
   "metadata": {},
   "outputs": [
    {
     "name": "stdout",
     "output_type": "stream",
     "text": [
      "customerID object\n",
      "['7590-VHVEG' '5575-GNVDE' '3668-QPYBK' ... '4801-JZAZL' '8361-LTMKD'\n",
      " '3186-AJIEK']\n",
      "\n",
      "gender object\n",
      "['Female' 'Male']\n",
      "\n",
      "SeniorCitizen int64\n",
      "0 1\n",
      "\n",
      "Partner object\n",
      "['Yes' 'No']\n",
      "\n",
      "Dependents object\n",
      "['No' 'Yes']\n",
      "\n",
      "tenure int64\n",
      "0 72\n",
      "\n",
      "PhoneService object\n",
      "['No' 'Yes']\n",
      "\n",
      "MultipleLines object\n",
      "['No phone service' 'No' 'Yes']\n",
      "\n",
      "InternetService object\n",
      "['DSL' 'Fiber optic' 'No']\n",
      "\n",
      "OnlineSecurity object\n",
      "['No' 'Yes' 'No internet service']\n",
      "\n",
      "OnlineBackup object\n",
      "['Yes' 'No' 'No internet service']\n",
      "\n",
      "DeviceProtection object\n",
      "['No' 'Yes' 'No internet service']\n",
      "\n",
      "TechSupport object\n",
      "['No' 'Yes' 'No internet service']\n",
      "\n",
      "StreamingTV object\n",
      "['No' 'Yes' 'No internet service']\n",
      "\n",
      "StreamingMovies object\n",
      "['No' 'Yes' 'No internet service']\n",
      "\n",
      "Contract object\n",
      "['Month-to-month' 'One year' 'Two year']\n",
      "\n",
      "PaperlessBilling object\n",
      "['Yes' 'No']\n",
      "\n",
      "PaymentMethod object\n",
      "['Electronic check' 'Mailed check' 'Bank transfer (automatic)'\n",
      " 'Credit card (automatic)']\n",
      "\n",
      "MonthlyCharges float64\n",
      "18.25 118.75\n",
      "\n",
      "TotalCharges object\n",
      "['29.85' '1889.5' '108.15' ... '346.45' '306.6' '6844.5']\n",
      "\n",
      "Churn int64\n",
      "0 1\n",
      "\n"
     ]
    }
   ],
   "source": [
    "# Checking all the features' data types and its unique values\n",
    "for dtype, col in list(zip(df.dtypes, df.columns)):\n",
    "    if dtype == 'int64' or dtype == 'float64':\n",
    "        print(col, dtype)\n",
    "        print(df[col].min(), df[col].max())\n",
    "    else:\n",
    "        print(col,dtype)\n",
    "        print(df[col].unique())\n",
    "    print()\n",
    "\n",
    "# Conclusion: Need to change SeniorCitizen to become object data type and TotalCharges to numeric"
   ]
  },
  {
   "cell_type": "code",
   "execution_count": 10,
   "id": "7411d7f3",
   "metadata": {},
   "outputs": [],
   "source": [
    "# Change data type from int64 to object\n",
    "df['SeniorCitizen'] = df['SeniorCitizen'].astype('object')\n",
    "df['TotalCharges'] = pd.to_numeric(df['TotalCharges'], errors='coerce')"
   ]
  },
  {
   "cell_type": "markdown",
   "id": "c725a689",
   "metadata": {},
   "source": [
    "### Missing values check"
   ]
  },
  {
   "cell_type": "code",
   "execution_count": 11,
   "id": "944039a7",
   "metadata": {},
   "outputs": [
    {
     "data": {
      "text/plain": [
       "customerID           0\n",
       "gender               0\n",
       "SeniorCitizen        0\n",
       "Partner              0\n",
       "Dependents           0\n",
       "tenure               0\n",
       "PhoneService         0\n",
       "MultipleLines        0\n",
       "InternetService      0\n",
       "OnlineSecurity       0\n",
       "OnlineBackup         0\n",
       "DeviceProtection     0\n",
       "TechSupport          0\n",
       "StreamingTV          0\n",
       "StreamingMovies      0\n",
       "Contract             0\n",
       "PaperlessBilling     0\n",
       "PaymentMethod        0\n",
       "MonthlyCharges       0\n",
       "TotalCharges        11\n",
       "Churn                0\n",
       "dtype: int64"
      ]
     },
     "execution_count": 11,
     "metadata": {},
     "output_type": "execute_result"
    }
   ],
   "source": [
    "# Check if there is any missing values after change the data types\n",
    "df.isnull().sum()\n",
    "\n",
    "## Conclusion: Need to fill TotalCharges, will be filled after the data splpit"
   ]
  },
  {
   "cell_type": "markdown",
   "id": "51234734",
   "metadata": {},
   "source": [
    "# Data split\n",
    "Data splitting proportion: data_train (60%), data_val (20%), data_test (20%).\n",
    "\n",
    "Split the full data into df_full_train and df_test, then split again the df_full_train into df_train and df_val."
   ]
  },
  {
   "cell_type": "code",
   "execution_count": 12,
   "id": "879924c7",
   "metadata": {},
   "outputs": [],
   "source": [
    "df_full_train, df_test = train_test_split(df, test_size=0.2, random_state=1)\n",
    "df_train, df_val = train_test_split(df_full_train, test_size=0.25, random_state=1)"
   ]
  },
  {
   "cell_type": "code",
   "execution_count": 13,
   "id": "c5e343b8",
   "metadata": {},
   "outputs": [],
   "source": [
    "df_train = df_train.reset_index(drop=True)\n",
    "df_val = df_val.reset_index(drop=True)\n",
    "df_test = df_test.reset_index(drop=True)"
   ]
  },
  {
   "cell_type": "code",
   "execution_count": 14,
   "id": "d810d622",
   "metadata": {},
   "outputs": [],
   "source": [
    "y_train = df_train['Churn']\n",
    "y_val = df_val['Churn']\n",
    "y_test = df_test['Churn']\n",
    "\n",
    "del df_train['Churn']\n",
    "del df_val['Churn']\n",
    "del df_test['Churn']"
   ]
  },
  {
   "cell_type": "markdown",
   "id": "e2f8d28d",
   "metadata": {},
   "source": [
    "# Data Processing for EDA"
   ]
  },
  {
   "cell_type": "code",
   "execution_count": 15,
   "id": "d228bab7",
   "metadata": {},
   "outputs": [],
   "source": [
    "df_train.TotalCharges.fillna(df_train.TotalCharges.median(), inplace=True)\n",
    "df_val.TotalCharges.fillna(df_val.TotalCharges.median(), inplace=True)\n",
    "df_test.TotalCharges.fillna(df_test.TotalCharges.median(), inplace=True)\n",
    "\n",
    "df_full_train.TotalCharges.fillna(df_full_train.TotalCharges.median(), inplace=True)"
   ]
  },
  {
   "cell_type": "markdown",
   "id": "b1928e1e",
   "metadata": {},
   "source": [
    "# EDA"
   ]
  },
  {
   "cell_type": "markdown",
   "id": "399e9b5d",
   "metadata": {},
   "source": [
    "## Insights\n",
    "Doing exploratory data analysis to see some insights."
   ]
  },
  {
   "cell_type": "markdown",
   "id": "1c6a72ba",
   "metadata": {},
   "source": [
    "### Numeric Features"
   ]
  },
  {
   "cell_type": "code",
   "execution_count": 16,
   "id": "b8c5e2e4",
   "metadata": {},
   "outputs": [
    {
     "data": {
      "text/plain": [
       "['tenure', 'MonthlyCharges', 'TotalCharges', 'Churn']"
      ]
     },
     "execution_count": 16,
     "metadata": {},
     "output_type": "execute_result"
    }
   ],
   "source": [
    "# Extract only numeric features\n",
    "num_feat = list(df.select_dtypes(include=['int64', 'float64']).columns)\n",
    "\n",
    "num_feat"
   ]
  },
  {
   "cell_type": "markdown",
   "id": "6f1ff1a3",
   "metadata": {},
   "source": [
    "#### Target features"
   ]
  },
  {
   "cell_type": "code",
   "execution_count": 17,
   "id": "622a5cab",
   "metadata": {},
   "outputs": [
    {
     "data": {
      "text/plain": [
       "0    0.73463\n",
       "1    0.26537\n",
       "Name: Churn, dtype: float64"
      ]
     },
     "execution_count": 17,
     "metadata": {},
     "output_type": "execute_result"
    }
   ],
   "source": [
    "# Percentage for each positive and negative classes\n",
    "df.Churn.value_counts(normalize=True)\n",
    "\n",
    "## Conclusion: The dataset isn't too imbalance"
   ]
  },
  {
   "cell_type": "markdown",
   "id": "3753b7ea",
   "metadata": {},
   "source": [
    "#### Distributions\n",
    "See how the distributions look like for each numeric features."
   ]
  },
  {
   "cell_type": "code",
   "execution_count": 18,
   "id": "1b6e0d8d",
   "metadata": {},
   "outputs": [
    {
     "data": {
      "image/png": "[encoded data removed]",
      "text/plain": [
       "<Figure size 1000x1500 with 6 Axes>"
      ]
     },
     "metadata": {},
     "output_type": "display_data"
    }
   ],
   "source": [
    "fig, ax = plt.subplots(6, figsize=(10, 15))\n",
    "sns.set(font_scale=.5)\n",
    "\n",
    "g=sns.boxplot(data=df, x=\"tenure\", ax=ax[0])\n",
    "g=sns.histplot(data=df, x=\"tenure\", ax=ax[1])\n",
    "\n",
    "\n",
    "g=sns.boxplot(data=df, x=\"MonthlyCharges\", ax=ax[2])\n",
    "g=sns.histplot(data=df, x=\"MonthlyCharges\", ax=ax[3])\n",
    "\n",
    "\n",
    "g=sns.boxplot(data=df, x=\"TotalCharges\", ax=ax[4])\n",
    "g=sns.histplot(data=df, x=\"TotalCharges\", ax=ax[5])\n",
    "\n",
    "plt.tight_layout()"
   ]
  },
  {
   "cell_type": "markdown",
   "id": "6edd2273",
   "metadata": {},
   "source": [
    "- We see we have many customers who stay less than 10 months in the company. However, there is a small spike in customers who are loyal enough to stay up to 72 months.\n",
    "\n",
    "- The monthly charges have a right skewed distribution, there are lots of small charges from 20 to 25 which means a huge proportion of customers have around  20− 25 monthly charges and less customers have more than 25 dollars.\n",
    "\n",
    "- The same pattern appears in TotalCharges. There is a huge majority of TotalCharges range between 0 to 2000 dollars and a smaller amounts of monthly charges above 2000 dollars.\n",
    "\n",
    "- Finally all the numerical features have a right skewed distribution."
   ]
  },
  {
   "cell_type": "markdown",
   "id": "b876843b",
   "metadata": {},
   "source": [
    "### Categoric Features"
   ]
  },
  {
   "cell_type": "code",
   "execution_count": 19,
   "id": "a3f85f8a",
   "metadata": {},
   "outputs": [
    {
     "data": {
      "text/plain": [
       "['gender',\n",
       " 'SeniorCitizen',\n",
       " 'Partner',\n",
       " 'Dependents',\n",
       " 'PhoneService',\n",
       " 'MultipleLines',\n",
       " 'InternetService',\n",
       " 'OnlineSecurity',\n",
       " 'OnlineBackup',\n",
       " 'DeviceProtection',\n",
       " 'TechSupport',\n",
       " 'StreamingTV',\n",
       " 'StreamingMovies',\n",
       " 'Contract',\n",
       " 'PaperlessBilling',\n",
       " 'PaymentMethod']"
      ]
     },
     "execution_count": 19,
     "metadata": {},
     "output_type": "execute_result"
    }
   ],
   "source": [
    "cat_feat = list(df_full_train.select_dtypes(include=['object']).columns)\n",
    "cat_feat.remove('customerID')\n",
    "cat_feat"
   ]
  },
  {
   "cell_type": "code",
   "execution_count": 20,
   "id": "f5233456",
   "metadata": {},
   "outputs": [
    {
     "data": {
      "image/png": "[encoded data removed]",
      "text/plain": [
       "<Figure size 1000x800 with 4 Axes>"
      ]
     },
     "metadata": {},
     "output_type": "display_data"
    }
   ],
   "source": [
    "fig, axs = plt.subplots(nrows=2, ncols=2, figsize=(10, 8))\n",
    "sns.set(font_scale=1)\n",
    "\n",
    "for elem, ax in zip(cat_feat[:4], axs.ravel()):\n",
    "    \n",
    "    df[elem].value_counts().plot(kind='bar', ax=ax, title=elem)\n",
    "\n",
    "fig.tight_layout()"
   ]
  },
  {
   "cell_type": "markdown",
   "id": "a31018f3",
   "metadata": {},
   "source": [
    "- Genders, seems we have equal number of both males and females, and both show equal amount of churned customers.\n",
    "\n",
    "- We have young customers compared to senior.\n",
    "\n",
    "- Customers with or without partners are about the same.\n",
    "\n",
    "- Seems we have more customers without dependent members than those who have."
   ]
  },
  {
   "cell_type": "code",
   "execution_count": 21,
   "id": "37965180",
   "metadata": {},
   "outputs": [
    {
     "data": {
      "image/png": "[encoded data removed]",
      "text/plain": [
       "<Figure size 1000x800 with 4 Axes>"
      ]
     },
     "metadata": {},
     "output_type": "display_data"
    }
   ],
   "source": [
    "fig, axs = plt.subplots(nrows=2, ncols=2, figsize=(10, 8))\n",
    "sns.set(font_scale=1)\n",
    "\n",
    "for elem, ax in zip(cat_feat[4:8], axs.ravel()):\n",
    "    \n",
    "    df[elem].value_counts().plot(kind='bar', ax=ax, title=elem)\n",
    "\n",
    "fig.tight_layout()"
   ]
  },
  {
   "cell_type": "markdown",
   "id": "341ae8b1",
   "metadata": {},
   "source": [
    "- Our customers mostly have a phone service.\n",
    "\n",
    "- Customers who have internet service, prefer mostly DSL or Fiber optic.\n",
    "- There is a common pattern in the features MultipleLines & OnlineSecurity. It is illustated that most of the customers prefer not to have access to these features than those who have."
   ]
  },
  {
   "cell_type": "code",
   "execution_count": 22,
   "id": "0905661b",
   "metadata": {},
   "outputs": [
    {
     "data": {
      "image/png": "[encoded data removed]",
      "text/plain": [
       "<Figure size 1000x800 with 4 Axes>"
      ]
     },
     "metadata": {},
     "output_type": "display_data"
    }
   ],
   "source": [
    "fig, axs = plt.subplots(nrows=2, ncols=2, figsize=(10, 8))\n",
    "sns.set(font_scale=1)\n",
    "\n",
    "for elem, ax in zip(cat_feat[8:12], axs.ravel()):\n",
    "    \n",
    "    df[elem].value_counts().plot(kind='bar', ax=ax, title=elem)\n",
    "\n",
    "fig.tight_layout()"
   ]
  },
  {
   "cell_type": "markdown",
   "id": "0a9b0fe1",
   "metadata": {},
   "source": [
    "- There is a common pattern in the features OnlineBackup & TechSupport. It is illustated that most of the customers prefer not to have access to these features than those who have.\n",
    "- The features, StreamingMovies and StreamingTV has similar barplots, which means there is an equal amount of customers who prefer to either prefer these services or not to."
   ]
  },
  {
   "cell_type": "code",
   "execution_count": 23,
   "id": "f764032e",
   "metadata": {},
   "outputs": [
    {
     "data": {
      "image/png": "[encoded data removed]",
      "text/plain": [
       "<Figure size 1000x800 with 4 Axes>"
      ]
     },
     "metadata": {},
     "output_type": "display_data"
    }
   ],
   "source": [
    "fig, axs = plt.subplots(nrows=2, ncols=2, figsize=(10, 8))\n",
    "sns.set(font_scale=1)\n",
    "\n",
    "for elem, ax in zip(cat_feat[12:16], axs.ravel()):\n",
    "    \n",
    "    df[elem].value_counts().plot(kind='bar', ax=ax, title=elem)\n",
    "\n",
    "fig.tight_layout()"
   ]
  },
  {
   "cell_type": "markdown",
   "id": "089ec725",
   "metadata": {},
   "source": [
    "- The features, StreamingMovies and StreamingTV has similar barplots, which means there is an equal amount of customers who prefer to either prefer these services or not to.\n",
    "- In general customers prefer month-to-month contracts wcompared to other types such as two year or one year contracts.\n",
    "- Finally, most customers would rather have Paperless billing than any other form and seems they use all the different forms of banking transactions such with Electronic Check being the majority."
   ]
  },
  {
   "cell_type": "markdown",
   "id": "0ed3ea07",
   "metadata": {},
   "source": [
    "## For Modelling"
   ]
  },
  {
   "cell_type": "markdown",
   "id": "799e79e6",
   "metadata": {},
   "source": [
    "### Numeric Features"
   ]
  },
  {
   "cell_type": "code",
   "execution_count": 24,
   "id": "4e772b4a",
   "metadata": {},
   "outputs": [
    {
     "data": {
      "text/plain": [
       "['tenure', 'MonthlyCharges', 'TotalCharges', 'Churn']"
      ]
     },
     "execution_count": 24,
     "metadata": {},
     "output_type": "execute_result"
    }
   ],
   "source": [
    "num_feat"
   ]
  },
  {
   "cell_type": "code",
   "execution_count": 25,
   "id": "75140f96",
   "metadata": {},
   "outputs": [],
   "source": [
    "num_feat.remove('Churn')"
   ]
  },
  {
   "cell_type": "markdown",
   "id": "de246cf5",
   "metadata": {},
   "source": [
    "#### Correlation"
   ]
  },
  {
   "cell_type": "code",
   "execution_count": 26,
   "id": "7b7487a4",
   "metadata": {},
   "outputs": [
    {
     "data": {
      "text/plain": [
       "tenure           -0.355962\n",
       "MonthlyCharges    0.189665\n",
       "TotalCharges     -0.200181\n",
       "dtype: float64"
      ]
     },
     "execution_count": 26,
     "metadata": {},
     "output_type": "execute_result"
    }
   ],
   "source": [
    "df_train[num_feat].corrwith(y_train)"
   ]
  },
  {
   "cell_type": "markdown",
   "id": "6677055d",
   "metadata": {},
   "source": [
    "- The longer the customer stays with the company (tenure), the less likely the customer will churn.\n",
    "- The more people pay (MonthlyCharges), most likely they will churn.\n",
    "- For TotalCharges is the other way, the more people pay, the less likely they will churn, this is counterintuitive."
   ]
  },
  {
   "cell_type": "markdown",
   "id": "d54a85da",
   "metadata": {},
   "source": [
    "#### ANOVA Testing"
   ]
  },
  {
   "cell_type": "code",
   "execution_count": 27,
   "id": "bc475ac4",
   "metadata": {},
   "outputs": [
    {
     "data": {
      "text/html": [
       "<div>\n",
       "<style scoped>\n",
       "    .dataframe tbody tr th:only-of-type {\n",
       "        vertical-align: middle;\n",
       "    }\n",
       "\n",
       "    .dataframe tbody tr th {\n",
       "        vertical-align: top;\n",
       "    }\n",
       "\n",
       "    .dataframe thead th {\n",
       "        text-align: right;\n",
       "    }\n",
       "</style>\n",
       "<table border=\"1\" class=\"dataframe\">\n",
       "  <thead>\n",
       "    <tr style=\"text-align: right;\">\n",
       "      <th></th>\n",
       "      <th>Numerical_Feature</th>\n",
       "      <th>F-Score</th>\n",
       "      <th>p values</th>\n",
       "    </tr>\n",
       "  </thead>\n",
       "  <tbody>\n",
       "    <tr>\n",
       "      <th>0</th>\n",
       "      <td>tenure</td>\n",
       "      <td>612.728570</td>\n",
       "      <td>0.0</td>\n",
       "    </tr>\n",
       "    <tr>\n",
       "      <th>1</th>\n",
       "      <td>TotalCharges</td>\n",
       "      <td>176.290579</td>\n",
       "      <td>0.0</td>\n",
       "    </tr>\n",
       "    <tr>\n",
       "      <th>2</th>\n",
       "      <td>MonthlyCharges</td>\n",
       "      <td>157.582191</td>\n",
       "      <td>0.0</td>\n",
       "    </tr>\n",
       "  </tbody>\n",
       "</table>\n",
       "</div>"
      ],
      "text/plain": [
       "  Numerical_Feature     F-Score  p values\n",
       "0            tenure  612.728570       0.0\n",
       "1      TotalCharges  176.290579       0.0\n",
       "2    MonthlyCharges  157.582191       0.0"
      ]
     },
     "execution_count": 27,
     "metadata": {},
     "output_type": "execute_result"
    }
   ],
   "source": [
    "# Calculate F Statistic and corresponding p values\n",
    "F_statistic, p_values = f_classif(df_train[num_feat], y_train)\n",
    "\n",
    "# Convert to a DF\n",
    "ANOVA_F_table = pd.DataFrame(data = {'Numerical_Feature': df_train[num_feat].columns.values, 'F-Score': F_statistic, 'p values': p_values.round(decimals=10)})\n",
    "ANOVA_F_table.sort_values(by = ['F-Score'], ascending = False, ignore_index = True, inplace = True)\n",
    "ANOVA_F_table\n",
    "\n",
    "\n",
    "## Conclusion: All the features has so close to zero p-values and has high scores of F-Score which means all the features has impact on response variable"
   ]
  },
  {
   "cell_type": "markdown",
   "id": "f19a8e9b",
   "metadata": {},
   "source": [
    "### Categorical Features"
   ]
  },
  {
   "cell_type": "code",
   "execution_count": 28,
   "id": "76b3bacd",
   "metadata": {},
   "outputs": [
    {
     "data": {
      "text/plain": [
       "['gender',\n",
       " 'SeniorCitizen',\n",
       " 'Partner',\n",
       " 'Dependents',\n",
       " 'PhoneService',\n",
       " 'MultipleLines',\n",
       " 'InternetService',\n",
       " 'OnlineSecurity',\n",
       " 'OnlineBackup',\n",
       " 'DeviceProtection',\n",
       " 'TechSupport',\n",
       " 'StreamingTV',\n",
       " 'StreamingMovies',\n",
       " 'Contract',\n",
       " 'PaperlessBilling',\n",
       " 'PaymentMethod']"
      ]
     },
     "execution_count": 28,
     "metadata": {},
     "output_type": "execute_result"
    }
   ],
   "source": [
    "cat_feat"
   ]
  },
  {
   "cell_type": "markdown",
   "id": "725d538c",
   "metadata": {},
   "source": [
    "#### Mutual Information Score"
   ]
  },
  {
   "cell_type": "code",
   "execution_count": 29,
   "id": "1a4487b1",
   "metadata": {},
   "outputs": [],
   "source": [
    "def mutual_info_churn_score(series):\n",
    "    return mutual_info_score(series, y_train)"
   ]
  },
  {
   "cell_type": "code",
   "execution_count": 30,
   "id": "f081027e",
   "metadata": {},
   "outputs": [
    {
     "data": {
      "text/plain": [
       "Contract            0.099016\n",
       "OnlineSecurity      0.061654\n",
       "TechSupport         0.057836\n",
       "InternetService     0.052373\n",
       "OnlineBackup        0.042997\n",
       "DeviceProtection    0.041384\n",
       "PaymentMethod       0.035928\n",
       "StreamingTV         0.030897\n",
       "StreamingMovies     0.030317\n",
       "PaperlessBilling    0.016911\n",
       "Dependents          0.012709\n",
       "SeniorCitizen       0.008996\n",
       "Partner             0.008903\n",
       "MultipleLines       0.000841\n",
       "gender              0.000162\n",
       "PhoneService        0.000044\n",
       "dtype: float64"
      ]
     },
     "execution_count": 30,
     "metadata": {},
     "output_type": "execute_result"
    }
   ],
   "source": [
    "mi = df_train[cat_feat].apply(mutual_info_churn_score)\n",
    "mi.sort_values(ascending=False)\n",
    "\n",
    "## Conclusion: SeniorCitizen, Partner, MultipleLines, gender, PhoneService aren't that supportive, the model will learn nothing about the churn"
   ]
  },
  {
   "cell_type": "markdown",
   "id": "d7107236",
   "metadata": {},
   "source": [
    "#### Chi-square Testing\n",
    "Test the hypothesis whether these categoric features has really the impact for predicting the churn."
   ]
  },
  {
   "cell_type": "code",
   "execution_count": 31,
   "id": "89000cf8",
   "metadata": {},
   "outputs": [
    {
     "data": {
      "text/html": [
       "<div>\n",
       "<style scoped>\n",
       "    .dataframe tbody tr th:only-of-type {\n",
       "        vertical-align: middle;\n",
       "    }\n",
       "\n",
       "    .dataframe tbody tr th {\n",
       "        vertical-align: top;\n",
       "    }\n",
       "\n",
       "    .dataframe thead th {\n",
       "        text-align: right;\n",
       "    }\n",
       "</style>\n",
       "<table border=\"1\" class=\"dataframe\">\n",
       "  <thead>\n",
       "    <tr style=\"text-align: right;\">\n",
       "      <th></th>\n",
       "      <th>Feature</th>\n",
       "      <th>p-value</th>\n",
       "    </tr>\n",
       "  </thead>\n",
       "  <tbody>\n",
       "    <tr>\n",
       "      <th>0</th>\n",
       "      <td>SeniorCitizen</td>\n",
       "      <td>0.000000</td>\n",
       "    </tr>\n",
       "    <tr>\n",
       "      <th>1</th>\n",
       "      <td>Partner</td>\n",
       "      <td>0.000000</td>\n",
       "    </tr>\n",
       "    <tr>\n",
       "      <th>2</th>\n",
       "      <td>Dependents</td>\n",
       "      <td>0.000000</td>\n",
       "    </tr>\n",
       "    <tr>\n",
       "      <th>3</th>\n",
       "      <td>InternetService</td>\n",
       "      <td>0.000000</td>\n",
       "    </tr>\n",
       "    <tr>\n",
       "      <th>4</th>\n",
       "      <td>OnlineSecurity</td>\n",
       "      <td>0.000000</td>\n",
       "    </tr>\n",
       "    <tr>\n",
       "      <th>5</th>\n",
       "      <td>OnlineBackup</td>\n",
       "      <td>0.000000</td>\n",
       "    </tr>\n",
       "    <tr>\n",
       "      <th>6</th>\n",
       "      <td>DeviceProtection</td>\n",
       "      <td>0.000000</td>\n",
       "    </tr>\n",
       "    <tr>\n",
       "      <th>7</th>\n",
       "      <td>TechSupport</td>\n",
       "      <td>0.000000</td>\n",
       "    </tr>\n",
       "    <tr>\n",
       "      <th>8</th>\n",
       "      <td>StreamingTV</td>\n",
       "      <td>0.000000</td>\n",
       "    </tr>\n",
       "    <tr>\n",
       "      <th>9</th>\n",
       "      <td>StreamingMovies</td>\n",
       "      <td>0.000000</td>\n",
       "    </tr>\n",
       "    <tr>\n",
       "      <th>10</th>\n",
       "      <td>Contract</td>\n",
       "      <td>0.000000</td>\n",
       "    </tr>\n",
       "    <tr>\n",
       "      <th>11</th>\n",
       "      <td>PaperlessBilling</td>\n",
       "      <td>0.000000</td>\n",
       "    </tr>\n",
       "    <tr>\n",
       "      <th>12</th>\n",
       "      <td>PaymentMethod</td>\n",
       "      <td>0.000000</td>\n",
       "    </tr>\n",
       "    <tr>\n",
       "      <th>13</th>\n",
       "      <td>MultipleLines</td>\n",
       "      <td>0.028230</td>\n",
       "    </tr>\n",
       "    <tr>\n",
       "      <th>14</th>\n",
       "      <td>gender</td>\n",
       "      <td>0.256148</td>\n",
       "    </tr>\n",
       "    <tr>\n",
       "      <th>15</th>\n",
       "      <td>PhoneService</td>\n",
       "      <td>0.581879</td>\n",
       "    </tr>\n",
       "  </tbody>\n",
       "</table>\n",
       "</div>"
      ],
      "text/plain": [
       "             Feature   p-value\n",
       "0      SeniorCitizen  0.000000\n",
       "1            Partner  0.000000\n",
       "2         Dependents  0.000000\n",
       "3    InternetService  0.000000\n",
       "4     OnlineSecurity  0.000000\n",
       "5       OnlineBackup  0.000000\n",
       "6   DeviceProtection  0.000000\n",
       "7        TechSupport  0.000000\n",
       "8        StreamingTV  0.000000\n",
       "9    StreamingMovies  0.000000\n",
       "10          Contract  0.000000\n",
       "11  PaperlessBilling  0.000000\n",
       "12     PaymentMethod  0.000000\n",
       "13     MultipleLines  0.028230\n",
       "14            gender  0.256148\n",
       "15      PhoneService  0.581879"
      ]
     },
     "execution_count": 31,
     "metadata": {},
     "output_type": "execute_result"
    }
   ],
   "source": [
    "# Define an empty dictionary to store chi-squared test results\n",
    "chi2_check = {}\n",
    "\n",
    "# Loop over each column in the training set to calculate chi-statistic with the target variable\n",
    "for column in df_train[cat_feat]:\n",
    "    chi, p, dof, ex = chi2_contingency(pd.crosstab(y_train, df_train[cat_feat][column]))\n",
    "    chi2_check.setdefault('Feature',[]).append(column)\n",
    "    chi2_check.setdefault('p-value',[]).append(round(p, 10))\n",
    "\n",
    "# Convert the dictionary to a DF\n",
    "chi2_result = pd.DataFrame(data = chi2_check)\n",
    "chi2_result.sort_values(by = ['p-value'], ascending = True, ignore_index = True, inplace = True)\n",
    "chi2_result\n",
    "\n",
    "\n",
    "## Conclusion: Only gender & PhoneService that has no impact on Churn statistically."
   ]
  },
  {
   "cell_type": "markdown",
   "id": "0f71b31e",
   "metadata": {},
   "source": [
    "# Feature Selection"
   ]
  },
  {
   "cell_type": "code",
   "execution_count": 32,
   "id": "e6022364",
   "metadata": {},
   "outputs": [],
   "source": [
    "# Remove these not significant features\n",
    "cat_feat.remove('gender')\n",
    "cat_feat.remove('PhoneService')"
   ]
  },
  {
   "cell_type": "code",
   "execution_count": 33,
   "id": "920316da",
   "metadata": {},
   "outputs": [
    {
     "data": {
      "text/plain": [
       "['tenure',\n",
       " 'MonthlyCharges',\n",
       " 'TotalCharges',\n",
       " 'SeniorCitizen',\n",
       " 'Partner',\n",
       " 'Dependents',\n",
       " 'MultipleLines',\n",
       " 'InternetService',\n",
       " 'OnlineSecurity',\n",
       " 'OnlineBackup',\n",
       " 'DeviceProtection',\n",
       " 'TechSupport',\n",
       " 'StreamingTV',\n",
       " 'StreamingMovies',\n",
       " 'Contract',\n",
       " 'PaperlessBilling',\n",
       " 'PaymentMethod']"
      ]
     },
     "execution_count": 33,
     "metadata": {},
     "output_type": "execute_result"
    }
   ],
   "source": [
    "# Features that will be used for modelling\n",
    "final_feat = num_feat + cat_feat\n",
    "final_feat"
   ]
  },
  {
   "cell_type": "markdown",
   "id": "d3b9a6e8",
   "metadata": {},
   "source": [
    "# Data Processing for Modelling"
   ]
  },
  {
   "cell_type": "code",
   "execution_count": 34,
   "id": "1a554925",
   "metadata": {},
   "outputs": [],
   "source": [
    "dicts_train = df_train[final_feat].to_dict(orient='records')\n",
    "dicts_val = df_val[final_feat].to_dict(orient='records')"
   ]
  },
  {
   "cell_type": "code",
   "execution_count": 35,
   "id": "4a40e24c",
   "metadata": {},
   "outputs": [],
   "source": [
    "dv = DictVectorizer(sparse=False)\n",
    "X_train = dv.fit_transform(dicts_train)\n",
    "X_val = dv.transform(dicts_val)"
   ]
  },
  {
   "cell_type": "markdown",
   "id": "e0d373a6",
   "metadata": {},
   "source": [
    "# Modelling"
   ]
  },
  {
   "cell_type": "markdown",
   "id": "9d1f9ffc",
   "metadata": {},
   "source": [
    "## Choosing BaseModel"
   ]
  },
  {
   "cell_type": "code",
   "execution_count": 36,
   "id": "5204a612",
   "metadata": {},
   "outputs": [
    {
     "name": "stdout",
     "output_type": "stream",
     "text": [
      "LogisticRegression ROCAUC result: 0.846\n"
     ]
    }
   ],
   "source": [
    "model = LogisticRegression(solver=\"liblinear\", C=1.0, \n",
    "                           max_iter=1000, random_state=42)\n",
    "\n",
    "model.fit(X_train, y_train)\n",
    "\n",
    "y_pred = model.predict_proba(X_val)[:,1]\n",
    "\n",
    "print('LogisticRegression ROCAUC result:', roc_auc_score(y_val,  y_pred).round(3))"
   ]
  },
  {
   "cell_type": "code",
   "execution_count": 37,
   "id": "dea4ff95",
   "metadata": {},
   "outputs": [
    {
     "name": "stdout",
     "output_type": "stream",
     "text": [
      "RandomForest ROCAUC result: 0.824\n"
     ]
    }
   ],
   "source": [
    "model = RandomForestClassifier()\n",
    "\n",
    "model.fit(X_train, y_train)\n",
    "\n",
    "y_pred = model.predict_proba(X_val)[:,1]\n",
    "\n",
    "print('RandomForest ROCAUC result:', roc_auc_score(y_val,  y_pred).round(3))"
   ]
  },
  {
   "cell_type": "code",
   "execution_count": 38,
   "id": "e1416f6d",
   "metadata": {},
   "outputs": [],
   "source": [
    "## Conclusion will select LogisticRegression as a BaseModel, because it is much simpler and has higher ROCAUC score"
   ]
  },
  {
   "cell_type": "markdown",
   "id": "210b48df",
   "metadata": {},
   "source": [
    "## Tuning"
   ]
  },
  {
   "cell_type": "code",
   "execution_count": 39,
   "id": "85b6afab",
   "metadata": {},
   "outputs": [],
   "source": [
    "def train(df,y_train, C=1):\n",
    "    dicts = df[final_feat].to_dict(orient='records')\n",
    "    \n",
    "    dv = DictVectorizer(sparse=False)\n",
    "    X_train = dv.fit_transform(dicts)\n",
    "    \n",
    "    model = LogisticRegression(solver='liblinear', C=C, max_iter=1000)\n",
    "    model.fit(X_train, y_train)\n",
    "    \n",
    "    return dv, model"
   ]
  },
  {
   "cell_type": "code",
   "execution_count": 40,
   "id": "411897f5",
   "metadata": {},
   "outputs": [],
   "source": [
    "def predict(df,dv, model):\n",
    "    dicts = df[final_feat].to_dict(orient='records')\n",
    "    \n",
    "    X = dv.transform(dicts)\n",
    "    y_pred = model.predict_proba(X)[:,1]\n",
    "    return y_pred"
   ]
  },
  {
   "cell_type": "code",
   "execution_count": 41,
   "id": "97526ba7",
   "metadata": {},
   "outputs": [
    {
     "data": {
      "application/vnd.jupyter.widget-view+json": {
       "model_id": "f9f1bf30ba7043e69600e6a023c3886e",
       "version_major": 2,
       "version_minor": 0
      },
      "text/plain": [
       "  0%|          | 0/4 [00:00<?, ?it/s]"
      ]
     },
     "metadata": {},
     "output_type": "display_data"
    },
    {
     "name": "stdout",
     "output_type": "stream",
     "text": [
      "C: 0.01 score: 0.839 +- 0.009\n",
      "C: 0.1 score: 0.841 +- 0.008\n",
      "C: 1 score: 0.841 +- 0.008\n",
      "C: 10 score: 0.841 +- 0.008\n"
     ]
    }
   ],
   "source": [
    "kfold = KFold(n_splits=5, shuffle=True, random_state=1)\n",
    "\n",
    "for C in tqdm([0.01, 0.1, 1, 10]):\n",
    "    scores = []\n",
    "\n",
    "    for train_idx, val_idx in kfold.split(df_full_train):\n",
    "        df_train = df_full_train.iloc[train_idx]\n",
    "        df_val = df_full_train.iloc[val_idx]\n",
    "\n",
    "        y_train = df_train.Churn.values\n",
    "        y_val = df_val.Churn.values\n",
    "\n",
    "        dv, model = train(df_train, y_train,C=C)\n",
    "        y_pred = predict(df_val, dv, model)\n",
    "\n",
    "        auc = roc_auc_score(y_val, y_pred)\n",
    "        scores.append(auc)\n",
    "        \n",
    "    print(\"C:\", C,\"score:\", np.mean(scores).round(3), \"+-\", np.std(scores).round(3))\n",
    "\n",
    "# Conclusion: The best value for C is 0.1"
   ]
  },
  {
   "cell_type": "markdown",
   "id": "1fa63b2b",
   "metadata": {},
   "source": [
    "# Performance stability check "
   ]
  },
  {
   "cell_type": "code",
   "execution_count": 42,
   "id": "b57e91e5",
   "metadata": {},
   "outputs": [],
   "source": [
    "dicts_full_train = df_full_train[final_feat].to_dict(orient='records')\n",
    "dicts_test = df_test[final_feat].to_dict(orient='records')\n",
    "\n",
    "dv = DictVectorizer(sparse=False)\n",
    "X_full_train = dv.fit_transform(dicts_full_train)\n",
    "X_test = dv.transform(dicts_test)"
   ]
  },
  {
   "cell_type": "code",
   "execution_count": 43,
   "id": "088e2c91",
   "metadata": {},
   "outputs": [
    {
     "name": "stdout",
     "output_type": "stream",
     "text": [
      "LogisticRegression ROCAUC result: 0.858\n"
     ]
    }
   ],
   "source": [
    "model = LogisticRegression(solver=\"liblinear\", C=0.1, \n",
    "                           max_iter=1000, random_state=42)\n",
    "\n",
    "model.fit(X_full_train, df_full_train.Churn)\n",
    "\n",
    "y_pred = model.predict_proba(X_test)[:,1]\n",
    "\n",
    "print('LogisticRegression ROCAUC result:', roc_auc_score(y_test,  y_pred).round(3))"
   ]
  },
  {
   "cell_type": "markdown",
   "id": "3b0cd7f7",
   "metadata": {},
   "source": [
    "The score between validation and test set isn't that big."
   ]
  }
 ],
 "metadata": {
  "kernelspec": {
   "display_name": "Python 3 (ipykernel)",
   "language": "python",
   "name": "python3"
  },
  "language_info": {
   "codemirror_mode": {
    "name": "ipython",
    "version": 3
   },
   "file_extension": ".py",
   "mimetype": "text/x-python",
   "name": "python",
   "nbconvert_exporter": "python",
   "pygments_lexer": "ipython3",
   "version": "3.9.13"
  }
 },
 "nbformat": 4,
 "nbformat_minor": 5
}
