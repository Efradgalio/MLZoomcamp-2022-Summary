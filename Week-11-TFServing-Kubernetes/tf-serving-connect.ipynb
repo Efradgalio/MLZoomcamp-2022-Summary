{
 "cells": [
  {
   "cell_type": "code",
   "execution_count": 1,
   "id": "054d7d58-e67a-4a06-8fa4-7cfb2423d4fb",
   "metadata": {},
   "outputs": [
    {
     "name": "stdout",
     "output_type": "stream",
     "text": [
      "Collecting grpcio==1.42.0\n",
      "  Downloading grpcio-1.42.0-cp39-cp39-manylinux_2_17_x86_64.manylinux2014_x86_64.whl (4.0 MB)\n",
      "\u001b[2K     \u001b[90m━━━━━━━━━━━━━━━━━━━━━━━━━━━━━━━━━━━━━━━━\u001b[0m \u001b[32m4.0/4.0 MB\u001b[0m \u001b[31m2.7 MB/s\u001b[0m eta \u001b[36m0:00:00\u001b[0m00:01\u001b[0m00:01\u001b[0m\n",
      "\u001b[?25hCollecting tensorflow-serving-api==2.7.0\n",
      "  Downloading tensorflow_serving_api-2.7.0-py2.py3-none-any.whl (37 kB)\n",
      "Requirement already satisfied: six>=1.5.2 in /home/frags/miniconda3/lib/python3.9/site-packages (from grpcio==1.42.0) (1.16.0)\n",
      "Requirement already satisfied: protobuf>=3.6.0 in /home/frags/miniconda3/lib/python3.9/site-packages (from tensorflow-serving-api==2.7.0) (3.19.6)\n",
      "Requirement already satisfied: tensorflow<3,>=2.7.0 in /home/frags/miniconda3/lib/python3.9/site-packages (from tensorflow-serving-api==2.7.0) (2.11.0)\n",
      "Requirement already satisfied: h5py>=2.9.0 in /home/frags/miniconda3/lib/python3.9/site-packages (from tensorflow<3,>=2.7.0->tensorflow-serving-api==2.7.0) (3.7.0)\n",
      "Requirement already satisfied: numpy>=1.20 in /home/frags/miniconda3/lib/python3.9/site-packages (from tensorflow<3,>=2.7.0->tensorflow-serving-api==2.7.0) (1.23.4)\n",
      "Requirement already satisfied: google-pasta>=0.1.1 in /home/frags/miniconda3/lib/python3.9/site-packages (from tensorflow<3,>=2.7.0->tensorflow-serving-api==2.7.0) (0.2.0)\n",
      "Requirement already satisfied: absl-py>=1.0.0 in /home/frags/miniconda3/lib/python3.9/site-packages (from tensorflow<3,>=2.7.0->tensorflow-serving-api==2.7.0) (1.3.0)\n",
      "Requirement already satisfied: astunparse>=1.6.0 in /home/frags/miniconda3/lib/python3.9/site-packages (from tensorflow<3,>=2.7.0->tensorflow-serving-api==2.7.0) (1.6.3)\n",
      "Requirement already satisfied: termcolor>=1.1.0 in /home/frags/miniconda3/lib/python3.9/site-packages (from tensorflow<3,>=2.7.0->tensorflow-serving-api==2.7.0) (2.1.1)\n",
      "Requirement already satisfied: tensorboard<2.12,>=2.11 in /home/frags/miniconda3/lib/python3.9/site-packages (from tensorflow<3,>=2.7.0->tensorflow-serving-api==2.7.0) (2.11.0)\n",
      "Requirement already satisfied: tensorflow-io-gcs-filesystem>=0.23.1 in /home/frags/miniconda3/lib/python3.9/site-packages (from tensorflow<3,>=2.7.0->tensorflow-serving-api==2.7.0) (0.28.0)\n",
      "Requirement already satisfied: keras<2.12,>=2.11.0 in /home/frags/miniconda3/lib/python3.9/site-packages (from tensorflow<3,>=2.7.0->tensorflow-serving-api==2.7.0) (2.11.0)\n",
      "Requirement already satisfied: libclang>=13.0.0 in /home/frags/miniconda3/lib/python3.9/site-packages (from tensorflow<3,>=2.7.0->tensorflow-serving-api==2.7.0) (14.0.6)\n",
      "Requirement already satisfied: opt-einsum>=2.3.2 in /home/frags/miniconda3/lib/python3.9/site-packages (from tensorflow<3,>=2.7.0->tensorflow-serving-api==2.7.0) (3.3.0)\n",
      "Requirement already satisfied: tensorflow-estimator<2.12,>=2.11.0 in /home/frags/miniconda3/lib/python3.9/site-packages (from tensorflow<3,>=2.7.0->tensorflow-serving-api==2.7.0) (2.11.0)\n",
      "Requirement already satisfied: typing-extensions>=3.6.6 in /home/frags/miniconda3/lib/python3.9/site-packages (from tensorflow<3,>=2.7.0->tensorflow-serving-api==2.7.0) (4.4.0)\n",
      "Requirement already satisfied: packaging in /home/frags/miniconda3/lib/python3.9/site-packages (from tensorflow<3,>=2.7.0->tensorflow-serving-api==2.7.0) (21.3)\n",
      "Requirement already satisfied: gast<=0.4.0,>=0.2.1 in /home/frags/miniconda3/lib/python3.9/site-packages (from tensorflow<3,>=2.7.0->tensorflow-serving-api==2.7.0) (0.4.0)\n",
      "Requirement already satisfied: wrapt>=1.11.0 in /home/frags/miniconda3/lib/python3.9/site-packages (from tensorflow<3,>=2.7.0->tensorflow-serving-api==2.7.0) (1.14.1)\n",
      "Requirement already satisfied: setuptools in /home/frags/miniconda3/lib/python3.9/site-packages (from tensorflow<3,>=2.7.0->tensorflow-serving-api==2.7.0) (63.4.1)\n",
      "Requirement already satisfied: flatbuffers>=2.0 in /home/frags/miniconda3/lib/python3.9/site-packages (from tensorflow<3,>=2.7.0->tensorflow-serving-api==2.7.0) (22.11.23)\n",
      "Requirement already satisfied: wheel<1.0,>=0.23.0 in /home/frags/miniconda3/lib/python3.9/site-packages (from astunparse>=1.6.0->tensorflow<3,>=2.7.0->tensorflow-serving-api==2.7.0) (0.37.1)\n",
      "Requirement already satisfied: werkzeug>=1.0.1 in /home/frags/miniconda3/lib/python3.9/site-packages (from tensorboard<2.12,>=2.11->tensorflow<3,>=2.7.0->tensorflow-serving-api==2.7.0) (2.2.2)\n",
      "Requirement already satisfied: google-auth<3,>=1.6.3 in /home/frags/miniconda3/lib/python3.9/site-packages (from tensorboard<2.12,>=2.11->tensorflow<3,>=2.7.0->tensorflow-serving-api==2.7.0) (2.14.1)\n",
      "Requirement already satisfied: requests<3,>=2.21.0 in /home/frags/miniconda3/lib/python3.9/site-packages (from tensorboard<2.12,>=2.11->tensorflow<3,>=2.7.0->tensorflow-serving-api==2.7.0) (2.28.1)\n",
      "Requirement already satisfied: tensorboard-data-server<0.7.0,>=0.6.0 in /home/frags/miniconda3/lib/python3.9/site-packages (from tensorboard<2.12,>=2.11->tensorflow<3,>=2.7.0->tensorflow-serving-api==2.7.0) (0.6.1)\n",
      "Requirement already satisfied: tensorboard-plugin-wit>=1.6.0 in /home/frags/miniconda3/lib/python3.9/site-packages (from tensorboard<2.12,>=2.11->tensorflow<3,>=2.7.0->tensorflow-serving-api==2.7.0) (1.8.1)\n",
      "Requirement already satisfied: markdown>=2.6.8 in /home/frags/miniconda3/lib/python3.9/site-packages (from tensorboard<2.12,>=2.11->tensorflow<3,>=2.7.0->tensorflow-serving-api==2.7.0) (3.4.1)\n",
      "Requirement already satisfied: google-auth-oauthlib<0.5,>=0.4.1 in /home/frags/miniconda3/lib/python3.9/site-packages (from tensorboard<2.12,>=2.11->tensorflow<3,>=2.7.0->tensorflow-serving-api==2.7.0) (0.4.6)\n",
      "Requirement already satisfied: pyparsing!=3.0.5,>=2.0.2 in /home/frags/miniconda3/lib/python3.9/site-packages (from packaging->tensorflow<3,>=2.7.0->tensorflow-serving-api==2.7.0) (3.0.9)\n",
      "Requirement already satisfied: pyasn1-modules>=0.2.1 in /home/frags/miniconda3/lib/python3.9/site-packages (from google-auth<3,>=1.6.3->tensorboard<2.12,>=2.11->tensorflow<3,>=2.7.0->tensorflow-serving-api==2.7.0) (0.2.8)\n",
      "Requirement already satisfied: rsa<5,>=3.1.4 in /home/frags/miniconda3/lib/python3.9/site-packages (from google-auth<3,>=1.6.3->tensorboard<2.12,>=2.11->tensorflow<3,>=2.7.0->tensorflow-serving-api==2.7.0) (4.7.2)\n",
      "Requirement already satisfied: cachetools<6.0,>=2.0.0 in /home/frags/miniconda3/lib/python3.9/site-packages (from google-auth<3,>=1.6.3->tensorboard<2.12,>=2.11->tensorflow<3,>=2.7.0->tensorflow-serving-api==2.7.0) (5.2.0)\n",
      "Requirement already satisfied: requests-oauthlib>=0.7.0 in /home/frags/miniconda3/lib/python3.9/site-packages (from google-auth-oauthlib<0.5,>=0.4.1->tensorboard<2.12,>=2.11->tensorflow<3,>=2.7.0->tensorflow-serving-api==2.7.0) (1.3.1)\n",
      "Requirement already satisfied: importlib-metadata>=4.4 in /home/frags/miniconda3/lib/python3.9/site-packages (from markdown>=2.6.8->tensorboard<2.12,>=2.11->tensorflow<3,>=2.7.0->tensorflow-serving-api==2.7.0) (5.0.0)\n",
      "Requirement already satisfied: certifi>=2017.4.17 in /home/frags/miniconda3/lib/python3.9/site-packages (from requests<3,>=2.21.0->tensorboard<2.12,>=2.11->tensorflow<3,>=2.7.0->tensorflow-serving-api==2.7.0) (2022.9.24)\n",
      "Requirement already satisfied: urllib3<1.27,>=1.21.1 in /home/frags/miniconda3/lib/python3.9/site-packages (from requests<3,>=2.21.0->tensorboard<2.12,>=2.11->tensorflow<3,>=2.7.0->tensorflow-serving-api==2.7.0) (1.26.11)\n",
      "Requirement already satisfied: idna<4,>=2.5 in /home/frags/miniconda3/lib/python3.9/site-packages (from requests<3,>=2.21.0->tensorboard<2.12,>=2.11->tensorflow<3,>=2.7.0->tensorflow-serving-api==2.7.0) (3.3)\n",
      "Requirement already satisfied: charset-normalizer<3,>=2 in /home/frags/miniconda3/lib/python3.9/site-packages (from requests<3,>=2.21.0->tensorboard<2.12,>=2.11->tensorflow<3,>=2.7.0->tensorflow-serving-api==2.7.0) (2.0.4)\n",
      "Requirement already satisfied: MarkupSafe>=2.1.1 in /home/frags/miniconda3/lib/python3.9/site-packages (from werkzeug>=1.0.1->tensorboard<2.12,>=2.11->tensorflow<3,>=2.7.0->tensorflow-serving-api==2.7.0) (2.1.1)\n",
      "Requirement already satisfied: zipp>=0.5 in /home/frags/miniconda3/lib/python3.9/site-packages (from importlib-metadata>=4.4->markdown>=2.6.8->tensorboard<2.12,>=2.11->tensorflow<3,>=2.7.0->tensorflow-serving-api==2.7.0) (3.10.0)\n",
      "Requirement already satisfied: pyasn1<0.5.0,>=0.4.6 in /home/frags/miniconda3/lib/python3.9/site-packages (from pyasn1-modules>=0.2.1->google-auth<3,>=1.6.3->tensorboard<2.12,>=2.11->tensorflow<3,>=2.7.0->tensorflow-serving-api==2.7.0) (0.4.8)\n",
      "Requirement already satisfied: oauthlib>=3.0.0 in /home/frags/miniconda3/lib/python3.9/site-packages (from requests-oauthlib>=0.7.0->google-auth-oauthlib<0.5,>=0.4.1->tensorboard<2.12,>=2.11->tensorflow<3,>=2.7.0->tensorflow-serving-api==2.7.0) (3.2.2)\n",
      "Installing collected packages: grpcio, tensorflow-serving-api\n",
      "  Attempting uninstall: grpcio\n",
      "    Found existing installation: grpcio 1.51.1\n",
      "    Uninstalling grpcio-1.51.1:\n",
      "      Successfully uninstalled grpcio-1.51.1\n",
      "Successfully installed grpcio-1.42.0 tensorflow-serving-api-2.7.0\n"
     ]
    }
   ],
   "source": [
    "!pip install grpcio==1.42.0 tensorflow-serving-api==2.7.0"
   ]
  },
  {
   "cell_type": "code",
   "execution_count": 2,
   "id": "42e410d9-de35-46ee-811c-9f7c5853fbaf",
   "metadata": {},
   "outputs": [
    {
     "name": "stdout",
     "output_type": "stream",
     "text": [
      "Requirement already satisfied: keras-image-helper in /home/frags/miniconda3/lib/python3.9/site-packages (0.0.1)\n",
      "Requirement already satisfied: numpy in /home/frags/miniconda3/lib/python3.9/site-packages (from keras-image-helper) (1.23.4)\n",
      "Requirement already satisfied: pillow in /home/frags/miniconda3/lib/python3.9/site-packages (from keras-image-helper) (9.3.0)\n"
     ]
    }
   ],
   "source": [
    "!pip install keras-image-helper"
   ]
  },
  {
   "cell_type": "code",
   "execution_count": 4,
   "id": "4b4e3de4-56d0-4b1b-b8aa-b30bd3445467",
   "metadata": {},
   "outputs": [],
   "source": [
    "import grpc\n",
    "\n",
    "import tensorflow as tf\n",
    "\n",
    "from tensorflow_serving.apis import predict_pb2\n",
    "from tensorflow_serving.apis import prediction_service_pb2_grpc"
   ]
  },
  {
   "cell_type": "markdown",
   "id": "2f487f61-d25a-49d0-b441-d66dd20fd418",
   "metadata": {},
   "source": [
    "## Setup grpc connection"
   ]
  },
  {
   "cell_type": "code",
   "execution_count": 5,
   "id": "5f35d55c-7399-437e-b86d-c6a63bd62bed",
   "metadata": {},
   "outputs": [],
   "source": [
    "host = 'localhost:8500'\n",
    "\n",
    "channel = grpc.insecure_channel(host)\n",
    "\n",
    "stub = prediction_service_pb2_grpc.PredictionServiceStub(channel)"
   ]
  },
  {
   "cell_type": "code",
   "execution_count": 12,
   "id": "14302dff-7dfa-497f-8425-bbf4dab2bbd0",
   "metadata": {},
   "outputs": [],
   "source": [
    "## Preprocess Image & Setup prediction service"
   ]
  },
  {
   "cell_type": "code",
   "execution_count": 6,
   "id": "706f9869-cca7-46ca-905e-8c3f3aafbd8c",
   "metadata": {},
   "outputs": [],
   "source": [
    "from keras_image_helper import create_preprocessor"
   ]
  },
  {
   "cell_type": "code",
   "execution_count": 7,
   "id": "ca5ad2f1-8715-488a-a9b8-071d00651fb3",
   "metadata": {},
   "outputs": [],
   "source": [
    "preprocessor = create_preprocessor('xception', target_size=(299,299))"
   ]
  },
  {
   "cell_type": "code",
   "execution_count": 8,
   "id": "fa8cfcb3-de02-430f-8bbf-7c16243aa61c",
   "metadata": {},
   "outputs": [],
   "source": [
    "url = 'http://bit.ly/mlbookcamp-pants'\n",
    "X = preprocessor.from_url(url)"
   ]
  },
  {
   "cell_type": "code",
   "execution_count": 10,
   "id": "7d0fa5df-997c-4245-9a7a-4f9bbf097154",
   "metadata": {},
   "outputs": [],
   "source": [
    "def np_to_protobuf(data):\n",
    "    return tf.make_tensor_proto(data, shape=data.shape)"
   ]
  },
  {
   "cell_type": "code",
   "execution_count": 11,
   "id": "54b4ff11-112f-4145-9a91-b6b823f9271e",
   "metadata": {},
   "outputs": [],
   "source": [
    "pb_request = predict_pb2.PredictRequest()\n",
    "pb_request.model_spec.name = 'clothing-model'\n",
    "pb_request.model_spec.signature_name = 'serving_default'\n",
    "\n",
    "pb_request.inputs['input_8'].CopyFrom(np_to_protobuf(X))"
   ]
  },
  {
   "cell_type": "code",
   "execution_count": 14,
   "id": "27428cba-347d-47a5-a6c1-0224a36ba3da",
   "metadata": {},
   "outputs": [],
   "source": [
    "pb_response = stub.Predict(pb_request, timeout=20.0)"
   ]
  },
  {
   "cell_type": "code",
   "execution_count": 15,
   "id": "0e2d9ab8-ecf1-4021-8820-dbb6c68126ed",
   "metadata": {},
   "outputs": [
    {
     "data": {
      "text/plain": [
       "outputs {\n",
       "  key: \"dense_7\"\n",
       "  value {\n",
       "    dtype: DT_FLOAT\n",
       "    tensor_shape {\n",
       "      dim {\n",
       "        size: 1\n",
       "      }\n",
       "      dim {\n",
       "        size: 10\n",
       "      }\n",
       "    }\n",
       "    float_val: -1.8798645734786987\n",
       "    float_val: -4.756311893463135\n",
       "    float_val: -2.3595333099365234\n",
       "    float_val: -1.0892642736434937\n",
       "    float_val: 9.90378475189209\n",
       "    float_val: -2.826181173324585\n",
       "    float_val: -3.648310422897339\n",
       "    float_val: 3.2411563396453857\n",
       "    float_val: -2.612095832824707\n",
       "    float_val: -4.852035999298096\n",
       "  }\n",
       "}\n",
       "model_spec {\n",
       "  name: \"clothing-model\"\n",
       "  version {\n",
       "    value: 1\n",
       "  }\n",
       "  signature_name: \"serving_default\"\n",
       "}"
      ]
     },
     "execution_count": 15,
     "metadata": {},
     "output_type": "execute_result"
    }
   ],
   "source": [
    "pb_response"
   ]
  },
  {
   "cell_type": "code",
   "execution_count": 17,
   "id": "8c0b3083-b703-41bb-abc6-6f49eef87dd9",
   "metadata": {},
   "outputs": [],
   "source": [
    "preds = pb_response.outputs['dense_7'].float_val"
   ]
  },
  {
   "cell_type": "code",
   "execution_count": 18,
   "id": "61791fae-1427-4e3c-a4e9-5357c4834410",
   "metadata": {},
   "outputs": [
    {
     "data": {
      "text/plain": [
       "{'dress': -1.8798645734786987,\n",
       " 'hat': -4.756311893463135,\n",
       " 'longsleeve': -2.3595333099365234,\n",
       " 'outwear': -1.0892642736434937,\n",
       " 'pants': 9.90378475189209,\n",
       " 'shirt': -2.826181173324585,\n",
       " 'shoes': -3.648310422897339,\n",
       " 'shorts': 3.2411563396453857,\n",
       " 'skirt': -2.612095832824707,\n",
       " 't-shirt': -4.852035999298096}"
      ]
     },
     "execution_count": 18,
     "metadata": {},
     "output_type": "execute_result"
    }
   ],
   "source": [
    "classes=[\n",
    "    'dress',\n",
    "    'hat',\n",
    "    'longsleeve',\n",
    "    'outwear',\n",
    "    'pants',\n",
    "    'shirt',\n",
    "    'shoes',\n",
    "    'shorts',\n",
    "    'skirt',\n",
    "    't-shirt'\n",
    "]\n",
    "\n",
    "dict(zip(classes, preds))"
   ]
  },
  {
   "cell_type": "code",
   "execution_count": null,
   "id": "8a0078a8-f34c-460e-ac84-8f26b2323fb0",
   "metadata": {},
   "outputs": [],
   "source": []
  }
 ],
 "metadata": {
  "kernelspec": {
   "display_name": "Python 3",
   "language": "python",
   "name": "python3"
  },
  "language_info": {
   "codemirror_mode": {
    "name": "ipython",
    "version": 3
   },
   "file_extension": ".py",
   "mimetype": "text/x-python",
   "name": "python",
   "nbconvert_exporter": "python",
   "pygments_lexer": "ipython3",
   "version": "3.9.12"
  }
 },
 "nbformat": 4,
 "nbformat_minor": 5
}
